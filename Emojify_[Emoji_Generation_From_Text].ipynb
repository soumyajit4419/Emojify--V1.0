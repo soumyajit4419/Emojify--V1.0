{
  "nbformat": 4,
  "nbformat_minor": 0,
  "metadata": {
    "colab": {
      "name": "Emojify [Emoji_Generation_From_Text].ipynb",
      "provenance": [],
      "collapsed_sections": []
    },
    "kernelspec": {
      "name": "python3",
      "display_name": "Python 3"
    },
    "accelerator": "GPU"
  },
  "cells": [
    {
      "cell_type": "code",
      "metadata": {
        "id": "BJISfQ071PGn",
        "colab_type": "code",
        "colab": {}
      },
      "source": [
        "import pandas as pd\n",
        "import numpy as np\n",
        "import matplotlib.pyplot as plt"
      ],
      "execution_count": 0,
      "outputs": []
    },
    {
      "cell_type": "code",
      "metadata": {
        "id": "qmxnw-uG3Btq",
        "colab_type": "code",
        "colab": {
          "base_uri": "https://localhost:8080/",
          "height": 34
        },
        "outputId": "2fb2b44a-6bb7-4c38-c56c-4dd88ae1ef77"
      },
      "source": [
        "import tensorflow as tf\n",
        "tf.__version__"
      ],
      "execution_count": 2,
      "outputs": [
        {
          "output_type": "execute_result",
          "data": {
            "text/plain": [
              "'2.2.0-rc3'"
            ]
          },
          "metadata": {
            "tags": []
          },
          "execution_count": 2
        }
      ]
    },
    {
      "cell_type": "code",
      "metadata": {
        "id": "h7_xmv853FmI",
        "colab_type": "code",
        "colab": {}
      },
      "source": [
        "from tensorflow.keras.preprocessing.text import Tokenizer\n",
        "from tensorflow.keras.preprocessing.sequence import pad_sequences"
      ],
      "execution_count": 0,
      "outputs": []
    },
    {
      "cell_type": "code",
      "metadata": {
        "id": "rMFjwJOwJB2Q",
        "colab_type": "code",
        "colab": {}
      },
      "source": [
        "from tensorflow.keras.models import Sequential\n",
        "from tensorflow.keras.layers import Dense\n",
        "from tensorflow.keras.layers import LSTM\n",
        "from tensorflow.keras.layers import Dropout\n",
        "from tensorflow.keras.layers import Bidirectional\n",
        "from tensorflow.keras.layers import Embedding"
      ],
      "execution_count": 0,
      "outputs": []
    },
    {
      "cell_type": "code",
      "metadata": {
        "id": "JKVuf7xbZV_Y",
        "colab_type": "code",
        "colab": {}
      },
      "source": [
        "from sklearn.metrics import classification_report\n",
        "from sklearn.metrics import confusion_matrix"
      ],
      "execution_count": 0,
      "outputs": []
    },
    {
      "cell_type": "code",
      "metadata": {
        "id": "OfezPacYl-OS",
        "colab_type": "code",
        "colab": {}
      },
      "source": [
        "import emoji"
      ],
      "execution_count": 0,
      "outputs": []
    },
    {
      "cell_type": "markdown",
      "metadata": {
        "id": "dee3uqPGI8Kf",
        "colab_type": "text"
      },
      "source": [
        "### Preparing Data"
      ]
    },
    {
      "cell_type": "code",
      "metadata": {
        "id": "JHKZqVdO3bYl",
        "colab_type": "code",
        "colab": {}
      },
      "source": [
        "df1=pd.read_csv('/content/drive/My Drive/Colab Notebooks/Emojify_Dataset/train_emoji.csv')"
      ],
      "execution_count": 0,
      "outputs": []
    },
    {
      "cell_type": "code",
      "metadata": {
        "id": "vzUlRA-S3oZg",
        "colab_type": "code",
        "colab": {
          "base_uri": "https://localhost:8080/",
          "height": 197
        },
        "outputId": "602cf642-4067-4424-c4c8-b12cc54efb12"
      },
      "source": [
        "df1.head()"
      ],
      "execution_count": 7,
      "outputs": [
        {
          "output_type": "execute_result",
          "data": {
            "text/html": [
              "<div>\n",
              "<style scoped>\n",
              "    .dataframe tbody tr th:only-of-type {\n",
              "        vertical-align: middle;\n",
              "    }\n",
              "\n",
              "    .dataframe tbody tr th {\n",
              "        vertical-align: top;\n",
              "    }\n",
              "\n",
              "    .dataframe thead th {\n",
              "        text-align: right;\n",
              "    }\n",
              "</style>\n",
              "<table border=\"1\" class=\"dataframe\">\n",
              "  <thead>\n",
              "    <tr style=\"text-align: right;\">\n",
              "      <th></th>\n",
              "      <th>Text</th>\n",
              "      <th>Labels</th>\n",
              "      <th>Unnamed: 2</th>\n",
              "      <th>Unnamed: 3</th>\n",
              "    </tr>\n",
              "  </thead>\n",
              "  <tbody>\n",
              "    <tr>\n",
              "      <th>0</th>\n",
              "      <td>I am proud of your achievements</td>\n",
              "      <td>2</td>\n",
              "      <td>NaN</td>\n",
              "      <td>NaN</td>\n",
              "    </tr>\n",
              "    <tr>\n",
              "      <th>1</th>\n",
              "      <td>It is the worst day in my life</td>\n",
              "      <td>3</td>\n",
              "      <td>NaN</td>\n",
              "      <td>NaN</td>\n",
              "    </tr>\n",
              "    <tr>\n",
              "      <th>2</th>\n",
              "      <td>Miss you so much</td>\n",
              "      <td>0</td>\n",
              "      <td>NaN</td>\n",
              "      <td>[0]</td>\n",
              "    </tr>\n",
              "    <tr>\n",
              "      <th>3</th>\n",
              "      <td>food is life</td>\n",
              "      <td>4</td>\n",
              "      <td>NaN</td>\n",
              "      <td>NaN</td>\n",
              "    </tr>\n",
              "    <tr>\n",
              "      <th>4</th>\n",
              "      <td>I love you mum</td>\n",
              "      <td>0</td>\n",
              "      <td>NaN</td>\n",
              "      <td>NaN</td>\n",
              "    </tr>\n",
              "  </tbody>\n",
              "</table>\n",
              "</div>"
            ],
            "text/plain": [
              "                              Text  Labels  Unnamed: 2 Unnamed: 3\n",
              "0  I am proud of your achievements       2         NaN        NaN\n",
              "1   It is the worst day in my life       3         NaN        NaN\n",
              "2                 Miss you so much       0         NaN        [0]\n",
              "3                     food is life       4         NaN        NaN\n",
              "4                   I love you mum       0         NaN        NaN"
            ]
          },
          "metadata": {
            "tags": []
          },
          "execution_count": 7
        }
      ]
    },
    {
      "cell_type": "code",
      "metadata": {
        "id": "_kCPd2ek553p",
        "colab_type": "code",
        "colab": {
          "base_uri": "https://localhost:8080/",
          "height": 34
        },
        "outputId": "d492bf11-ee70-4168-e065-ead42f1984b3"
      },
      "source": [
        "df1.shape"
      ],
      "execution_count": 8,
      "outputs": [
        {
          "output_type": "execute_result",
          "data": {
            "text/plain": [
              "(132, 4)"
            ]
          },
          "metadata": {
            "tags": []
          },
          "execution_count": 8
        }
      ]
    },
    {
      "cell_type": "code",
      "metadata": {
        "id": "cpFtpfPR7fTl",
        "colab_type": "code",
        "colab": {}
      },
      "source": [
        "df2=pd.read_csv('/content/drive/My Drive/Colab Notebooks/Emojify_Dataset/emojify_data.csv')"
      ],
      "execution_count": 0,
      "outputs": []
    },
    {
      "cell_type": "code",
      "metadata": {
        "id": "6m2jROZA7m8S",
        "colab_type": "code",
        "colab": {
          "base_uri": "https://localhost:8080/",
          "height": 197
        },
        "outputId": "99123808-0a25-4682-a4c0-d27f2afcb524"
      },
      "source": [
        "df2.head()"
      ],
      "execution_count": 10,
      "outputs": [
        {
          "output_type": "execute_result",
          "data": {
            "text/html": [
              "<div>\n",
              "<style scoped>\n",
              "    .dataframe tbody tr th:only-of-type {\n",
              "        vertical-align: middle;\n",
              "    }\n",
              "\n",
              "    .dataframe tbody tr th {\n",
              "        vertical-align: top;\n",
              "    }\n",
              "\n",
              "    .dataframe thead th {\n",
              "        text-align: right;\n",
              "    }\n",
              "</style>\n",
              "<table border=\"1\" class=\"dataframe\">\n",
              "  <thead>\n",
              "    <tr style=\"text-align: right;\">\n",
              "      <th></th>\n",
              "      <th>Text</th>\n",
              "      <th>Labels</th>\n",
              "      <th>Unnamed: 2</th>\n",
              "      <th>Unnamed: 3</th>\n",
              "    </tr>\n",
              "  </thead>\n",
              "  <tbody>\n",
              "    <tr>\n",
              "      <th>0</th>\n",
              "      <td>work is horrible</td>\n",
              "      <td>3</td>\n",
              "      <td>NaN</td>\n",
              "      <td>NaN</td>\n",
              "    </tr>\n",
              "    <tr>\n",
              "      <th>1</th>\n",
              "      <td>I am upset</td>\n",
              "      <td>3</td>\n",
              "      <td>NaN</td>\n",
              "      <td>[3]</td>\n",
              "    </tr>\n",
              "    <tr>\n",
              "      <th>2</th>\n",
              "      <td>throw the ball</td>\n",
              "      <td>1</td>\n",
              "      <td>NaN</td>\n",
              "      <td>[2]</td>\n",
              "    </tr>\n",
              "    <tr>\n",
              "      <th>3</th>\n",
              "      <td>Good joke</td>\n",
              "      <td>2</td>\n",
              "      <td>NaN</td>\n",
              "      <td>NaN</td>\n",
              "    </tr>\n",
              "    <tr>\n",
              "      <th>4</th>\n",
              "      <td>what is your favorite baseball game</td>\n",
              "      <td>1</td>\n",
              "      <td>NaN</td>\n",
              "      <td>NaN</td>\n",
              "    </tr>\n",
              "  </tbody>\n",
              "</table>\n",
              "</div>"
            ],
            "text/plain": [
              "                                  Text  Labels  Unnamed: 2 Unnamed: 3\n",
              "0                     work is horrible       3         NaN        NaN\n",
              "1                           I am upset       3         NaN        [3]\n",
              "2                       throw the ball       1         NaN        [2]\n",
              "3                            Good joke       2         NaN        NaN\n",
              "4  what is your favorite baseball game       1         NaN        NaN"
            ]
          },
          "metadata": {
            "tags": []
          },
          "execution_count": 10
        }
      ]
    },
    {
      "cell_type": "code",
      "metadata": {
        "id": "B47aPwGJ77BM",
        "colab_type": "code",
        "colab": {
          "base_uri": "https://localhost:8080/",
          "height": 34
        },
        "outputId": "7df8b229-51f3-42ff-92e7-cf0e3e5dbfa0"
      },
      "source": [
        "df2.shape"
      ],
      "execution_count": 11,
      "outputs": [
        {
          "output_type": "execute_result",
          "data": {
            "text/plain": [
              "(183, 4)"
            ]
          },
          "metadata": {
            "tags": []
          },
          "execution_count": 11
        }
      ]
    },
    {
      "cell_type": "code",
      "metadata": {
        "id": "7vj99JJL7oY5",
        "colab_type": "code",
        "colab": {}
      },
      "source": [
        "train_df=pd.concat([df1,df2],ignore_index=True)"
      ],
      "execution_count": 0,
      "outputs": []
    },
    {
      "cell_type": "code",
      "metadata": {
        "id": "iTPIv8yC79SS",
        "colab_type": "code",
        "colab": {
          "base_uri": "https://localhost:8080/",
          "height": 407
        },
        "outputId": "3e3470ea-4d51-430b-e21e-bcb222fb21cf"
      },
      "source": [
        "train_df"
      ],
      "execution_count": 13,
      "outputs": [
        {
          "output_type": "execute_result",
          "data": {
            "text/html": [
              "<div>\n",
              "<style scoped>\n",
              "    .dataframe tbody tr th:only-of-type {\n",
              "        vertical-align: middle;\n",
              "    }\n",
              "\n",
              "    .dataframe tbody tr th {\n",
              "        vertical-align: top;\n",
              "    }\n",
              "\n",
              "    .dataframe thead th {\n",
              "        text-align: right;\n",
              "    }\n",
              "</style>\n",
              "<table border=\"1\" class=\"dataframe\">\n",
              "  <thead>\n",
              "    <tr style=\"text-align: right;\">\n",
              "      <th></th>\n",
              "      <th>Text</th>\n",
              "      <th>Labels</th>\n",
              "      <th>Unnamed: 2</th>\n",
              "      <th>Unnamed: 3</th>\n",
              "    </tr>\n",
              "  </thead>\n",
              "  <tbody>\n",
              "    <tr>\n",
              "      <th>0</th>\n",
              "      <td>I am proud of your achievements</td>\n",
              "      <td>2</td>\n",
              "      <td>NaN</td>\n",
              "      <td>NaN</td>\n",
              "    </tr>\n",
              "    <tr>\n",
              "      <th>1</th>\n",
              "      <td>It is the worst day in my life</td>\n",
              "      <td>3</td>\n",
              "      <td>NaN</td>\n",
              "      <td>NaN</td>\n",
              "    </tr>\n",
              "    <tr>\n",
              "      <th>2</th>\n",
              "      <td>Miss you so much</td>\n",
              "      <td>0</td>\n",
              "      <td>NaN</td>\n",
              "      <td>[0]</td>\n",
              "    </tr>\n",
              "    <tr>\n",
              "      <th>3</th>\n",
              "      <td>food is life</td>\n",
              "      <td>4</td>\n",
              "      <td>NaN</td>\n",
              "      <td>NaN</td>\n",
              "    </tr>\n",
              "    <tr>\n",
              "      <th>4</th>\n",
              "      <td>I love you mum</td>\n",
              "      <td>0</td>\n",
              "      <td>NaN</td>\n",
              "      <td>NaN</td>\n",
              "    </tr>\n",
              "    <tr>\n",
              "      <th>...</th>\n",
              "      <td>...</td>\n",
              "      <td>...</td>\n",
              "      <td>...</td>\n",
              "      <td>...</td>\n",
              "    </tr>\n",
              "    <tr>\n",
              "      <th>310</th>\n",
              "      <td>dance with me</td>\n",
              "      <td>2</td>\n",
              "      <td>NaN</td>\n",
              "      <td>NaN</td>\n",
              "    </tr>\n",
              "    <tr>\n",
              "      <th>311</th>\n",
              "      <td>she is a bully</td>\n",
              "      <td>3</td>\n",
              "      <td>NaN</td>\n",
              "      <td>NaN</td>\n",
              "    </tr>\n",
              "    <tr>\n",
              "      <th>312</th>\n",
              "      <td>she plays baseball</td>\n",
              "      <td>1</td>\n",
              "      <td>NaN</td>\n",
              "      <td>NaN</td>\n",
              "    </tr>\n",
              "    <tr>\n",
              "      <th>313</th>\n",
              "      <td>I like it when people smile</td>\n",
              "      <td>2</td>\n",
              "      <td>NaN</td>\n",
              "      <td>NaN</td>\n",
              "    </tr>\n",
              "    <tr>\n",
              "      <th>314</th>\n",
              "      <td>French macaroon is so tasty</td>\n",
              "      <td>4</td>\n",
              "      <td>NaN</td>\n",
              "      <td>NaN</td>\n",
              "    </tr>\n",
              "  </tbody>\n",
              "</table>\n",
              "<p>315 rows × 4 columns</p>\n",
              "</div>"
            ],
            "text/plain": [
              "                                Text  Labels  Unnamed: 2 Unnamed: 3\n",
              "0    I am proud of your achievements       2         NaN        NaN\n",
              "1     It is the worst day in my life       3         NaN        NaN\n",
              "2                   Miss you so much       0         NaN        [0]\n",
              "3                       food is life       4         NaN        NaN\n",
              "4                     I love you mum       0         NaN        NaN\n",
              "..                               ...     ...         ...        ...\n",
              "310                    dance with me       2         NaN        NaN\n",
              "311                   she is a bully       3         NaN        NaN\n",
              "312               she plays baseball       1         NaN        NaN\n",
              "313      I like it when people smile       2         NaN        NaN\n",
              "314      French macaroon is so tasty       4         NaN        NaN\n",
              "\n",
              "[315 rows x 4 columns]"
            ]
          },
          "metadata": {
            "tags": []
          },
          "execution_count": 13
        }
      ]
    },
    {
      "cell_type": "code",
      "metadata": {
        "id": "AduHC6cR-8el",
        "colab_type": "code",
        "colab": {}
      },
      "source": [
        "test_df=pd.read_csv('/content/drive/My Drive/Colab Notebooks/Emojify_Dataset/test_emoji.csv')"
      ],
      "execution_count": 0,
      "outputs": []
    },
    {
      "cell_type": "code",
      "metadata": {
        "id": "fsao0AcJ_ByU",
        "colab_type": "code",
        "colab": {
          "base_uri": "https://localhost:8080/",
          "height": 197
        },
        "outputId": "d03b8021-89eb-40e8-f324-13a2e7fa52f8"
      },
      "source": [
        "test_df.head()"
      ],
      "execution_count": 15,
      "outputs": [
        {
          "output_type": "execute_result",
          "data": {
            "text/html": [
              "<div>\n",
              "<style scoped>\n",
              "    .dataframe tbody tr th:only-of-type {\n",
              "        vertical-align: middle;\n",
              "    }\n",
              "\n",
              "    .dataframe tbody tr th {\n",
              "        vertical-align: top;\n",
              "    }\n",
              "\n",
              "    .dataframe thead th {\n",
              "        text-align: right;\n",
              "    }\n",
              "</style>\n",
              "<table border=\"1\" class=\"dataframe\">\n",
              "  <thead>\n",
              "    <tr style=\"text-align: right;\">\n",
              "      <th></th>\n",
              "      <th>Text</th>\n",
              "      <th>Unnamed: 1</th>\n",
              "      <th>Labels</th>\n",
              "    </tr>\n",
              "  </thead>\n",
              "  <tbody>\n",
              "    <tr>\n",
              "      <th>0</th>\n",
              "      <td>he did not answer</td>\n",
              "      <td>NaN</td>\n",
              "      <td>3</td>\n",
              "    </tr>\n",
              "    <tr>\n",
              "      <th>1</th>\n",
              "      <td>he got a raise</td>\n",
              "      <td>NaN</td>\n",
              "      <td>2</td>\n",
              "    </tr>\n",
              "    <tr>\n",
              "      <th>2</th>\n",
              "      <td>she got me a present</td>\n",
              "      <td>NaN</td>\n",
              "      <td>0</td>\n",
              "    </tr>\n",
              "    <tr>\n",
              "      <th>3</th>\n",
              "      <td>ha ha ha it was so funny</td>\n",
              "      <td>NaN</td>\n",
              "      <td>2</td>\n",
              "    </tr>\n",
              "    <tr>\n",
              "      <th>4</th>\n",
              "      <td>he is a good friend</td>\n",
              "      <td>NaN</td>\n",
              "      <td>0</td>\n",
              "    </tr>\n",
              "  </tbody>\n",
              "</table>\n",
              "</div>"
            ],
            "text/plain": [
              "                       Text  Unnamed: 1  Labels\n",
              "0         he did not answer         NaN       3\n",
              "1            he got a raise         NaN       2\n",
              "2      she got me a present         NaN       0\n",
              "3  ha ha ha it was so funny         NaN       2\n",
              "4       he is a good friend         NaN       0"
            ]
          },
          "metadata": {
            "tags": []
          },
          "execution_count": 15
        }
      ]
    },
    {
      "cell_type": "markdown",
      "metadata": {
        "id": "7KRBU3dhJYff",
        "colab_type": "text"
      },
      "source": [
        "### Preparing Training and Testing Data"
      ]
    },
    {
      "cell_type": "code",
      "metadata": {
        "id": "koEurpIO-yu0",
        "colab_type": "code",
        "colab": {}
      },
      "source": [
        "x_train=train_df['Text']"
      ],
      "execution_count": 0,
      "outputs": []
    },
    {
      "cell_type": "code",
      "metadata": {
        "id": "HZLyaYB2JqQ1",
        "colab_type": "code",
        "colab": {}
      },
      "source": [
        "x_test=test_df['Text']"
      ],
      "execution_count": 0,
      "outputs": []
    },
    {
      "cell_type": "code",
      "metadata": {
        "id": "Cgm00X6aJ0KX",
        "colab_type": "code",
        "colab": {}
      },
      "source": [
        "y_train=train_df['Labels']"
      ],
      "execution_count": 0,
      "outputs": []
    },
    {
      "cell_type": "code",
      "metadata": {
        "id": "aibTM06fNWMX",
        "colab_type": "code",
        "colab": {
          "base_uri": "https://localhost:8080/",
          "height": 122
        },
        "outputId": "338a450a-bf20-47c4-a474-4961eb4f2557"
      },
      "source": [
        "y_train.value_counts()"
      ],
      "execution_count": 19,
      "outputs": [
        {
          "output_type": "execute_result",
          "data": {
            "text/plain": [
              "2    94\n",
              "3    88\n",
              "0    55\n",
              "4    40\n",
              "1    38\n",
              "Name: Labels, dtype: int64"
            ]
          },
          "metadata": {
            "tags": []
          },
          "execution_count": 19
        }
      ]
    },
    {
      "cell_type": "code",
      "metadata": {
        "id": "WNdYTHDiKCXr",
        "colab_type": "code",
        "colab": {}
      },
      "source": [
        "y_test=test_df['Labels']"
      ],
      "execution_count": 0,
      "outputs": []
    },
    {
      "cell_type": "code",
      "metadata": {
        "id": "sFHLtUvXYGDJ",
        "colab_type": "code",
        "colab": {
          "base_uri": "https://localhost:8080/",
          "height": 122
        },
        "outputId": "5acbde7a-c397-4bbf-9ca0-600b1d730067"
      },
      "source": [
        "y_test.value_counts()"
      ],
      "execution_count": 21,
      "outputs": [
        {
          "output_type": "execute_result",
          "data": {
            "text/plain": [
              "2    18\n",
              "3    15\n",
              "0    12\n",
              "4     6\n",
              "1     5\n",
              "Name: Labels, dtype: int64"
            ]
          },
          "metadata": {
            "tags": []
          },
          "execution_count": 21
        }
      ]
    },
    {
      "cell_type": "markdown",
      "metadata": {
        "id": "EErACjb8KIvK",
        "colab_type": "text"
      },
      "source": [
        "### Tokenizing And Text Preprocessing"
      ]
    },
    {
      "cell_type": "code",
      "metadata": {
        "id": "id3qJahFKHwn",
        "colab_type": "code",
        "colab": {}
      },
      "source": [
        "tokenizer=Tokenizer()"
      ],
      "execution_count": 0,
      "outputs": []
    },
    {
      "cell_type": "code",
      "metadata": {
        "id": "XIRVXcTnKWHp",
        "colab_type": "code",
        "colab": {}
      },
      "source": [
        "tokenizer.fit_on_texts(x_train)"
      ],
      "execution_count": 0,
      "outputs": []
    },
    {
      "cell_type": "code",
      "metadata": {
        "id": "H162roozKhst",
        "colab_type": "code",
        "colab": {
          "base_uri": "https://localhost:8080/",
          "height": 1000
        },
        "outputId": "8f8ef337-72c3-4ac9-99a1-3b746336a81e"
      },
      "source": [
        "word_index=tokenizer.word_index\n",
        "word_index"
      ],
      "execution_count": 24,
      "outputs": [
        {
          "output_type": "execute_result",
          "data": {
            "text/plain": [
              "{'a': 5,\n",
              " 'acceptance': 109,\n",
              " 'achievements': 104,\n",
              " 'adorable': 189,\n",
              " 'adore': 151,\n",
              " 'after': 133,\n",
              " 'afternoon': 236,\n",
              " 'again': 58,\n",
              " 'algorithm': 115,\n",
              " 'all': 279,\n",
              " 'alone': 165,\n",
              " 'always': 237,\n",
              " 'am': 6,\n",
              " 'amazing': 188,\n",
              " 'an': 187,\n",
              " 'and': 60,\n",
              " 'announcement': 184,\n",
              " 'answer': 86,\n",
              " 'any': 301,\n",
              " 'anything': 206,\n",
              " 'approved': 118,\n",
              " 'are': 10,\n",
              " 'around': 269,\n",
              " 'ask': 138,\n",
              " 'assignment': 110,\n",
              " 'at': 39,\n",
              " 'attractive': 140,\n",
              " 'away': 305,\n",
              " 'awesome': 257,\n",
              " 'awful': 168,\n",
              " 'baby': 95,\n",
              " 'back': 283,\n",
              " 'bad': 41,\n",
              " 'ball': 54,\n",
              " 'base': 229,\n",
              " 'baseball': 29,\n",
              " 'be': 289,\n",
              " 'best': 171,\n",
              " 'birthday': 308,\n",
              " 'boiled': 299,\n",
              " 'boring': 316,\n",
              " 'bravo': 81,\n",
              " 'break': 304,\n",
              " 'breakfast': 311,\n",
              " 'breaks': 296,\n",
              " 'brighten': 317,\n",
              " 'brunch': 135,\n",
              " 'bullshit': 108,\n",
              " 'bully': 318,\n",
              " 'but': 154,\n",
              " 'by': 79,\n",
              " 'cake': 233,\n",
              " 'can': 97,\n",
              " 'cancelled': 276,\n",
              " 'candy': 128,\n",
              " 'cannot': 197,\n",
              " 'catcher': 226,\n",
              " 'celebrate': 123,\n",
              " 'charming': 183,\n",
              " 'cheese': 232,\n",
              " 'chicago': 129,\n",
              " 'chinese': 181,\n",
              " 'code': 153,\n",
              " 'come': 198,\n",
              " 'coming': 126,\n",
              " 'congrats': 224,\n",
              " 'congratulation': 309,\n",
              " 'congratulations': 65,\n",
              " 'cooked': 169,\n",
              " 'cookies': 182,\n",
              " 'could': 222,\n",
              " 'cubs': 130,\n",
              " 'cute': 49,\n",
              " 'cutest': 238,\n",
              " 'dad': 219,\n",
              " 'dance': 258,\n",
              " 'dare': 137,\n",
              " 'date': 210,\n",
              " 'day': 44,\n",
              " 'dear': 208,\n",
              " 'dearest': 127,\n",
              " 'dedication': 200,\n",
              " 'deserve': 285,\n",
              " 'did': 23,\n",
              " 'dinner': 50,\n",
              " 'disappointed': 205,\n",
              " 'do': 25,\n",
              " 'dog': 177,\n",
              " 'dogs': 77,\n",
              " 'down': 52,\n",
              " 'during': 307,\n",
              " 'eat': 100,\n",
              " 'end': 163,\n",
              " 'enjoy': 303,\n",
              " 'ever': 240,\n",
              " 'exam': 134,\n",
              " 'excited': 72,\n",
              " 'exercise': 92,\n",
              " 'failed': 213,\n",
              " 'failing': 271,\n",
              " 'family': 278,\n",
              " 'favorite': 176,\n",
              " 'feeling': 274,\n",
              " 'few': 178,\n",
              " 'final': 263,\n",
              " 'finished': 122,\n",
              " 'first': 228,\n",
              " 'fon': 310,\n",
              " 'food': 26,\n",
              " 'for': 12,\n",
              " 'forever': 75,\n",
              " 'french': 147,\n",
              " 'friend': 293,\n",
              " 'friendly': 196,\n",
              " 'frustrated': 211,\n",
              " 'fun': 56,\n",
              " 'funny': 36,\n",
              " 'game': 47,\n",
              " 'gave': 155,\n",
              " 'get': 145,\n",
              " 'girl': 90,\n",
              " 'give': 215,\n",
              " 'go': 55,\n",
              " 'going': 172,\n",
              " 'good': 40,\n",
              " 'got': 24,\n",
              " 'grade': 160,\n",
              " 'grader': 91,\n",
              " 'grandmother': 297,\n",
              " 'great': 43,\n",
              " 'guy': 220,\n",
              " 'ha': 15,\n",
              " 'had': 61,\n",
              " 'haha': 158,\n",
              " 'handsome': 244,\n",
              " 'happy': 82,\n",
              " 'has': 113,\n",
              " 'hate': 180,\n",
              " 'have': 22,\n",
              " 'having': 294,\n",
              " 'he': 14,\n",
              " 'healthy': 243,\n",
              " 'her': 62,\n",
              " 'here': 246,\n",
              " 'him': 46,\n",
              " 'home': 250,\n",
              " 'homework': 231,\n",
              " 'horrible': 266,\n",
              " 'hours': 191,\n",
              " 'how': 87,\n",
              " 'hug': 216,\n",
              " 'humiliated': 166,\n",
              " 'hungry': 132,\n",
              " 'i': 1,\n",
              " 'impressed': 199,\n",
              " 'in': 83,\n",
              " 'incredibly': 173,\n",
              " 'indian': 248,\n",
              " 'intelligent': 174,\n",
              " 'is': 3,\n",
              " 'it': 20,\n",
              " 'jacket': 287,\n",
              " 'job': 35,\n",
              " 'join': 139,\n",
              " 'joke': 38,\n",
              " 'just': 71,\n",
              " 'killing': 157,\n",
              " 'kind': 195,\n",
              " 'laugh': 313,\n",
              " 'laughing': 143,\n",
              " 'lectures': 234,\n",
              " 'let': 270,\n",
              " 'lets': 48,\n",
              " 'life': 31,\n",
              " 'like': 27,\n",
              " 'likes': 70,\n",
              " 'limit': 114,\n",
              " 'lol': 57,\n",
              " 'long': 67,\n",
              " 'looking': 209,\n",
              " 'loser': 247,\n",
              " 'lost': 98,\n",
              " 'lot': 51,\n",
              " 'love': 18,\n",
              " 'lovely': 291,\n",
              " 'macaroon': 148,\n",
              " 'made': 150,\n",
              " 'make': 249,\n",
              " 'making': 314,\n",
              " 'man': 230,\n",
              " 'many': 259,\n",
              " 'me': 17,\n",
              " 'mean': 152,\n",
              " 'meat': 170,\n",
              " 'messing': 255,\n",
              " 'midterm': 214,\n",
              " 'miss': 32,\n",
              " 'missed': 161,\n",
              " 'moment': 202,\n",
              " 'much': 84,\n",
              " 'mum': 106,\n",
              " 'my': 8,\n",
              " 'near': 290,\n",
              " 'never': 103,\n",
              " 'new': 225,\n",
              " 'no': 68,\n",
              " 'not': 16,\n",
              " 'of': 30,\n",
              " 'on': 45,\n",
              " 'one': 121,\n",
              " 'ordering': 252,\n",
              " 'party': 275,\n",
              " 'people': 193,\n",
              " 'performs': 116,\n",
              " 'person': 239,\n",
              " 'pitch': 280,\n",
              " 'pizza': 159,\n",
              " 'plan': 120,\n",
              " 'play': 85,\n",
              " 'player': 93,\n",
              " 'playing': 262,\n",
              " 'plays': 186,\n",
              " 'points': 260,\n",
              " 'poorly': 117,\n",
              " 'position': 218,\n",
              " 'present': 288,\n",
              " 'prize': 286,\n",
              " 'project': 201,\n",
              " 'proud': 64,\n",
              " 'puppies': 179,\n",
              " 'qualified': 217,\n",
              " 'raise': 277,\n",
              " 'ready': 146,\n",
              " 'really': 281,\n",
              " 'restaurant': 102,\n",
              " 'rice': 300,\n",
              " 'rules': 264,\n",
              " 'run': 251,\n",
              " 'sad': 125,\n",
              " 'said': 73,\n",
              " 'saying': 107,\n",
              " 'score': 261,\n",
              " 'see': 88,\n",
              " 'seen': 241,\n",
              " 'serious': 312,\n",
              " 'she': 13,\n",
              " 'shouting': 69,\n",
              " 'sister': 167,\n",
              " 'smile': 63,\n",
              " 'smiles': 142,\n",
              " 'so': 7,\n",
              " 'solve': 223,\n",
              " 'some': 136,\n",
              " 'soon': 124,\n",
              " 'sounds': 119,\n",
              " 'specialization': 221,\n",
              " 'stadium': 94,\n",
              " 'stars': 282,\n",
              " 'starving': 298,\n",
              " 'stop': 33,\n",
              " 'stupid': 315,\n",
              " 'stupidity': 112,\n",
              " 'such': 99,\n",
              " 'suck': 141,\n",
              " 'sucks': 227,\n",
              " 'suggestions': 302,\n",
              " 'sushi': 203,\n",
              " 'takes': 144,\n",
              " 'taking': 295,\n",
              " 'talented': 175,\n",
              " 'talk': 254,\n",
              " 'tasty': 149,\n",
              " 'text': 111,\n",
              " 'that': 37,\n",
              " 'the': 4,\n",
              " 'they': 194,\n",
              " 'think': 162,\n",
              " 'this': 11,\n",
              " 'though': 235,\n",
              " 'throw': 268,\n",
              " 'to': 9,\n",
              " 'together': 207,\n",
              " 'tonight': 292,\n",
              " 'too': 66,\n",
              " 'totally': 284,\n",
              " 'traction': 185,\n",
              " 'two': 78,\n",
              " 'up': 164,\n",
              " 'upset': 267,\n",
              " 'us': 96,\n",
              " 'valentine': 256,\n",
              " 'vegetables': 242,\n",
              " 'very': 204,\n",
              " 'waiting': 190,\n",
              " 'wallet': 212,\n",
              " 'want': 21,\n",
              " 'was': 28,\n",
              " 'we': 76,\n",
              " 'well': 89,\n",
              " 'were': 245,\n",
              " 'what': 42,\n",
              " 'when': 192,\n",
              " 'where': 101,\n",
              " 'who': 80,\n",
              " 'why': 273,\n",
              " 'will': 34,\n",
              " 'with': 53,\n",
              " 'won': 131,\n",
              " 'work': 265,\n",
              " 'worked': 306,\n",
              " 'working': 59,\n",
              " 'worst': 105,\n",
              " 'wrong': 253,\n",
              " 'yes': 74,\n",
              " 'yesterday': 272,\n",
              " 'you': 2,\n",
              " 'your': 19,\n",
              " 'zero': 156}"
            ]
          },
          "metadata": {
            "tags": []
          },
          "execution_count": 24
        }
      ]
    },
    {
      "cell_type": "code",
      "metadata": {
        "id": "bEbdtJpRKp9Y",
        "colab_type": "code",
        "colab": {
          "base_uri": "https://localhost:8080/",
          "height": 34
        },
        "outputId": "25f6f24f-c918-48c9-bb90-7eccadfd500f"
      },
      "source": [
        "vocab_size=len(word_index)+1\n",
        "vocab_size"
      ],
      "execution_count": 25,
      "outputs": [
        {
          "output_type": "execute_result",
          "data": {
            "text/plain": [
              "319"
            ]
          },
          "metadata": {
            "tags": []
          },
          "execution_count": 25
        }
      ]
    },
    {
      "cell_type": "code",
      "metadata": {
        "id": "axQjycFHKcUf",
        "colab_type": "code",
        "colab": {}
      },
      "source": [
        "train_sequence=tokenizer.texts_to_sequences(x_train)\n",
        "train_padded=pad_sequences(train_sequence,maxlen=30)"
      ],
      "execution_count": 0,
      "outputs": []
    },
    {
      "cell_type": "code",
      "metadata": {
        "id": "lDC8mo_ILGS_",
        "colab_type": "code",
        "colab": {}
      },
      "source": [
        "test_sequence=tokenizer.texts_to_sequences(x_test)\n",
        "test_padded=pad_sequences(test_sequence,maxlen=30)"
      ],
      "execution_count": 0,
      "outputs": []
    },
    {
      "cell_type": "markdown",
      "metadata": {
        "id": "ga-zKeZHLNqw",
        "colab_type": "text"
      },
      "source": [
        "### Globe Embedding"
      ]
    },
    {
      "cell_type": "code",
      "metadata": {
        "id": "dIulF1WsLMiH",
        "colab_type": "code",
        "colab": {
          "base_uri": "https://localhost:8080/",
          "height": 559
        },
        "outputId": "b5d8d7f1-b3bd-4e8e-d364-41f4df05a858"
      },
      "source": [
        "# This is the 100 dimension version of GloVe from Stanford\n",
        "# I am using a api for faster access\n",
        "!wget --no-check-certificate \\\n",
        "    https://storage.googleapis.com/laurencemoroney-blog.appspot.com/glove.6B.100d.txt \\\n",
        "    -O /tmp/glove.6B.100d.txt\n",
        "embeddings_index = {};\n",
        "with open('/tmp/glove.6B.100d.txt') as f:\n",
        "    for line in f:\n",
        "        values = line.split();\n",
        "        word = values[0];\n",
        "        coefs = np.asarray(values[1:], dtype='float32');\n",
        "        embeddings_index[word] = coefs;\n",
        "\n",
        "embeddings_matrix = np.zeros((vocab_size,100));\n",
        "for word, i in word_index.items():\n",
        "    embedding_vector = embeddings_index.get(word);\n",
        "    if embedding_vector is not None:\n",
        "        embeddings_matrix[i] = embedding_vector;"
      ],
      "execution_count": 28,
      "outputs": [
        {
          "output_type": "stream",
          "text": [
            "--2020-04-28 16:18:07--  https://storage.googleapis.com/laurencemoroney-blog.appspot.com/glove.6B.100d.txt\n",
            "Resolving storage.googleapis.com (storage.googleapis.com)... 173.194.76.128, 2a00:1450:400c:c00::80\n",
            "Connecting to storage.googleapis.com (storage.googleapis.com)|173.194.76.128|:443... connected.\n",
            "HTTP request sent, awaiting response... 200 OK\n",
            "Length: 347116733 (331M) [text/plain]\n",
            "Saving to: ‘/tmp/glove.6B.100d.txt’\n",
            "\n",
            "/tmp/glove.6B.100d.  14%[=>                  ]  48.00M  --.-KB/s    in 28s     \n",
            "\n",
            "2020-04-28 16:18:38 (1.71 MB/s) - Connection closed at byte 50331648. Retrying.\n",
            "\n",
            "--2020-04-28 16:18:39--  (try: 2)  https://storage.googleapis.com/laurencemoroney-blog.appspot.com/glove.6B.100d.txt\n",
            "Connecting to storage.googleapis.com (storage.googleapis.com)|173.194.76.128|:443... connected.\n",
            "HTTP request sent, awaiting response... 206 Partial Content\n",
            "Length: 347116733 (331M), 296785085 (283M) remaining [text/plain]\n",
            "Saving to: ‘/tmp/glove.6B.100d.txt’\n",
            "\n",
            "/tmp/glove.6B.100d.  26%[++==>               ]  88.00M  --.-KB/s    in 22s     \n",
            "\n",
            "2020-04-28 16:19:02 (1.82 MB/s) - Connection closed at byte 92274688. Retrying.\n",
            "\n",
            "--2020-04-28 16:19:04--  (try: 3)  https://storage.googleapis.com/laurencemoroney-blog.appspot.com/glove.6B.100d.txt\n",
            "Connecting to storage.googleapis.com (storage.googleapis.com)|173.194.76.128|:443... connected.\n",
            "HTTP request sent, awaiting response... 206 Partial Content\n",
            "Length: 347116733 (331M), 254842045 (243M) remaining [text/plain]\n",
            "Saving to: ‘/tmp/glove.6B.100d.txt’\n",
            "\n",
            "/tmp/glove.6B.100d. 100%[+++++==============>] 331.04M  83.0MB/s    in 2.9s    \n",
            "\n",
            "2020-04-28 16:19:07 (83.0 MB/s) - ‘/tmp/glove.6B.100d.txt’ saved [347116733/347116733]\n",
            "\n"
          ],
          "name": "stdout"
        }
      ]
    },
    {
      "cell_type": "markdown",
      "metadata": {
        "id": "auDjlEiiMAJI",
        "colab_type": "text"
      },
      "source": [
        "### Building Model and Testing Accuracy\n"
      ]
    },
    {
      "cell_type": "markdown",
      "metadata": {
        "id": "IL9BydyqMEsX",
        "colab_type": "text"
      },
      "source": [
        "#### Single Layer Bidirectional LSTM\n"
      ]
    },
    {
      "cell_type": "code",
      "metadata": {
        "id": "FPgrJnKLL8tX",
        "colab_type": "code",
        "colab": {}
      },
      "source": [
        "model1=Sequential()"
      ],
      "execution_count": 0,
      "outputs": []
    },
    {
      "cell_type": "code",
      "metadata": {
        "id": "z-3FkEL_MP6q",
        "colab_type": "code",
        "colab": {}
      },
      "source": [
        "model1.add(Embedding(vocab_size,100,input_length=30,weights=[embeddings_matrix],trainable=False))\n",
        "model1.add(Dropout(0.3))\n",
        "model1.add(Bidirectional(LSTM(32)))\n",
        "model1.add(Dense(5,activation='softmax'))"
      ],
      "execution_count": 0,
      "outputs": []
    },
    {
      "cell_type": "code",
      "metadata": {
        "id": "0O6oE-iQNDzd",
        "colab_type": "code",
        "colab": {
          "base_uri": "https://localhost:8080/",
          "height": 297
        },
        "outputId": "637da986-a4e3-4368-e179-cac285171041"
      },
      "source": [
        "model1.summary()"
      ],
      "execution_count": 31,
      "outputs": [
        {
          "output_type": "stream",
          "text": [
            "Model: \"sequential\"\n",
            "_________________________________________________________________\n",
            "Layer (type)                 Output Shape              Param #   \n",
            "=================================================================\n",
            "embedding (Embedding)        (None, 30, 100)           31900     \n",
            "_________________________________________________________________\n",
            "dropout (Dropout)            (None, 30, 100)           0         \n",
            "_________________________________________________________________\n",
            "bidirectional (Bidirectional (None, 64)                34048     \n",
            "_________________________________________________________________\n",
            "dense (Dense)                (None, 5)                 325       \n",
            "=================================================================\n",
            "Total params: 66,273\n",
            "Trainable params: 34,373\n",
            "Non-trainable params: 31,900\n",
            "_________________________________________________________________\n"
          ],
          "name": "stdout"
        }
      ]
    },
    {
      "cell_type": "code",
      "metadata": {
        "id": "DzMdwUaJNG0J",
        "colab_type": "code",
        "colab": {}
      },
      "source": [
        "model1.compile(optimizer='adam',loss='sparse_categorical_crossentropy',metrics=['accuracy'])"
      ],
      "execution_count": 0,
      "outputs": []
    },
    {
      "cell_type": "code",
      "metadata": {
        "id": "jpJBPKc0Nl1j",
        "colab_type": "code",
        "colab": {
          "base_uri": "https://localhost:8080/",
          "height": 1000
        },
        "outputId": "f87f4c21-68fe-41bc-8222-6cc301bc1dae"
      },
      "source": [
        "history=model1.fit(train_padded,y_train,epochs=30,validation_data=(test_padded,y_test))"
      ],
      "execution_count": 33,
      "outputs": [
        {
          "output_type": "stream",
          "text": [
            "Epoch 1/30\n",
            "10/10 [==============================] - 1s 108ms/step - loss: 1.6091 - accuracy: 0.2571 - val_loss: 1.5723 - val_accuracy: 0.3929\n",
            "Epoch 2/30\n",
            "10/10 [==============================] - 0s 18ms/step - loss: 1.5305 - accuracy: 0.3270 - val_loss: 1.4913 - val_accuracy: 0.3929\n",
            "Epoch 3/30\n",
            "10/10 [==============================] - 0s 17ms/step - loss: 1.4607 - accuracy: 0.4000 - val_loss: 1.4258 - val_accuracy: 0.4643\n",
            "Epoch 4/30\n",
            "10/10 [==============================] - 0s 17ms/step - loss: 1.3823 - accuracy: 0.4349 - val_loss: 1.3381 - val_accuracy: 0.5000\n",
            "Epoch 5/30\n",
            "10/10 [==============================] - 0s 18ms/step - loss: 1.2678 - accuracy: 0.4921 - val_loss: 1.2111 - val_accuracy: 0.5714\n",
            "Epoch 6/30\n",
            "10/10 [==============================] - 0s 17ms/step - loss: 1.1467 - accuracy: 0.5968 - val_loss: 1.1301 - val_accuracy: 0.5714\n",
            "Epoch 7/30\n",
            "10/10 [==============================] - 0s 17ms/step - loss: 1.0564 - accuracy: 0.6286 - val_loss: 1.1240 - val_accuracy: 0.6429\n",
            "Epoch 8/30\n",
            "10/10 [==============================] - 0s 18ms/step - loss: 0.9811 - accuracy: 0.6667 - val_loss: 1.0406 - val_accuracy: 0.5893\n",
            "Epoch 9/30\n",
            "10/10 [==============================] - 0s 17ms/step - loss: 0.9124 - accuracy: 0.7365 - val_loss: 0.9932 - val_accuracy: 0.6250\n",
            "Epoch 10/30\n",
            "10/10 [==============================] - 0s 17ms/step - loss: 0.8174 - accuracy: 0.7778 - val_loss: 0.8402 - val_accuracy: 0.6607\n",
            "Epoch 11/30\n",
            "10/10 [==============================] - 0s 16ms/step - loss: 0.7464 - accuracy: 0.7619 - val_loss: 0.8235 - val_accuracy: 0.6607\n",
            "Epoch 12/30\n",
            "10/10 [==============================] - 0s 17ms/step - loss: 0.7061 - accuracy: 0.7460 - val_loss: 0.7626 - val_accuracy: 0.6964\n",
            "Epoch 13/30\n",
            "10/10 [==============================] - 0s 17ms/step - loss: 0.6307 - accuracy: 0.8000 - val_loss: 0.7190 - val_accuracy: 0.7143\n",
            "Epoch 14/30\n",
            "10/10 [==============================] - 0s 17ms/step - loss: 0.5902 - accuracy: 0.8444 - val_loss: 0.7068 - val_accuracy: 0.7857\n",
            "Epoch 15/30\n",
            "10/10 [==============================] - 0s 17ms/step - loss: 0.5655 - accuracy: 0.8159 - val_loss: 0.6457 - val_accuracy: 0.7679\n",
            "Epoch 16/30\n",
            "10/10 [==============================] - 0s 17ms/step - loss: 0.5330 - accuracy: 0.8349 - val_loss: 0.6198 - val_accuracy: 0.8036\n",
            "Epoch 17/30\n",
            "10/10 [==============================] - 0s 17ms/step - loss: 0.4847 - accuracy: 0.8508 - val_loss: 0.5883 - val_accuracy: 0.8036\n",
            "Epoch 18/30\n",
            "10/10 [==============================] - 0s 17ms/step - loss: 0.4470 - accuracy: 0.8635 - val_loss: 0.5193 - val_accuracy: 0.8393\n",
            "Epoch 19/30\n",
            "10/10 [==============================] - 0s 17ms/step - loss: 0.4235 - accuracy: 0.8667 - val_loss: 0.5024 - val_accuracy: 0.8393\n",
            "Epoch 20/30\n",
            "10/10 [==============================] - 0s 17ms/step - loss: 0.4284 - accuracy: 0.8698 - val_loss: 0.4856 - val_accuracy: 0.8393\n",
            "Epoch 21/30\n",
            "10/10 [==============================] - 0s 17ms/step - loss: 0.3709 - accuracy: 0.9016 - val_loss: 0.4323 - val_accuracy: 0.8750\n",
            "Epoch 22/30\n",
            "10/10 [==============================] - 0s 17ms/step - loss: 0.3513 - accuracy: 0.8825 - val_loss: 0.4123 - val_accuracy: 0.8571\n",
            "Epoch 23/30\n",
            "10/10 [==============================] - 0s 17ms/step - loss: 0.3406 - accuracy: 0.8857 - val_loss: 0.3959 - val_accuracy: 0.8929\n",
            "Epoch 24/30\n",
            "10/10 [==============================] - 0s 19ms/step - loss: 0.3173 - accuracy: 0.9175 - val_loss: 0.4617 - val_accuracy: 0.8571\n",
            "Epoch 25/30\n",
            "10/10 [==============================] - 0s 17ms/step - loss: 0.3455 - accuracy: 0.8984 - val_loss: 0.4084 - val_accuracy: 0.8393\n",
            "Epoch 26/30\n",
            "10/10 [==============================] - 0s 18ms/step - loss: 0.3301 - accuracy: 0.8952 - val_loss: 0.4215 - val_accuracy: 0.8571\n",
            "Epoch 27/30\n",
            "10/10 [==============================] - 0s 17ms/step - loss: 0.3032 - accuracy: 0.9016 - val_loss: 0.3393 - val_accuracy: 0.8929\n",
            "Epoch 28/30\n",
            "10/10 [==============================] - 0s 17ms/step - loss: 0.2882 - accuracy: 0.9048 - val_loss: 0.3682 - val_accuracy: 0.8750\n",
            "Epoch 29/30\n",
            "10/10 [==============================] - 0s 17ms/step - loss: 0.2700 - accuracy: 0.9238 - val_loss: 0.3203 - val_accuracy: 0.9107\n",
            "Epoch 30/30\n",
            "10/10 [==============================] - 0s 17ms/step - loss: 0.2505 - accuracy: 0.9270 - val_loss: 0.2948 - val_accuracy: 0.9107\n"
          ],
          "name": "stdout"
        }
      ]
    },
    {
      "cell_type": "code",
      "metadata": {
        "id": "TUW1LuJkN6KY",
        "colab_type": "code",
        "colab": {
          "base_uri": "https://localhost:8080/",
          "height": 374
        },
        "outputId": "f211174c-e9c7-439a-a236-33aae50b33f7"
      },
      "source": [
        "fig,(ax1,ax2)=plt.subplots(nrows=1,ncols=2,figsize=(20,6))\n",
        "ax1.plot(history.history['accuracy'],label='train_accuracy')\n",
        "ax1.plot(history.history['val_accuracy'],label='test_accuracy')\n",
        "ax1.legend()\n",
        "ax2.plot(history.history['loss'],label='train_loss')\n",
        "ax2.plot(history.history['val_loss'],label='test_loss')\n",
        "ax2.legend()\n",
        "plt.show()"
      ],
      "execution_count": 34,
      "outputs": [
        {
          "output_type": "display_data",
          "data": {
            "image/png": "[encoded data removed]",
            "text/plain": [
              "<Figure size 1440x432 with 2 Axes>"
            ]
          },
          "metadata": {
            "tags": [],
            "needs_background": "light"
          }
        }
      ]
    },
    {
      "cell_type": "markdown",
      "metadata": {
        "id": "ypwM9_8QOc9U",
        "colab_type": "text"
      },
      "source": [
        "### Multilayer Bidirectional LSTM"
      ]
    },
    {
      "cell_type": "code",
      "metadata": {
        "id": "SAGlDNpqOhk5",
        "colab_type": "code",
        "colab": {}
      },
      "source": [
        "model2=Sequential()"
      ],
      "execution_count": 0,
      "outputs": []
    },
    {
      "cell_type": "code",
      "metadata": {
        "id": "Gmf7MUpKPz_f",
        "colab_type": "code",
        "colab": {}
      },
      "source": [
        "model2.add(Embedding(vocab_size,100,input_length=30,weights=[embeddings_matrix],trainable=False))\n",
        "model2.add(Dropout(0.3))\n",
        "model2.add(Bidirectional(LSTM(32,return_sequences=True)))\n",
        "model2.add(Dropout(0.3))\n",
        "model2.add(Bidirectional(LSTM(32)))\n",
        "model2.add(Dense(5,activation='softmax'))"
      ],
      "execution_count": 0,
      "outputs": []
    },
    {
      "cell_type": "code",
      "metadata": {
        "id": "vb61wLB2P_pu",
        "colab_type": "code",
        "colab": {
          "base_uri": "https://localhost:8080/",
          "height": 367
        },
        "outputId": "96de8b19-6695-48c4-9053-c1aeec9ae7c9"
      },
      "source": [
        "model2.summary()"
      ],
      "execution_count": 37,
      "outputs": [
        {
          "output_type": "stream",
          "text": [
            "Model: \"sequential_1\"\n",
            "_________________________________________________________________\n",
            "Layer (type)                 Output Shape              Param #   \n",
            "=================================================================\n",
            "embedding_1 (Embedding)      (None, 30, 100)           31900     \n",
            "_________________________________________________________________\n",
            "dropout_1 (Dropout)          (None, 30, 100)           0         \n",
            "_________________________________________________________________\n",
            "bidirectional_1 (Bidirection (None, 30, 64)            34048     \n",
            "_________________________________________________________________\n",
            "dropout_2 (Dropout)          (None, 30, 64)            0         \n",
            "_________________________________________________________________\n",
            "bidirectional_2 (Bidirection (None, 64)                24832     \n",
            "_________________________________________________________________\n",
            "dense_1 (Dense)              (None, 5)                 325       \n",
            "=================================================================\n",
            "Total params: 91,105\n",
            "Trainable params: 59,205\n",
            "Non-trainable params: 31,900\n",
            "_________________________________________________________________\n"
          ],
          "name": "stdout"
        }
      ]
    },
    {
      "cell_type": "code",
      "metadata": {
        "id": "gb003YEGQFCR",
        "colab_type": "code",
        "colab": {}
      },
      "source": [
        "model2.compile(optimizer='adam',loss='sparse_categorical_crossentropy',metrics=['accuracy'])"
      ],
      "execution_count": 0,
      "outputs": []
    },
    {
      "cell_type": "code",
      "metadata": {
        "id": "QJuUItuyQIIy",
        "colab_type": "code",
        "colab": {
          "base_uri": "https://localhost:8080/",
          "height": 1000
        },
        "outputId": "dead173e-8f57-48c2-d14b-8b546d43b28d"
      },
      "source": [
        "history=model2.fit(train_padded,y_train,epochs=35,validation_data=(test_padded,y_test))"
      ],
      "execution_count": 39,
      "outputs": [
        {
          "output_type": "stream",
          "text": [
            "Epoch 1/35\n",
            "10/10 [==============================] - 2s 167ms/step - loss: 1.5535 - accuracy: 0.3143 - val_loss: 1.5045 - val_accuracy: 0.3393\n",
            "Epoch 2/35\n",
            "10/10 [==============================] - 0s 32ms/step - loss: 1.4821 - accuracy: 0.3778 - val_loss: 1.4427 - val_accuracy: 0.4107\n",
            "Epoch 3/35\n",
            "10/10 [==============================] - 0s 31ms/step - loss: 1.4103 - accuracy: 0.4159 - val_loss: 1.3662 - val_accuracy: 0.4107\n",
            "Epoch 4/35\n",
            "10/10 [==============================] - 0s 31ms/step - loss: 1.2746 - accuracy: 0.4952 - val_loss: 1.2001 - val_accuracy: 0.5357\n",
            "Epoch 5/35\n",
            "10/10 [==============================] - 0s 32ms/step - loss: 1.0978 - accuracy: 0.6127 - val_loss: 1.0972 - val_accuracy: 0.5357\n",
            "Epoch 6/35\n",
            "10/10 [==============================] - 0s 31ms/step - loss: 0.9695 - accuracy: 0.6476 - val_loss: 1.0648 - val_accuracy: 0.5000\n",
            "Epoch 7/35\n",
            "10/10 [==============================] - 0s 31ms/step - loss: 0.8584 - accuracy: 0.6825 - val_loss: 0.8400 - val_accuracy: 0.6786\n",
            "Epoch 8/35\n",
            "10/10 [==============================] - 0s 31ms/step - loss: 0.7915 - accuracy: 0.7048 - val_loss: 0.7914 - val_accuracy: 0.6607\n",
            "Epoch 9/35\n",
            "10/10 [==============================] - 0s 31ms/step - loss: 0.6638 - accuracy: 0.7841 - val_loss: 0.7112 - val_accuracy: 0.7143\n",
            "Epoch 10/35\n",
            "10/10 [==============================] - 0s 31ms/step - loss: 0.6017 - accuracy: 0.7683 - val_loss: 0.6690 - val_accuracy: 0.7321\n",
            "Epoch 11/35\n",
            "10/10 [==============================] - 0s 31ms/step - loss: 0.5120 - accuracy: 0.8222 - val_loss: 0.6766 - val_accuracy: 0.7321\n",
            "Epoch 12/35\n",
            "10/10 [==============================] - 0s 31ms/step - loss: 0.5200 - accuracy: 0.7683 - val_loss: 0.6337 - val_accuracy: 0.7500\n",
            "Epoch 13/35\n",
            "10/10 [==============================] - 0s 31ms/step - loss: 0.4847 - accuracy: 0.8254 - val_loss: 0.5214 - val_accuracy: 0.8036\n",
            "Epoch 14/35\n",
            "10/10 [==============================] - 0s 32ms/step - loss: 0.4774 - accuracy: 0.8222 - val_loss: 0.5268 - val_accuracy: 0.7857\n",
            "Epoch 15/35\n",
            "10/10 [==============================] - 0s 31ms/step - loss: 0.4615 - accuracy: 0.8286 - val_loss: 0.4531 - val_accuracy: 0.8214\n",
            "Epoch 16/35\n",
            "10/10 [==============================] - 0s 31ms/step - loss: 0.4322 - accuracy: 0.8190 - val_loss: 0.4910 - val_accuracy: 0.8036\n",
            "Epoch 17/35\n",
            "10/10 [==============================] - 0s 31ms/step - loss: 0.3290 - accuracy: 0.9016 - val_loss: 0.4089 - val_accuracy: 0.8393\n",
            "Epoch 18/35\n",
            "10/10 [==============================] - 0s 32ms/step - loss: 0.3455 - accuracy: 0.8794 - val_loss: 0.5221 - val_accuracy: 0.7857\n",
            "Epoch 19/35\n",
            "10/10 [==============================] - 0s 31ms/step - loss: 0.3433 - accuracy: 0.8952 - val_loss: 0.4208 - val_accuracy: 0.8393\n",
            "Epoch 20/35\n",
            "10/10 [==============================] - 0s 32ms/step - loss: 0.3689 - accuracy: 0.8825 - val_loss: 0.4445 - val_accuracy: 0.8750\n",
            "Epoch 21/35\n",
            "10/10 [==============================] - 0s 32ms/step - loss: 0.2844 - accuracy: 0.9175 - val_loss: 0.3443 - val_accuracy: 0.8750\n",
            "Epoch 22/35\n",
            "10/10 [==============================] - 0s 31ms/step - loss: 0.2649 - accuracy: 0.9048 - val_loss: 0.3736 - val_accuracy: 0.8750\n",
            "Epoch 23/35\n",
            "10/10 [==============================] - 0s 31ms/step - loss: 0.2707 - accuracy: 0.9048 - val_loss: 0.3340 - val_accuracy: 0.8929\n",
            "Epoch 24/35\n",
            "10/10 [==============================] - 0s 31ms/step - loss: 0.2711 - accuracy: 0.9175 - val_loss: 0.3050 - val_accuracy: 0.9107\n",
            "Epoch 25/35\n",
            "10/10 [==============================] - 0s 31ms/step - loss: 0.2932 - accuracy: 0.8825 - val_loss: 0.3852 - val_accuracy: 0.8571\n",
            "Epoch 26/35\n",
            "10/10 [==============================] - 0s 31ms/step - loss: 0.2607 - accuracy: 0.9111 - val_loss: 0.3150 - val_accuracy: 0.9107\n",
            "Epoch 27/35\n",
            "10/10 [==============================] - 0s 31ms/step - loss: 0.2550 - accuracy: 0.9111 - val_loss: 0.3336 - val_accuracy: 0.8750\n",
            "Epoch 28/35\n",
            "10/10 [==============================] - 0s 32ms/step - loss: 0.2259 - accuracy: 0.9175 - val_loss: 0.3214 - val_accuracy: 0.8750\n",
            "Epoch 29/35\n",
            "10/10 [==============================] - 0s 31ms/step - loss: 0.2017 - accuracy: 0.9333 - val_loss: 0.3367 - val_accuracy: 0.9107\n",
            "Epoch 30/35\n",
            "10/10 [==============================] - 0s 31ms/step - loss: 0.1633 - accuracy: 0.9429 - val_loss: 0.3481 - val_accuracy: 0.8571\n",
            "Epoch 31/35\n",
            "10/10 [==============================] - 0s 32ms/step - loss: 0.2416 - accuracy: 0.9079 - val_loss: 0.3377 - val_accuracy: 0.8750\n",
            "Epoch 32/35\n",
            "10/10 [==============================] - 0s 31ms/step - loss: 0.2443 - accuracy: 0.9079 - val_loss: 0.2562 - val_accuracy: 0.9464\n",
            "Epoch 33/35\n",
            "10/10 [==============================] - 0s 31ms/step - loss: 0.1980 - accuracy: 0.9429 - val_loss: 0.2657 - val_accuracy: 0.9286\n",
            "Epoch 34/35\n",
            "10/10 [==============================] - 0s 32ms/step - loss: 0.2293 - accuracy: 0.9143 - val_loss: 0.2395 - val_accuracy: 0.9464\n",
            "Epoch 35/35\n",
            "10/10 [==============================] - 0s 31ms/step - loss: 0.2042 - accuracy: 0.9270 - val_loss: 0.2492 - val_accuracy: 0.9286\n"
          ],
          "name": "stdout"
        }
      ]
    },
    {
      "cell_type": "code",
      "metadata": {
        "id": "4mcidir0QNCw",
        "colab_type": "code",
        "colab": {
          "base_uri": "https://localhost:8080/",
          "height": 374
        },
        "outputId": "47cc00a0-d2fb-485e-de9e-f5c748dffea6"
      },
      "source": [
        "fig,(ax1,ax2)=plt.subplots(nrows=1,ncols=2,figsize=(20,6))\n",
        "ax1.plot(history.history['accuracy'],label='train_accuracy')\n",
        "ax1.plot(history.history['val_accuracy'],label='test_accuracy')\n",
        "ax1.legend()\n",
        "ax2.plot(history.history['loss'],label='train_loss')\n",
        "ax2.plot(history.history['val_loss'],label='test_loss')\n",
        "ax2.legend()\n",
        "plt.show()"
      ],
      "execution_count": 40,
      "outputs": [
        {
          "output_type": "display_data",
          "data": {
            "image/png": "[encoded data removed]",
            "text/plain": [
              "<Figure size 1440x432 with 2 Axes>"
            ]
          },
          "metadata": {
            "tags": [],
            "needs_background": "light"
          }
        }
      ]
    },
    {
      "cell_type": "markdown",
      "metadata": {
        "id": "YoavwPStQnKG",
        "colab_type": "text"
      },
      "source": [
        "### Multilayer Bidirectional LSTM is a better model and gives a good accuracy of 92%"
      ]
    },
    {
      "cell_type": "code",
      "metadata": {
        "id": "coKppUu-ZAzD",
        "colab_type": "code",
        "colab": {
          "base_uri": "https://localhost:8080/",
          "height": 89
        },
        "outputId": "f5c5a417-6424-4989-dcce-b0ae6d1b17f1"
      },
      "source": [
        "prediction=model2.predict_classes(test_padded)"
      ],
      "execution_count": 41,
      "outputs": [
        {
          "output_type": "stream",
          "text": [
            "WARNING:tensorflow:From <ipython-input-41-810651ce76c5>:1: Sequential.predict_classes (from tensorflow.python.keras.engine.sequential) is deprecated and will be removed after 2021-01-01.\n",
            "Instructions for updating:\n",
            "Please use instead:* `np.argmax(model.predict(x), axis=-1)`,   if your model does multi-class classification   (e.g. if it uses a `softmax` last-layer activation).* `(model.predict(x) > 0.5).astype(\"int32\")`,   if your model does binary classification   (e.g. if it uses a `sigmoid` last-layer activation).\n"
          ],
          "name": "stdout"
        }
      ]
    },
    {
      "cell_type": "code",
      "metadata": {
        "id": "02A9pWPQZUvp",
        "colab_type": "code",
        "colab": {
          "base_uri": "https://localhost:8080/",
          "height": 227
        },
        "outputId": "3d32ec03-8b6e-4725-8e3d-32f01764749a"
      },
      "source": [
        "print(classification_report(y_test,prediction))"
      ],
      "execution_count": 42,
      "outputs": [
        {
          "output_type": "stream",
          "text": [
            "              precision    recall  f1-score   support\n",
            "\n",
            "           0       0.85      0.92      0.88        12\n",
            "           1       1.00      1.00      1.00         5\n",
            "           2       0.94      0.89      0.91        18\n",
            "           3       0.93      0.93      0.93        15\n",
            "           4       1.00      1.00      1.00         6\n",
            "\n",
            "    accuracy                           0.93        56\n",
            "   macro avg       0.94      0.95      0.95        56\n",
            "weighted avg       0.93      0.93      0.93        56\n",
            "\n"
          ],
          "name": "stdout"
        }
      ]
    },
    {
      "cell_type": "code",
      "metadata": {
        "id": "kU_2wfcuZmqv",
        "colab_type": "code",
        "colab": {
          "base_uri": "https://localhost:8080/",
          "height": 104
        },
        "outputId": "58dcd6c2-30c6-4853-d4a5-d25cbeb87334"
      },
      "source": [
        "confusion_matrix(y_test,prediction)"
      ],
      "execution_count": 43,
      "outputs": [
        {
          "output_type": "execute_result",
          "data": {
            "text/plain": [
              "array([[11,  0,  0,  1,  0],\n",
              "       [ 0,  5,  0,  0,  0],\n",
              "       [ 2,  0, 16,  0,  0],\n",
              "       [ 0,  0,  1, 14,  0],\n",
              "       [ 0,  0,  0,  0,  6]])"
            ]
          },
          "metadata": {
            "tags": []
          },
          "execution_count": 43
        }
      ]
    },
    {
      "cell_type": "markdown",
      "metadata": {
        "id": "eweQs7uxQ0yS",
        "colab_type": "text"
      },
      "source": [
        "### Predicting With some new values"
      ]
    },
    {
      "cell_type": "code",
      "metadata": {
        "id": "r4tDVbxfWaMC",
        "colab_type": "code",
        "colab": {}
      },
      "source": [
        "emoji_dict={0:['heart',':heart:'],1:['baseball',':baseball:'],2:['smile',':smile:'],3:['disappoined',':disappointed:'],4:['fork and knife',':fork_and_knife:']}"
      ],
      "execution_count": 0,
      "outputs": []
    },
    {
      "cell_type": "code",
      "metadata": {
        "id": "X7C4FwqdQlm0",
        "colab_type": "code",
        "colab": {
          "base_uri": "https://localhost:8080/",
          "height": 34
        },
        "outputId": "e265b5f7-1b9a-495d-8858-d72057b4609e"
      },
      "source": [
        "text=x_test[8]\n",
        "text"
      ],
      "execution_count": 45,
      "outputs": [
        {
          "output_type": "execute_result",
          "data": {
            "text/plain": [
              "'Stop making this joke ha ha ha'"
            ]
          },
          "metadata": {
            "tags": []
          },
          "execution_count": 45
        }
      ]
    },
    {
      "cell_type": "code",
      "metadata": {
        "id": "GaTjheOwYk4S",
        "colab_type": "code",
        "colab": {
          "base_uri": "https://localhost:8080/",
          "height": 34
        },
        "outputId": "47caac7a-2eca-43db-b537-559b2cb64bbf"
      },
      "source": [
        "y_test[8]"
      ],
      "execution_count": 46,
      "outputs": [
        {
          "output_type": "execute_result",
          "data": {
            "text/plain": [
              "2"
            ]
          },
          "metadata": {
            "tags": []
          },
          "execution_count": 46
        }
      ]
    },
    {
      "cell_type": "code",
      "metadata": {
        "id": "QWWZeJy1bTDn",
        "colab_type": "code",
        "colab": {}
      },
      "source": [
        "def predict(text):\n",
        "  text_sequence=tokenizer.texts_to_sequences([text])\n",
        "  text_padded=pad_sequences(text_sequence,maxlen=30)\n",
        "  prediction=model2.predict_classes(text_padded)\n",
        "  x=prediction[0]\n",
        "  print(emoji_dict[x][0])\n",
        "  print(emoji.emojize(emoji_dict[x][1], use_aliases=True))"
      ],
      "execution_count": 0,
      "outputs": []
    },
    {
      "cell_type": "code",
      "metadata": {
        "id": "Vyvtt8rKbpda",
        "colab_type": "code",
        "colab": {
          "base_uri": "https://localhost:8080/",
          "height": 52
        },
        "outputId": "0f1382eb-bd33-43db-d046-c63050ffe7b9"
      },
      "source": [
        "ans=predict(text)\n",
        "ans"
      ],
      "execution_count": 53,
      "outputs": [
        {
          "output_type": "stream",
          "text": [
            "smile\n",
            "😄\n"
          ],
          "name": "stdout"
        }
      ]
    },
    {
      "cell_type": "markdown",
      "metadata": {
        "id": "JW6RveKlnS81",
        "colab_type": "text"
      },
      "source": [
        "### Predicting New Values"
      ]
    },
    {
      "cell_type": "code",
      "metadata": {
        "id": "0n37Sm6MgS0C",
        "colab_type": "code",
        "colab": {
          "base_uri": "https://localhost:8080/",
          "height": 52
        },
        "outputId": "e9f346ca-6385-4d90-86d3-153e8af83658"
      },
      "source": [
        "msg='you brighten my day'\n",
        "ans=predict(msg)\n",
        "ans"
      ],
      "execution_count": 63,
      "outputs": [
        {
          "output_type": "stream",
          "text": [
            "smile\n",
            "😄\n"
          ],
          "name": "stdout"
        }
      ]
    },
    {
      "cell_type": "code",
      "metadata": {
        "id": "ySBOYvAnmb_i",
        "colab_type": "code",
        "colab": {
          "base_uri": "https://localhost:8080/",
          "height": 52
        },
        "outputId": "c29bdfce-73b2-462b-daf4-1b73341b616d"
      },
      "source": [
        "msg='she got me a nice present'\n",
        "ans=predict(msg)\n",
        "ans"
      ],
      "execution_count": 62,
      "outputs": [
        {
          "output_type": "stream",
          "text": [
            "heart\n",
            "❤\n"
          ],
          "name": "stdout"
        }
      ]
    },
    {
      "cell_type": "code",
      "metadata": {
        "id": "qeWqcpJ5mxd_",
        "colab_type": "code",
        "colab": {
          "base_uri": "https://localhost:8080/",
          "height": 52
        },
        "outputId": "953b0345-68f4-4b3f-f992-7155801e4ef3"
      },
      "source": [
        "msg='This girl is messing with me'\n",
        "ans=predict(msg)\n",
        "ans"
      ],
      "execution_count": 61,
      "outputs": [
        {
          "output_type": "stream",
          "text": [
            "disappoined\n",
            "😞\n"
          ],
          "name": "stdout"
        }
      ]
    },
    {
      "cell_type": "code",
      "metadata": {
        "id": "Jrlbeeo5nJk1",
        "colab_type": "code",
        "colab": {
          "base_uri": "https://localhost:8080/",
          "height": 52
        },
        "outputId": "55ded5fd-78ae-474d-d56c-8aca0b33827e"
      },
      "source": [
        "msg='will you be my valentine'\n",
        "ans=predict(msg)\n",
        "ans"
      ],
      "execution_count": 64,
      "outputs": [
        {
          "output_type": "stream",
          "text": [
            "heart\n",
            "❤\n"
          ],
          "name": "stdout"
        }
      ]
    }
  ]
}