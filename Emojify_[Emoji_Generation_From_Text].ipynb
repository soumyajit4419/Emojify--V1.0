{
  "nbformat": 4,
  "nbformat_minor": 0,
  "metadata": {
    "colab": {
      "name": "Emojify [Emoji_Generation_From_Text].ipynb",
      "provenance": [],
      "collapsed_sections": []
    },
    "kernelspec": {
      "name": "python3",
      "display_name": "Python 3"
    },
    "accelerator": "GPU"
  },
  "cells": [
    {
      "cell_type": "code",
      "metadata": {
        "id": "BJISfQ071PGn",
        "colab_type": "code",
        "colab": {}
      },
      "source": [
        "import pandas as pd\n",
        "import numpy as np\n",
        "import matplotlib.pyplot as plt"
      ],
      "execution_count": 0,
      "outputs": []
    },
    {
      "cell_type": "code",
      "metadata": {
        "id": "qmxnw-uG3Btq",
        "colab_type": "code",
        "colab": {
          "base_uri": "https://localhost:8080/",
          "height": 34
        },
        "outputId": "7393079d-1eec-4899-9b66-e8facd557577"
      },
      "source": [
        "import tensorflow as tf\n",
        "tf.__version__"
      ],
      "execution_count": 40,
      "outputs": [
        {
          "output_type": "execute_result",
          "data": {
            "text/plain": [
              "'2.2.0-rc3'"
            ]
          },
          "metadata": {
            "tags": []
          },
          "execution_count": 40
        }
      ]
    },
    {
      "cell_type": "code",
      "metadata": {
        "id": "h7_xmv853FmI",
        "colab_type": "code",
        "colab": {}
      },
      "source": [
        "from tensorflow.keras.preprocessing.text import Tokenizer\n",
        "from tensorflow.keras.preprocessing.sequence import pad_sequences"
      ],
      "execution_count": 0,
      "outputs": []
    },
    {
      "cell_type": "code",
      "metadata": {
        "id": "rMFjwJOwJB2Q",
        "colab_type": "code",
        "colab": {}
      },
      "source": [
        "from tensorflow.keras.models import Sequential\n",
        "from tensorflow.keras.layers import Dense\n",
        "from tensorflow.keras.layers import LSTM\n",
        "from tensorflow.keras.layers import Dropout\n",
        "from tensorflow.keras.layers import Bidirectional\n",
        "from tensorflow.keras.layers import Embedding"
      ],
      "execution_count": 0,
      "outputs": []
    },
    {
      "cell_type": "markdown",
      "metadata": {
        "id": "dee3uqPGI8Kf",
        "colab_type": "text"
      },
      "source": [
        "### Preparing Data"
      ]
    },
    {
      "cell_type": "code",
      "metadata": {
        "id": "JHKZqVdO3bYl",
        "colab_type": "code",
        "colab": {}
      },
      "source": [
        "df1=pd.read_csv('/content/drive/My Drive/Colab Notebooks/Emojify_Dataset/train_emoji.csv')"
      ],
      "execution_count": 0,
      "outputs": []
    },
    {
      "cell_type": "code",
      "metadata": {
        "id": "vzUlRA-S3oZg",
        "colab_type": "code",
        "colab": {
          "base_uri": "https://localhost:8080/",
          "height": 197
        },
        "outputId": "faf0d2b6-057a-437f-840c-724d3395c32e"
      },
      "source": [
        "df1.head()"
      ],
      "execution_count": 44,
      "outputs": [
        {
          "output_type": "execute_result",
          "data": {
            "text/html": [
              "<div>\n",
              "<style scoped>\n",
              "    .dataframe tbody tr th:only-of-type {\n",
              "        vertical-align: middle;\n",
              "    }\n",
              "\n",
              "    .dataframe tbody tr th {\n",
              "        vertical-align: top;\n",
              "    }\n",
              "\n",
              "    .dataframe thead th {\n",
              "        text-align: right;\n",
              "    }\n",
              "</style>\n",
              "<table border=\"1\" class=\"dataframe\">\n",
              "  <thead>\n",
              "    <tr style=\"text-align: right;\">\n",
              "      <th></th>\n",
              "      <th>Text</th>\n",
              "      <th>Labels</th>\n",
              "      <th>Unnamed: 2</th>\n",
              "      <th>Unnamed: 3</th>\n",
              "    </tr>\n",
              "  </thead>\n",
              "  <tbody>\n",
              "    <tr>\n",
              "      <th>0</th>\n",
              "      <td>I am proud of your achievements</td>\n",
              "      <td>2</td>\n",
              "      <td>NaN</td>\n",
              "      <td>NaN</td>\n",
              "    </tr>\n",
              "    <tr>\n",
              "      <th>1</th>\n",
              "      <td>It is the worst day in my life</td>\n",
              "      <td>3</td>\n",
              "      <td>NaN</td>\n",
              "      <td>NaN</td>\n",
              "    </tr>\n",
              "    <tr>\n",
              "      <th>2</th>\n",
              "      <td>Miss you so much</td>\n",
              "      <td>0</td>\n",
              "      <td>NaN</td>\n",
              "      <td>[0]</td>\n",
              "    </tr>\n",
              "    <tr>\n",
              "      <th>3</th>\n",
              "      <td>food is life</td>\n",
              "      <td>4</td>\n",
              "      <td>NaN</td>\n",
              "      <td>NaN</td>\n",
              "    </tr>\n",
              "    <tr>\n",
              "      <th>4</th>\n",
              "      <td>I love you mum</td>\n",
              "      <td>0</td>\n",
              "      <td>NaN</td>\n",
              "      <td>NaN</td>\n",
              "    </tr>\n",
              "  </tbody>\n",
              "</table>\n",
              "</div>"
            ],
            "text/plain": [
              "                              Text  Labels  Unnamed: 2 Unnamed: 3\n",
              "0  I am proud of your achievements       2         NaN        NaN\n",
              "1   It is the worst day in my life       3         NaN        NaN\n",
              "2                 Miss you so much       0         NaN        [0]\n",
              "3                     food is life       4         NaN        NaN\n",
              "4                   I love you mum       0         NaN        NaN"
            ]
          },
          "metadata": {
            "tags": []
          },
          "execution_count": 44
        }
      ]
    },
    {
      "cell_type": "code",
      "metadata": {
        "id": "_kCPd2ek553p",
        "colab_type": "code",
        "colab": {
          "base_uri": "https://localhost:8080/",
          "height": 34
        },
        "outputId": "a2617bdb-4a14-491c-aa92-9ce1ec46fb07"
      },
      "source": [
        "df1.shape"
      ],
      "execution_count": 45,
      "outputs": [
        {
          "output_type": "execute_result",
          "data": {
            "text/plain": [
              "(132, 4)"
            ]
          },
          "metadata": {
            "tags": []
          },
          "execution_count": 45
        }
      ]
    },
    {
      "cell_type": "code",
      "metadata": {
        "id": "cpFtpfPR7fTl",
        "colab_type": "code",
        "colab": {}
      },
      "source": [
        "df2=pd.read_csv('/content/drive/My Drive/Colab Notebooks/Emojify_Dataset/emojify_data.csv')"
      ],
      "execution_count": 0,
      "outputs": []
    },
    {
      "cell_type": "code",
      "metadata": {
        "id": "6m2jROZA7m8S",
        "colab_type": "code",
        "colab": {
          "base_uri": "https://localhost:8080/",
          "height": 197
        },
        "outputId": "9311bdc3-3840-45c2-9992-1e30ead73c66"
      },
      "source": [
        "df2.head()"
      ],
      "execution_count": 47,
      "outputs": [
        {
          "output_type": "execute_result",
          "data": {
            "text/html": [
              "<div>\n",
              "<style scoped>\n",
              "    .dataframe tbody tr th:only-of-type {\n",
              "        vertical-align: middle;\n",
              "    }\n",
              "\n",
              "    .dataframe tbody tr th {\n",
              "        vertical-align: top;\n",
              "    }\n",
              "\n",
              "    .dataframe thead th {\n",
              "        text-align: right;\n",
              "    }\n",
              "</style>\n",
              "<table border=\"1\" class=\"dataframe\">\n",
              "  <thead>\n",
              "    <tr style=\"text-align: right;\">\n",
              "      <th></th>\n",
              "      <th>Text</th>\n",
              "      <th>Labels</th>\n",
              "      <th>Unnamed: 2</th>\n",
              "      <th>Unnamed: 3</th>\n",
              "    </tr>\n",
              "  </thead>\n",
              "  <tbody>\n",
              "    <tr>\n",
              "      <th>0</th>\n",
              "      <td>work is horrible</td>\n",
              "      <td>3</td>\n",
              "      <td>NaN</td>\n",
              "      <td>NaN</td>\n",
              "    </tr>\n",
              "    <tr>\n",
              "      <th>1</th>\n",
              "      <td>I am upset</td>\n",
              "      <td>3</td>\n",
              "      <td>NaN</td>\n",
              "      <td>[3]</td>\n",
              "    </tr>\n",
              "    <tr>\n",
              "      <th>2</th>\n",
              "      <td>throw the ball</td>\n",
              "      <td>1</td>\n",
              "      <td>NaN</td>\n",
              "      <td>[2]</td>\n",
              "    </tr>\n",
              "    <tr>\n",
              "      <th>3</th>\n",
              "      <td>Good joke</td>\n",
              "      <td>2</td>\n",
              "      <td>NaN</td>\n",
              "      <td>NaN</td>\n",
              "    </tr>\n",
              "    <tr>\n",
              "      <th>4</th>\n",
              "      <td>what is your favorite baseball game</td>\n",
              "      <td>1</td>\n",
              "      <td>NaN</td>\n",
              "      <td>NaN</td>\n",
              "    </tr>\n",
              "  </tbody>\n",
              "</table>\n",
              "</div>"
            ],
            "text/plain": [
              "                                  Text  Labels  Unnamed: 2 Unnamed: 3\n",
              "0                     work is horrible       3         NaN        NaN\n",
              "1                           I am upset       3         NaN        [3]\n",
              "2                       throw the ball       1         NaN        [2]\n",
              "3                            Good joke       2         NaN        NaN\n",
              "4  what is your favorite baseball game       1         NaN        NaN"
            ]
          },
          "metadata": {
            "tags": []
          },
          "execution_count": 47
        }
      ]
    },
    {
      "cell_type": "code",
      "metadata": {
        "id": "B47aPwGJ77BM",
        "colab_type": "code",
        "colab": {
          "base_uri": "https://localhost:8080/",
          "height": 34
        },
        "outputId": "127b7189-1389-4f77-822b-98277a8b8919"
      },
      "source": [
        "df2.shape"
      ],
      "execution_count": 48,
      "outputs": [
        {
          "output_type": "execute_result",
          "data": {
            "text/plain": [
              "(183, 4)"
            ]
          },
          "metadata": {
            "tags": []
          },
          "execution_count": 48
        }
      ]
    },
    {
      "cell_type": "code",
      "metadata": {
        "id": "7vj99JJL7oY5",
        "colab_type": "code",
        "colab": {}
      },
      "source": [
        "train_df=pd.concat([df1,df2],ignore_index=True)"
      ],
      "execution_count": 0,
      "outputs": []
    },
    {
      "cell_type": "code",
      "metadata": {
        "id": "iTPIv8yC79SS",
        "colab_type": "code",
        "colab": {
          "base_uri": "https://localhost:8080/",
          "height": 407
        },
        "outputId": "e916b091-7cf0-4ff4-9323-2f36d86dbd44"
      },
      "source": [
        "train_df"
      ],
      "execution_count": 50,
      "outputs": [
        {
          "output_type": "execute_result",
          "data": {
            "text/html": [
              "<div>\n",
              "<style scoped>\n",
              "    .dataframe tbody tr th:only-of-type {\n",
              "        vertical-align: middle;\n",
              "    }\n",
              "\n",
              "    .dataframe tbody tr th {\n",
              "        vertical-align: top;\n",
              "    }\n",
              "\n",
              "    .dataframe thead th {\n",
              "        text-align: right;\n",
              "    }\n",
              "</style>\n",
              "<table border=\"1\" class=\"dataframe\">\n",
              "  <thead>\n",
              "    <tr style=\"text-align: right;\">\n",
              "      <th></th>\n",
              "      <th>Text</th>\n",
              "      <th>Labels</th>\n",
              "      <th>Unnamed: 2</th>\n",
              "      <th>Unnamed: 3</th>\n",
              "    </tr>\n",
              "  </thead>\n",
              "  <tbody>\n",
              "    <tr>\n",
              "      <th>0</th>\n",
              "      <td>I am proud of your achievements</td>\n",
              "      <td>2</td>\n",
              "      <td>NaN</td>\n",
              "      <td>NaN</td>\n",
              "    </tr>\n",
              "    <tr>\n",
              "      <th>1</th>\n",
              "      <td>It is the worst day in my life</td>\n",
              "      <td>3</td>\n",
              "      <td>NaN</td>\n",
              "      <td>NaN</td>\n",
              "    </tr>\n",
              "    <tr>\n",
              "      <th>2</th>\n",
              "      <td>Miss you so much</td>\n",
              "      <td>0</td>\n",
              "      <td>NaN</td>\n",
              "      <td>[0]</td>\n",
              "    </tr>\n",
              "    <tr>\n",
              "      <th>3</th>\n",
              "      <td>food is life</td>\n",
              "      <td>4</td>\n",
              "      <td>NaN</td>\n",
              "      <td>NaN</td>\n",
              "    </tr>\n",
              "    <tr>\n",
              "      <th>4</th>\n",
              "      <td>I love you mum</td>\n",
              "      <td>0</td>\n",
              "      <td>NaN</td>\n",
              "      <td>NaN</td>\n",
              "    </tr>\n",
              "    <tr>\n",
              "      <th>...</th>\n",
              "      <td>...</td>\n",
              "      <td>...</td>\n",
              "      <td>...</td>\n",
              "      <td>...</td>\n",
              "    </tr>\n",
              "    <tr>\n",
              "      <th>310</th>\n",
              "      <td>dance with me</td>\n",
              "      <td>2</td>\n",
              "      <td>NaN</td>\n",
              "      <td>NaN</td>\n",
              "    </tr>\n",
              "    <tr>\n",
              "      <th>311</th>\n",
              "      <td>she is a bully</td>\n",
              "      <td>3</td>\n",
              "      <td>NaN</td>\n",
              "      <td>NaN</td>\n",
              "    </tr>\n",
              "    <tr>\n",
              "      <th>312</th>\n",
              "      <td>she plays baseball</td>\n",
              "      <td>1</td>\n",
              "      <td>NaN</td>\n",
              "      <td>NaN</td>\n",
              "    </tr>\n",
              "    <tr>\n",
              "      <th>313</th>\n",
              "      <td>I like it when people smile</td>\n",
              "      <td>2</td>\n",
              "      <td>NaN</td>\n",
              "      <td>NaN</td>\n",
              "    </tr>\n",
              "    <tr>\n",
              "      <th>314</th>\n",
              "      <td>French macaroon is so tasty</td>\n",
              "      <td>4</td>\n",
              "      <td>NaN</td>\n",
              "      <td>NaN</td>\n",
              "    </tr>\n",
              "  </tbody>\n",
              "</table>\n",
              "<p>315 rows × 4 columns</p>\n",
              "</div>"
            ],
            "text/plain": [
              "                                Text  Labels  Unnamed: 2 Unnamed: 3\n",
              "0    I am proud of your achievements       2         NaN        NaN\n",
              "1     It is the worst day in my life       3         NaN        NaN\n",
              "2                   Miss you so much       0         NaN        [0]\n",
              "3                       food is life       4         NaN        NaN\n",
              "4                     I love you mum       0         NaN        NaN\n",
              "..                               ...     ...         ...        ...\n",
              "310                    dance with me       2         NaN        NaN\n",
              "311                   she is a bully       3         NaN        NaN\n",
              "312               she plays baseball       1         NaN        NaN\n",
              "313      I like it when people smile       2         NaN        NaN\n",
              "314      French macaroon is so tasty       4         NaN        NaN\n",
              "\n",
              "[315 rows x 4 columns]"
            ]
          },
          "metadata": {
            "tags": []
          },
          "execution_count": 50
        }
      ]
    },
    {
      "cell_type": "code",
      "metadata": {
        "id": "AduHC6cR-8el",
        "colab_type": "code",
        "colab": {}
      },
      "source": [
        "test_df=pd.read_csv('/content/drive/My Drive/Colab Notebooks/Emojify_Dataset/test_emoji.csv')"
      ],
      "execution_count": 0,
      "outputs": []
    },
    {
      "cell_type": "code",
      "metadata": {
        "id": "fsao0AcJ_ByU",
        "colab_type": "code",
        "colab": {
          "base_uri": "https://localhost:8080/",
          "height": 197
        },
        "outputId": "4ee1ed89-6603-4e14-dd31-bc053c81836c"
      },
      "source": [
        "test_df.head()"
      ],
      "execution_count": 52,
      "outputs": [
        {
          "output_type": "execute_result",
          "data": {
            "text/html": [
              "<div>\n",
              "<style scoped>\n",
              "    .dataframe tbody tr th:only-of-type {\n",
              "        vertical-align: middle;\n",
              "    }\n",
              "\n",
              "    .dataframe tbody tr th {\n",
              "        vertical-align: top;\n",
              "    }\n",
              "\n",
              "    .dataframe thead th {\n",
              "        text-align: right;\n",
              "    }\n",
              "</style>\n",
              "<table border=\"1\" class=\"dataframe\">\n",
              "  <thead>\n",
              "    <tr style=\"text-align: right;\">\n",
              "      <th></th>\n",
              "      <th>Text</th>\n",
              "      <th>Unnamed: 1</th>\n",
              "      <th>Labels</th>\n",
              "    </tr>\n",
              "  </thead>\n",
              "  <tbody>\n",
              "    <tr>\n",
              "      <th>0</th>\n",
              "      <td>he did not answer</td>\n",
              "      <td>NaN</td>\n",
              "      <td>3</td>\n",
              "    </tr>\n",
              "    <tr>\n",
              "      <th>1</th>\n",
              "      <td>he got a raise</td>\n",
              "      <td>NaN</td>\n",
              "      <td>2</td>\n",
              "    </tr>\n",
              "    <tr>\n",
              "      <th>2</th>\n",
              "      <td>she got me a present</td>\n",
              "      <td>NaN</td>\n",
              "      <td>0</td>\n",
              "    </tr>\n",
              "    <tr>\n",
              "      <th>3</th>\n",
              "      <td>ha ha ha it was so funny</td>\n",
              "      <td>NaN</td>\n",
              "      <td>2</td>\n",
              "    </tr>\n",
              "    <tr>\n",
              "      <th>4</th>\n",
              "      <td>he is a good friend</td>\n",
              "      <td>NaN</td>\n",
              "      <td>0</td>\n",
              "    </tr>\n",
              "  </tbody>\n",
              "</table>\n",
              "</div>"
            ],
            "text/plain": [
              "                       Text  Unnamed: 1  Labels\n",
              "0         he did not answer         NaN       3\n",
              "1            he got a raise         NaN       2\n",
              "2      she got me a present         NaN       0\n",
              "3  ha ha ha it was so funny         NaN       2\n",
              "4       he is a good friend         NaN       0"
            ]
          },
          "metadata": {
            "tags": []
          },
          "execution_count": 52
        }
      ]
    },
    {
      "cell_type": "markdown",
      "metadata": {
        "id": "7KRBU3dhJYff",
        "colab_type": "text"
      },
      "source": [
        "### Preparing Training and Testing Data"
      ]
    },
    {
      "cell_type": "code",
      "metadata": {
        "id": "koEurpIO-yu0",
        "colab_type": "code",
        "colab": {}
      },
      "source": [
        "x_train=train_df['Text']"
      ],
      "execution_count": 0,
      "outputs": []
    },
    {
      "cell_type": "code",
      "metadata": {
        "id": "HZLyaYB2JqQ1",
        "colab_type": "code",
        "colab": {}
      },
      "source": [
        "x_test=test_df['Text']"
      ],
      "execution_count": 0,
      "outputs": []
    },
    {
      "cell_type": "code",
      "metadata": {
        "id": "Cgm00X6aJ0KX",
        "colab_type": "code",
        "colab": {}
      },
      "source": [
        "y_train=train_df['Labels']"
      ],
      "execution_count": 0,
      "outputs": []
    },
    {
      "cell_type": "code",
      "metadata": {
        "id": "aibTM06fNWMX",
        "colab_type": "code",
        "colab": {
          "base_uri": "https://localhost:8080/",
          "height": 122
        },
        "outputId": "bc3f97b7-af4a-40f6-8072-8bdaa9fb17b7"
      },
      "source": [
        "y_train.value_counts()"
      ],
      "execution_count": 56,
      "outputs": [
        {
          "output_type": "execute_result",
          "data": {
            "text/plain": [
              "2    94\n",
              "3    88\n",
              "0    55\n",
              "4    40\n",
              "1    38\n",
              "Name: Labels, dtype: int64"
            ]
          },
          "metadata": {
            "tags": []
          },
          "execution_count": 56
        }
      ]
    },
    {
      "cell_type": "code",
      "metadata": {
        "id": "WNdYTHDiKCXr",
        "colab_type": "code",
        "colab": {}
      },
      "source": [
        "y_test=test_df['Labels']"
      ],
      "execution_count": 0,
      "outputs": []
    },
    {
      "cell_type": "markdown",
      "metadata": {
        "id": "EErACjb8KIvK",
        "colab_type": "text"
      },
      "source": [
        "### Tokenizing And Text Preprocessing"
      ]
    },
    {
      "cell_type": "code",
      "metadata": {
        "id": "id3qJahFKHwn",
        "colab_type": "code",
        "colab": {}
      },
      "source": [
        "tokenizer=Tokenizer()"
      ],
      "execution_count": 0,
      "outputs": []
    },
    {
      "cell_type": "code",
      "metadata": {
        "id": "XIRVXcTnKWHp",
        "colab_type": "code",
        "colab": {}
      },
      "source": [
        "tokenizer.fit_on_texts(x_train)"
      ],
      "execution_count": 0,
      "outputs": []
    },
    {
      "cell_type": "code",
      "metadata": {
        "id": "H162roozKhst",
        "colab_type": "code",
        "colab": {
          "base_uri": "https://localhost:8080/",
          "height": 1000
        },
        "outputId": "f56c3cd3-b2ff-4d16-f26b-08c76ccc82a0"
      },
      "source": [
        "word_index=tokenizer.word_index\n",
        "word_index"
      ],
      "execution_count": 60,
      "outputs": [
        {
          "output_type": "execute_result",
          "data": {
            "text/plain": [
              "{'a': 5,\n",
              " 'acceptance': 109,\n",
              " 'achievements': 104,\n",
              " 'adorable': 189,\n",
              " 'adore': 151,\n",
              " 'after': 133,\n",
              " 'afternoon': 236,\n",
              " 'again': 58,\n",
              " 'algorithm': 115,\n",
              " 'all': 279,\n",
              " 'alone': 165,\n",
              " 'always': 237,\n",
              " 'am': 6,\n",
              " 'amazing': 188,\n",
              " 'an': 187,\n",
              " 'and': 60,\n",
              " 'announcement': 184,\n",
              " 'answer': 86,\n",
              " 'any': 301,\n",
              " 'anything': 206,\n",
              " 'approved': 118,\n",
              " 'are': 10,\n",
              " 'around': 269,\n",
              " 'ask': 138,\n",
              " 'assignment': 110,\n",
              " 'at': 39,\n",
              " 'attractive': 140,\n",
              " 'away': 305,\n",
              " 'awesome': 257,\n",
              " 'awful': 168,\n",
              " 'baby': 95,\n",
              " 'back': 283,\n",
              " 'bad': 41,\n",
              " 'ball': 54,\n",
              " 'base': 229,\n",
              " 'baseball': 29,\n",
              " 'be': 289,\n",
              " 'best': 171,\n",
              " 'birthday': 308,\n",
              " 'boiled': 299,\n",
              " 'boring': 316,\n",
              " 'bravo': 81,\n",
              " 'break': 304,\n",
              " 'breakfast': 311,\n",
              " 'breaks': 296,\n",
              " 'brighten': 317,\n",
              " 'brunch': 135,\n",
              " 'bullshit': 108,\n",
              " 'bully': 318,\n",
              " 'but': 154,\n",
              " 'by': 79,\n",
              " 'cake': 233,\n",
              " 'can': 97,\n",
              " 'cancelled': 276,\n",
              " 'candy': 128,\n",
              " 'cannot': 197,\n",
              " 'catcher': 226,\n",
              " 'celebrate': 123,\n",
              " 'charming': 183,\n",
              " 'cheese': 232,\n",
              " 'chicago': 129,\n",
              " 'chinese': 181,\n",
              " 'code': 153,\n",
              " 'come': 198,\n",
              " 'coming': 126,\n",
              " 'congrats': 224,\n",
              " 'congratulation': 309,\n",
              " 'congratulations': 65,\n",
              " 'cooked': 169,\n",
              " 'cookies': 182,\n",
              " 'could': 222,\n",
              " 'cubs': 130,\n",
              " 'cute': 49,\n",
              " 'cutest': 238,\n",
              " 'dad': 219,\n",
              " 'dance': 258,\n",
              " 'dare': 137,\n",
              " 'date': 210,\n",
              " 'day': 44,\n",
              " 'dear': 208,\n",
              " 'dearest': 127,\n",
              " 'dedication': 200,\n",
              " 'deserve': 285,\n",
              " 'did': 23,\n",
              " 'dinner': 50,\n",
              " 'disappointed': 205,\n",
              " 'do': 25,\n",
              " 'dog': 177,\n",
              " 'dogs': 77,\n",
              " 'down': 52,\n",
              " 'during': 307,\n",
              " 'eat': 100,\n",
              " 'end': 163,\n",
              " 'enjoy': 303,\n",
              " 'ever': 240,\n",
              " 'exam': 134,\n",
              " 'excited': 72,\n",
              " 'exercise': 92,\n",
              " 'failed': 213,\n",
              " 'failing': 271,\n",
              " 'family': 278,\n",
              " 'favorite': 176,\n",
              " 'feeling': 274,\n",
              " 'few': 178,\n",
              " 'final': 263,\n",
              " 'finished': 122,\n",
              " 'first': 228,\n",
              " 'fon': 310,\n",
              " 'food': 26,\n",
              " 'for': 12,\n",
              " 'forever': 75,\n",
              " 'french': 147,\n",
              " 'friend': 293,\n",
              " 'friendly': 196,\n",
              " 'frustrated': 211,\n",
              " 'fun': 56,\n",
              " 'funny': 36,\n",
              " 'game': 47,\n",
              " 'gave': 155,\n",
              " 'get': 145,\n",
              " 'girl': 90,\n",
              " 'give': 215,\n",
              " 'go': 55,\n",
              " 'going': 172,\n",
              " 'good': 40,\n",
              " 'got': 24,\n",
              " 'grade': 160,\n",
              " 'grader': 91,\n",
              " 'grandmother': 297,\n",
              " 'great': 43,\n",
              " 'guy': 220,\n",
              " 'ha': 15,\n",
              " 'had': 61,\n",
              " 'haha': 158,\n",
              " 'handsome': 244,\n",
              " 'happy': 82,\n",
              " 'has': 113,\n",
              " 'hate': 180,\n",
              " 'have': 22,\n",
              " 'having': 294,\n",
              " 'he': 14,\n",
              " 'healthy': 243,\n",
              " 'her': 62,\n",
              " 'here': 246,\n",
              " 'him': 46,\n",
              " 'home': 250,\n",
              " 'homework': 231,\n",
              " 'horrible': 266,\n",
              " 'hours': 191,\n",
              " 'how': 87,\n",
              " 'hug': 216,\n",
              " 'humiliated': 166,\n",
              " 'hungry': 132,\n",
              " 'i': 1,\n",
              " 'impressed': 199,\n",
              " 'in': 83,\n",
              " 'incredibly': 173,\n",
              " 'indian': 248,\n",
              " 'intelligent': 174,\n",
              " 'is': 3,\n",
              " 'it': 20,\n",
              " 'jacket': 287,\n",
              " 'job': 35,\n",
              " 'join': 139,\n",
              " 'joke': 38,\n",
              " 'just': 71,\n",
              " 'killing': 157,\n",
              " 'kind': 195,\n",
              " 'laugh': 313,\n",
              " 'laughing': 143,\n",
              " 'lectures': 234,\n",
              " 'let': 270,\n",
              " 'lets': 48,\n",
              " 'life': 31,\n",
              " 'like': 27,\n",
              " 'likes': 70,\n",
              " 'limit': 114,\n",
              " 'lol': 57,\n",
              " 'long': 67,\n",
              " 'looking': 209,\n",
              " 'loser': 247,\n",
              " 'lost': 98,\n",
              " 'lot': 51,\n",
              " 'love': 18,\n",
              " 'lovely': 291,\n",
              " 'macaroon': 148,\n",
              " 'made': 150,\n",
              " 'make': 249,\n",
              " 'making': 314,\n",
              " 'man': 230,\n",
              " 'many': 259,\n",
              " 'me': 17,\n",
              " 'mean': 152,\n",
              " 'meat': 170,\n",
              " 'messing': 255,\n",
              " 'midterm': 214,\n",
              " 'miss': 32,\n",
              " 'missed': 161,\n",
              " 'moment': 202,\n",
              " 'much': 84,\n",
              " 'mum': 106,\n",
              " 'my': 8,\n",
              " 'near': 290,\n",
              " 'never': 103,\n",
              " 'new': 225,\n",
              " 'no': 68,\n",
              " 'not': 16,\n",
              " 'of': 30,\n",
              " 'on': 45,\n",
              " 'one': 121,\n",
              " 'ordering': 252,\n",
              " 'party': 275,\n",
              " 'people': 193,\n",
              " 'performs': 116,\n",
              " 'person': 239,\n",
              " 'pitch': 280,\n",
              " 'pizza': 159,\n",
              " 'plan': 120,\n",
              " 'play': 85,\n",
              " 'player': 93,\n",
              " 'playing': 262,\n",
              " 'plays': 186,\n",
              " 'points': 260,\n",
              " 'poorly': 117,\n",
              " 'position': 218,\n",
              " 'present': 288,\n",
              " 'prize': 286,\n",
              " 'project': 201,\n",
              " 'proud': 64,\n",
              " 'puppies': 179,\n",
              " 'qualified': 217,\n",
              " 'raise': 277,\n",
              " 'ready': 146,\n",
              " 'really': 281,\n",
              " 'restaurant': 102,\n",
              " 'rice': 300,\n",
              " 'rules': 264,\n",
              " 'run': 251,\n",
              " 'sad': 125,\n",
              " 'said': 73,\n",
              " 'saying': 107,\n",
              " 'score': 261,\n",
              " 'see': 88,\n",
              " 'seen': 241,\n",
              " 'serious': 312,\n",
              " 'she': 13,\n",
              " 'shouting': 69,\n",
              " 'sister': 167,\n",
              " 'smile': 63,\n",
              " 'smiles': 142,\n",
              " 'so': 7,\n",
              " 'solve': 223,\n",
              " 'some': 136,\n",
              " 'soon': 124,\n",
              " 'sounds': 119,\n",
              " 'specialization': 221,\n",
              " 'stadium': 94,\n",
              " 'stars': 282,\n",
              " 'starving': 298,\n",
              " 'stop': 33,\n",
              " 'stupid': 315,\n",
              " 'stupidity': 112,\n",
              " 'such': 99,\n",
              " 'suck': 141,\n",
              " 'sucks': 227,\n",
              " 'suggestions': 302,\n",
              " 'sushi': 203,\n",
              " 'takes': 144,\n",
              " 'taking': 295,\n",
              " 'talented': 175,\n",
              " 'talk': 254,\n",
              " 'tasty': 149,\n",
              " 'text': 111,\n",
              " 'that': 37,\n",
              " 'the': 4,\n",
              " 'they': 194,\n",
              " 'think': 162,\n",
              " 'this': 11,\n",
              " 'though': 235,\n",
              " 'throw': 268,\n",
              " 'to': 9,\n",
              " 'together': 207,\n",
              " 'tonight': 292,\n",
              " 'too': 66,\n",
              " 'totally': 284,\n",
              " 'traction': 185,\n",
              " 'two': 78,\n",
              " 'up': 164,\n",
              " 'upset': 267,\n",
              " 'us': 96,\n",
              " 'valentine': 256,\n",
              " 'vegetables': 242,\n",
              " 'very': 204,\n",
              " 'waiting': 190,\n",
              " 'wallet': 212,\n",
              " 'want': 21,\n",
              " 'was': 28,\n",
              " 'we': 76,\n",
              " 'well': 89,\n",
              " 'were': 245,\n",
              " 'what': 42,\n",
              " 'when': 192,\n",
              " 'where': 101,\n",
              " 'who': 80,\n",
              " 'why': 273,\n",
              " 'will': 34,\n",
              " 'with': 53,\n",
              " 'won': 131,\n",
              " 'work': 265,\n",
              " 'worked': 306,\n",
              " 'working': 59,\n",
              " 'worst': 105,\n",
              " 'wrong': 253,\n",
              " 'yes': 74,\n",
              " 'yesterday': 272,\n",
              " 'you': 2,\n",
              " 'your': 19,\n",
              " 'zero': 156}"
            ]
          },
          "metadata": {
            "tags": []
          },
          "execution_count": 60
        }
      ]
    },
    {
      "cell_type": "code",
      "metadata": {
        "id": "bEbdtJpRKp9Y",
        "colab_type": "code",
        "colab": {
          "base_uri": "https://localhost:8080/",
          "height": 34
        },
        "outputId": "c31661ca-2446-47cc-f4fe-d1bf365ecb35"
      },
      "source": [
        "vocab_size=len(word_index)+1\n",
        "vocab_size"
      ],
      "execution_count": 61,
      "outputs": [
        {
          "output_type": "execute_result",
          "data": {
            "text/plain": [
              "319"
            ]
          },
          "metadata": {
            "tags": []
          },
          "execution_count": 61
        }
      ]
    },
    {
      "cell_type": "code",
      "metadata": {
        "id": "axQjycFHKcUf",
        "colab_type": "code",
        "colab": {}
      },
      "source": [
        "train_sequence=tokenizer.texts_to_sequences(x_train)\n",
        "train_padded=pad_sequences(train_sequence,maxlen=30)"
      ],
      "execution_count": 0,
      "outputs": []
    },
    {
      "cell_type": "code",
      "metadata": {
        "id": "lDC8mo_ILGS_",
        "colab_type": "code",
        "colab": {}
      },
      "source": [
        "test_sequence=tokenizer.texts_to_sequences(x_test)\n",
        "test_padded=pad_sequences(test_sequence,maxlen=30)"
      ],
      "execution_count": 0,
      "outputs": []
    },
    {
      "cell_type": "markdown",
      "metadata": {
        "id": "ga-zKeZHLNqw",
        "colab_type": "text"
      },
      "source": [
        "### Globe Embedding"
      ]
    },
    {
      "cell_type": "code",
      "metadata": {
        "id": "dIulF1WsLMiH",
        "colab_type": "code",
        "colab": {
          "base_uri": "https://localhost:8080/",
          "height": 209
        },
        "outputId": "5abfe9f6-854f-4fd8-fb97-740b03c983aa"
      },
      "source": [
        "# This is the 100 dimension version of GloVe from Stanford\n",
        "# I am using a api for faster access\n",
        "!wget --no-check-certificate \\\n",
        "    https://storage.googleapis.com/laurencemoroney-blog.appspot.com/glove.6B.100d.txt \\\n",
        "    -O /tmp/glove.6B.100d.txt\n",
        "embeddings_index = {};\n",
        "with open('/tmp/glove.6B.100d.txt') as f:\n",
        "    for line in f:\n",
        "        values = line.split();\n",
        "        word = values[0];\n",
        "        coefs = np.asarray(values[1:], dtype='float32');\n",
        "        embeddings_index[word] = coefs;\n",
        "\n",
        "embeddings_matrix = np.zeros((vocab_size,100));\n",
        "for word, i in word_index.items():\n",
        "    embedding_vector = embeddings_index.get(word);\n",
        "    if embedding_vector is not None:\n",
        "        embeddings_matrix[i] = embedding_vector;"
      ],
      "execution_count": 64,
      "outputs": [
        {
          "output_type": "stream",
          "text": [
            "--2020-04-28 14:37:43--  https://storage.googleapis.com/laurencemoroney-blog.appspot.com/glove.6B.100d.txt\n",
            "Resolving storage.googleapis.com (storage.googleapis.com)... 74.125.133.128, 2a00:1450:400c:c07::80\n",
            "Connecting to storage.googleapis.com (storage.googleapis.com)|74.125.133.128|:443... connected.\n",
            "HTTP request sent, awaiting response... 200 OK\n",
            "Length: 347116733 (331M) [text/plain]\n",
            "Saving to: ‘/tmp/glove.6B.100d.txt’\n",
            "\n",
            "/tmp/glove.6B.100d. 100%[===================>] 331.04M  58.1MB/s    in 5.9s    \n",
            "\n",
            "2020-04-28 14:37:50 (56.0 MB/s) - ‘/tmp/glove.6B.100d.txt’ saved [347116733/347116733]\n",
            "\n"
          ],
          "name": "stdout"
        }
      ]
    },
    {
      "cell_type": "markdown",
      "metadata": {
        "id": "auDjlEiiMAJI",
        "colab_type": "text"
      },
      "source": [
        "### Building Model and Testing Accuracy\n"
      ]
    },
    {
      "cell_type": "markdown",
      "metadata": {
        "id": "IL9BydyqMEsX",
        "colab_type": "text"
      },
      "source": [
        "#### Single Layer Bidirectional LSTM\n"
      ]
    },
    {
      "cell_type": "code",
      "metadata": {
        "id": "FPgrJnKLL8tX",
        "colab_type": "code",
        "colab": {}
      },
      "source": [
        "model1=Sequential()"
      ],
      "execution_count": 0,
      "outputs": []
    },
    {
      "cell_type": "code",
      "metadata": {
        "id": "z-3FkEL_MP6q",
        "colab_type": "code",
        "colab": {}
      },
      "source": [
        "model1.add(Embedding(vocab_size,100,input_length=30,weights=[embeddings_matrix],trainable=False))\n",
        "model1.add(Dropout(0.3))\n",
        "model1.add(Bidirectional(LSTM(32)))\n",
        "model1.add(Dense(5,activation='softmax'))"
      ],
      "execution_count": 0,
      "outputs": []
    },
    {
      "cell_type": "code",
      "metadata": {
        "id": "0O6oE-iQNDzd",
        "colab_type": "code",
        "colab": {
          "base_uri": "https://localhost:8080/",
          "height": 297
        },
        "outputId": "d7e0af13-1fbe-4e89-abc5-39629befe0cd"
      },
      "source": [
        "model1.summary()"
      ],
      "execution_count": 67,
      "outputs": [
        {
          "output_type": "stream",
          "text": [
            "Model: \"sequential_2\"\n",
            "_________________________________________________________________\n",
            "Layer (type)                 Output Shape              Param #   \n",
            "=================================================================\n",
            "embedding_2 (Embedding)      (None, 30, 100)           31900     \n",
            "_________________________________________________________________\n",
            "dropout_2 (Dropout)          (None, 30, 100)           0         \n",
            "_________________________________________________________________\n",
            "bidirectional_2 (Bidirection (None, 64)                34048     \n",
            "_________________________________________________________________\n",
            "dense_2 (Dense)              (None, 5)                 325       \n",
            "=================================================================\n",
            "Total params: 66,273\n",
            "Trainable params: 34,373\n",
            "Non-trainable params: 31,900\n",
            "_________________________________________________________________\n"
          ],
          "name": "stdout"
        }
      ]
    },
    {
      "cell_type": "code",
      "metadata": {
        "id": "DzMdwUaJNG0J",
        "colab_type": "code",
        "colab": {}
      },
      "source": [
        "model1.compile(optimizer='adam',loss='sparse_categorical_crossentropy',metrics=['accuracy'])"
      ],
      "execution_count": 0,
      "outputs": []
    },
    {
      "cell_type": "code",
      "metadata": {
        "id": "jpJBPKc0Nl1j",
        "colab_type": "code",
        "colab": {
          "base_uri": "https://localhost:8080/",
          "height": 1000
        },
        "outputId": "128b5696-815b-4864-efad-3146add623f0"
      },
      "source": [
        "history=model1.fit(train_padded,y_train,epochs=30,validation_data=(test_padded,y_test))"
      ],
      "execution_count": 69,
      "outputs": [
        {
          "output_type": "stream",
          "text": [
            "Epoch 1/30\n",
            "10/10 [==============================] - 1s 90ms/step - loss: 1.5316 - accuracy: 0.2825 - val_loss: 1.4609 - val_accuracy: 0.3214\n",
            "Epoch 2/30\n",
            "10/10 [==============================] - 0s 17ms/step - loss: 1.4497 - accuracy: 0.3397 - val_loss: 1.4183 - val_accuracy: 0.3750\n",
            "Epoch 3/30\n",
            "10/10 [==============================] - 0s 18ms/step - loss: 1.3840 - accuracy: 0.3873 - val_loss: 1.3479 - val_accuracy: 0.4107\n",
            "Epoch 4/30\n",
            "10/10 [==============================] - 0s 18ms/step - loss: 1.2872 - accuracy: 0.5397 - val_loss: 1.2606 - val_accuracy: 0.4464\n",
            "Epoch 5/30\n",
            "10/10 [==============================] - 0s 17ms/step - loss: 1.1793 - accuracy: 0.5651 - val_loss: 1.2028 - val_accuracy: 0.4643\n",
            "Epoch 6/30\n",
            "10/10 [==============================] - 0s 17ms/step - loss: 1.0648 - accuracy: 0.6349 - val_loss: 1.1190 - val_accuracy: 0.5000\n",
            "Epoch 7/30\n",
            "10/10 [==============================] - 0s 16ms/step - loss: 0.9558 - accuracy: 0.7016 - val_loss: 1.0526 - val_accuracy: 0.5179\n",
            "Epoch 8/30\n",
            "10/10 [==============================] - 0s 17ms/step - loss: 0.8302 - accuracy: 0.7397 - val_loss: 0.9490 - val_accuracy: 0.6964\n",
            "Epoch 9/30\n",
            "10/10 [==============================] - 0s 17ms/step - loss: 0.7355 - accuracy: 0.7873 - val_loss: 0.7835 - val_accuracy: 0.7500\n",
            "Epoch 10/30\n",
            "10/10 [==============================] - 0s 18ms/step - loss: 0.6653 - accuracy: 0.7810 - val_loss: 0.7503 - val_accuracy: 0.6964\n",
            "Epoch 11/30\n",
            "10/10 [==============================] - 0s 18ms/step - loss: 0.6389 - accuracy: 0.7905 - val_loss: 0.6953 - val_accuracy: 0.7679\n",
            "Epoch 12/30\n",
            "10/10 [==============================] - 0s 17ms/step - loss: 0.6015 - accuracy: 0.8032 - val_loss: 0.6381 - val_accuracy: 0.7679\n",
            "Epoch 13/30\n",
            "10/10 [==============================] - 0s 17ms/step - loss: 0.5023 - accuracy: 0.8444 - val_loss: 0.5785 - val_accuracy: 0.8036\n",
            "Epoch 14/30\n",
            "10/10 [==============================] - 0s 18ms/step - loss: 0.4406 - accuracy: 0.8825 - val_loss: 0.5494 - val_accuracy: 0.7857\n",
            "Epoch 15/30\n",
            "10/10 [==============================] - 0s 17ms/step - loss: 0.4209 - accuracy: 0.8794 - val_loss: 0.5568 - val_accuracy: 0.8571\n",
            "Epoch 16/30\n",
            "10/10 [==============================] - 0s 17ms/step - loss: 0.3935 - accuracy: 0.8825 - val_loss: 0.5102 - val_accuracy: 0.8393\n",
            "Epoch 17/30\n",
            "10/10 [==============================] - 0s 17ms/step - loss: 0.4041 - accuracy: 0.8730 - val_loss: 0.4818 - val_accuracy: 0.8393\n",
            "Epoch 18/30\n",
            "10/10 [==============================] - 0s 18ms/step - loss: 0.3949 - accuracy: 0.8667 - val_loss: 0.4534 - val_accuracy: 0.8571\n",
            "Epoch 19/30\n",
            "10/10 [==============================] - 0s 18ms/step - loss: 0.4024 - accuracy: 0.8635 - val_loss: 0.4270 - val_accuracy: 0.8750\n",
            "Epoch 20/30\n",
            "10/10 [==============================] - 0s 18ms/step - loss: 0.3147 - accuracy: 0.8984 - val_loss: 0.4331 - val_accuracy: 0.8571\n",
            "Epoch 21/30\n",
            "10/10 [==============================] - 0s 32ms/step - loss: 0.2979 - accuracy: 0.9238 - val_loss: 0.4241 - val_accuracy: 0.8393\n",
            "Epoch 22/30\n",
            "10/10 [==============================] - 0s 17ms/step - loss: 0.2654 - accuracy: 0.9238 - val_loss: 0.3953 - val_accuracy: 0.8750\n",
            "Epoch 23/30\n",
            "10/10 [==============================] - 0s 18ms/step - loss: 0.2824 - accuracy: 0.9175 - val_loss: 0.3631 - val_accuracy: 0.8571\n",
            "Epoch 24/30\n",
            "10/10 [==============================] - 0s 17ms/step - loss: 0.2634 - accuracy: 0.9111 - val_loss: 0.3382 - val_accuracy: 0.8929\n",
            "Epoch 25/30\n",
            "10/10 [==============================] - 0s 17ms/step - loss: 0.2144 - accuracy: 0.9302 - val_loss: 0.3746 - val_accuracy: 0.8929\n",
            "Epoch 26/30\n",
            "10/10 [==============================] - 0s 18ms/step - loss: 0.2269 - accuracy: 0.9333 - val_loss: 0.3328 - val_accuracy: 0.8750\n",
            "Epoch 27/30\n",
            "10/10 [==============================] - 0s 18ms/step - loss: 0.2355 - accuracy: 0.9333 - val_loss: 0.3086 - val_accuracy: 0.9107\n",
            "Epoch 28/30\n",
            "10/10 [==============================] - 0s 17ms/step - loss: 0.1909 - accuracy: 0.9429 - val_loss: 0.3278 - val_accuracy: 0.9107\n",
            "Epoch 29/30\n",
            "10/10 [==============================] - 0s 18ms/step - loss: 0.2078 - accuracy: 0.9175 - val_loss: 0.3057 - val_accuracy: 0.8750\n",
            "Epoch 30/30\n",
            "10/10 [==============================] - 0s 18ms/step - loss: 0.1864 - accuracy: 0.9270 - val_loss: 0.4059 - val_accuracy: 0.8571\n"
          ],
          "name": "stdout"
        }
      ]
    },
    {
      "cell_type": "code",
      "metadata": {
        "id": "TUW1LuJkN6KY",
        "colab_type": "code",
        "colab": {
          "base_uri": "https://localhost:8080/",
          "height": 374
        },
        "outputId": "6d4c6c0d-9653-4f12-ee30-dafe473061e6"
      },
      "source": [
        "fig,(ax1,ax2)=plt.subplots(nrows=1,ncols=2,figsize=(20,6))\n",
        "ax1.plot(history.history['accuracy'],label='train_accuracy')\n",
        "ax1.plot(history.history['val_accuracy'],label='test_accuracy')\n",
        "ax1.legend()\n",
        "ax2.plot(history.history['loss'],label='train_loss')\n",
        "ax2.plot(history.history['val_loss'],label='test_loss')\n",
        "ax2.legend()\n",
        "plt.show()"
      ],
      "execution_count": 70,
      "outputs": [
        {
          "output_type": "display_data",
          "data": {
            "image/png": "[encoded data removed]",
            "text/plain": [
              "<Figure size 1440x432 with 2 Axes>"
            ]
          },
          "metadata": {
            "tags": [],
            "needs_background": "light"
          }
        }
      ]
    },
    {
      "cell_type": "markdown",
      "metadata": {
        "id": "ypwM9_8QOc9U",
        "colab_type": "text"
      },
      "source": [
        "### Multilayer Bidirectional LSTM"
      ]
    },
    {
      "cell_type": "code",
      "metadata": {
        "id": "SAGlDNpqOhk5",
        "colab_type": "code",
        "colab": {}
      },
      "source": [
        "model2=Sequential()"
      ],
      "execution_count": 0,
      "outputs": []
    },
    {
      "cell_type": "code",
      "metadata": {
        "id": "Gmf7MUpKPz_f",
        "colab_type": "code",
        "colab": {}
      },
      "source": [
        "model2.add(Embedding(vocab_size,100,input_length=30,weights=[embeddings_matrix],trainable=False))\n",
        "model2.add(Dropout(0.3))\n",
        "model2.add(Bidirectional(LSTM(32,return_sequences=True)))\n",
        "model2.add(Dropout(0.3))\n",
        "model2.add(Bidirectional(LSTM(32)))\n",
        "model2.add(Dense(5,activation='softmax'))"
      ],
      "execution_count": 0,
      "outputs": []
    },
    {
      "cell_type": "code",
      "metadata": {
        "id": "vb61wLB2P_pu",
        "colab_type": "code",
        "colab": {
          "base_uri": "https://localhost:8080/",
          "height": 367
        },
        "outputId": "c2796b91-beed-487e-d5a9-e8126401ad74"
      },
      "source": [
        "model2.summary()"
      ],
      "execution_count": 73,
      "outputs": [
        {
          "output_type": "stream",
          "text": [
            "Model: \"sequential_3\"\n",
            "_________________________________________________________________\n",
            "Layer (type)                 Output Shape              Param #   \n",
            "=================================================================\n",
            "embedding_3 (Embedding)      (None, 30, 100)           31900     \n",
            "_________________________________________________________________\n",
            "dropout_3 (Dropout)          (None, 30, 100)           0         \n",
            "_________________________________________________________________\n",
            "bidirectional_3 (Bidirection (None, 30, 64)            34048     \n",
            "_________________________________________________________________\n",
            "dropout_4 (Dropout)          (None, 30, 64)            0         \n",
            "_________________________________________________________________\n",
            "bidirectional_4 (Bidirection (None, 64)                24832     \n",
            "_________________________________________________________________\n",
            "dense_3 (Dense)              (None, 5)                 325       \n",
            "=================================================================\n",
            "Total params: 91,105\n",
            "Trainable params: 59,205\n",
            "Non-trainable params: 31,900\n",
            "_________________________________________________________________\n"
          ],
          "name": "stdout"
        }
      ]
    },
    {
      "cell_type": "code",
      "metadata": {
        "id": "gb003YEGQFCR",
        "colab_type": "code",
        "colab": {}
      },
      "source": [
        "model2.compile(optimizer='adam',loss='sparse_categorical_crossentropy',metrics=['accuracy'])"
      ],
      "execution_count": 0,
      "outputs": []
    },
    {
      "cell_type": "code",
      "metadata": {
        "id": "QJuUItuyQIIy",
        "colab_type": "code",
        "colab": {
          "base_uri": "https://localhost:8080/",
          "height": 1000
        },
        "outputId": "04a43d95-a4ce-480c-874c-ab20f7a3034d"
      },
      "source": [
        "history=model2.fit(train_padded,y_train,epochs=30,validation_data=(test_padded,y_test))"
      ],
      "execution_count": 75,
      "outputs": [
        {
          "output_type": "stream",
          "text": [
            "Epoch 1/30\n",
            "10/10 [==============================] - 2s 167ms/step - loss: 1.5605 - accuracy: 0.3429 - val_loss: 1.5219 - val_accuracy: 0.3214\n",
            "Epoch 2/30\n",
            "10/10 [==============================] - 0s 32ms/step - loss: 1.4880 - accuracy: 0.3937 - val_loss: 1.4657 - val_accuracy: 0.3571\n",
            "Epoch 3/30\n",
            "10/10 [==============================] - 0s 31ms/step - loss: 1.4324 - accuracy: 0.4349 - val_loss: 1.3930 - val_accuracy: 0.3750\n",
            "Epoch 4/30\n",
            "10/10 [==============================] - 0s 31ms/step - loss: 1.3218 - accuracy: 0.4635 - val_loss: 1.2888 - val_accuracy: 0.4286\n",
            "Epoch 5/30\n",
            "10/10 [==============================] - 0s 33ms/step - loss: 1.1745 - accuracy: 0.5619 - val_loss: 1.1969 - val_accuracy: 0.4821\n",
            "Epoch 6/30\n",
            "10/10 [==============================] - 0s 31ms/step - loss: 1.0812 - accuracy: 0.6032 - val_loss: 1.0841 - val_accuracy: 0.5714\n",
            "Epoch 7/30\n",
            "10/10 [==============================] - 0s 31ms/step - loss: 0.9877 - accuracy: 0.6349 - val_loss: 1.0214 - val_accuracy: 0.6071\n",
            "Epoch 8/30\n",
            "10/10 [==============================] - 0s 31ms/step - loss: 0.8478 - accuracy: 0.6984 - val_loss: 0.8893 - val_accuracy: 0.6786\n",
            "Epoch 9/30\n",
            "10/10 [==============================] - 0s 31ms/step - loss: 0.7619 - accuracy: 0.7365 - val_loss: 0.7936 - val_accuracy: 0.6786\n",
            "Epoch 10/30\n",
            "10/10 [==============================] - 0s 31ms/step - loss: 0.6187 - accuracy: 0.7810 - val_loss: 0.8264 - val_accuracy: 0.6607\n",
            "Epoch 11/30\n",
            "10/10 [==============================] - 0s 33ms/step - loss: 0.6436 - accuracy: 0.7746 - val_loss: 0.7555 - val_accuracy: 0.6964\n",
            "Epoch 12/30\n",
            "10/10 [==============================] - 0s 31ms/step - loss: 0.5139 - accuracy: 0.8063 - val_loss: 0.6000 - val_accuracy: 0.7321\n",
            "Epoch 13/30\n",
            "10/10 [==============================] - 0s 32ms/step - loss: 0.4902 - accuracy: 0.8381 - val_loss: 0.5396 - val_accuracy: 0.7321\n",
            "Epoch 14/30\n",
            "10/10 [==============================] - 0s 32ms/step - loss: 0.4572 - accuracy: 0.8349 - val_loss: 0.4791 - val_accuracy: 0.8036\n",
            "Epoch 15/30\n",
            "10/10 [==============================] - 0s 31ms/step - loss: 0.4382 - accuracy: 0.8571 - val_loss: 0.4703 - val_accuracy: 0.7857\n",
            "Epoch 16/30\n",
            "10/10 [==============================] - 0s 31ms/step - loss: 0.3812 - accuracy: 0.8794 - val_loss: 0.4153 - val_accuracy: 0.8036\n",
            "Epoch 17/30\n",
            "10/10 [==============================] - 0s 31ms/step - loss: 0.3568 - accuracy: 0.8730 - val_loss: 0.4825 - val_accuracy: 0.8214\n",
            "Epoch 18/30\n",
            "10/10 [==============================] - 0s 31ms/step - loss: 0.3402 - accuracy: 0.8825 - val_loss: 0.3908 - val_accuracy: 0.8393\n",
            "Epoch 19/30\n",
            "10/10 [==============================] - 0s 31ms/step - loss: 0.3163 - accuracy: 0.8921 - val_loss: 0.3747 - val_accuracy: 0.8571\n",
            "Epoch 20/30\n",
            "10/10 [==============================] - 0s 31ms/step - loss: 0.3299 - accuracy: 0.8762 - val_loss: 0.3071 - val_accuracy: 0.8750\n",
            "Epoch 21/30\n",
            "10/10 [==============================] - 0s 31ms/step - loss: 0.3189 - accuracy: 0.8857 - val_loss: 0.3227 - val_accuracy: 0.8750\n",
            "Epoch 22/30\n",
            "10/10 [==============================] - 0s 31ms/step - loss: 0.3320 - accuracy: 0.8762 - val_loss: 0.4256 - val_accuracy: 0.8393\n",
            "Epoch 23/30\n",
            "10/10 [==============================] - 0s 32ms/step - loss: 0.2802 - accuracy: 0.9016 - val_loss: 0.3064 - val_accuracy: 0.8750\n",
            "Epoch 24/30\n",
            "10/10 [==============================] - 0s 31ms/step - loss: 0.3027 - accuracy: 0.8794 - val_loss: 0.3379 - val_accuracy: 0.8750\n",
            "Epoch 25/30\n",
            "10/10 [==============================] - 0s 31ms/step - loss: 0.2449 - accuracy: 0.9175 - val_loss: 0.2434 - val_accuracy: 0.9286\n",
            "Epoch 26/30\n",
            "10/10 [==============================] - 0s 31ms/step - loss: 0.2150 - accuracy: 0.9175 - val_loss: 0.2235 - val_accuracy: 0.9286\n",
            "Epoch 27/30\n",
            "10/10 [==============================] - 0s 31ms/step - loss: 0.2132 - accuracy: 0.9429 - val_loss: 0.2336 - val_accuracy: 0.9286\n",
            "Epoch 28/30\n",
            "10/10 [==============================] - 0s 31ms/step - loss: 0.2187 - accuracy: 0.9238 - val_loss: 0.1838 - val_accuracy: 0.9464\n",
            "Epoch 29/30\n",
            "10/10 [==============================] - 0s 32ms/step - loss: 0.2250 - accuracy: 0.9206 - val_loss: 0.1846 - val_accuracy: 0.9464\n",
            "Epoch 30/30\n",
            "10/10 [==============================] - 0s 32ms/step - loss: 0.2038 - accuracy: 0.9302 - val_loss: 0.1974 - val_accuracy: 0.9286\n"
          ],
          "name": "stdout"
        }
      ]
    },
    {
      "cell_type": "code",
      "metadata": {
        "id": "4mcidir0QNCw",
        "colab_type": "code",
        "colab": {
          "base_uri": "https://localhost:8080/",
          "height": 374
        },
        "outputId": "84336c9a-da4b-4b84-9e3c-05340db6d72b"
      },
      "source": [
        "fig,(ax1,ax2)=plt.subplots(nrows=1,ncols=2,figsize=(20,6))\n",
        "ax1.plot(history.history['accuracy'],label='train_accuracy')\n",
        "ax1.plot(history.history['val_accuracy'],label='test_accuracy')\n",
        "ax1.legend()\n",
        "ax2.plot(history.history['loss'],label='train_loss')\n",
        "ax2.plot(history.history['val_loss'],label='test_loss')\n",
        "ax2.legend()\n",
        "plt.show()"
      ],
      "execution_count": 76,
      "outputs": [
        {
          "output_type": "display_data",
          "data": {
            "image/png": "[encoded data removed]",
            "text/plain": [
              "<Figure size 1440x432 with 2 Axes>"
            ]
          },
          "metadata": {
            "tags": [],
            "needs_background": "light"
          }
        }
      ]
    },
    {
      "cell_type": "markdown",
      "metadata": {
        "id": "YoavwPStQnKG",
        "colab_type": "text"
      },
      "source": [
        "### Multilayer Bidirectional LSTM is a better model and gives a good accuracy of 92%"
      ]
    },
    {
      "cell_type": "markdown",
      "metadata": {
        "id": "eweQs7uxQ0yS",
        "colab_type": "text"
      },
      "source": [
        "### Predicting With some new values"
      ]
    },
    {
      "cell_type": "code",
      "metadata": {
        "id": "X7C4FwqdQlm0",
        "colab_type": "code",
        "colab": {}
      },
      "source": [
        ""
      ],
      "execution_count": 0,
      "outputs": []
    }
  ]
}