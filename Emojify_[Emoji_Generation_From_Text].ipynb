{
  "nbformat": 4,
  "nbformat_minor": 0,
  "metadata": {
    "colab": {
      "name": "Emojify [Emoji_Generation_From_Text].ipynb",
      "provenance": [],
      "collapsed_sections": []
    },
    "kernelspec": {
      "name": "python3",
      "display_name": "Python 3"
    },
    "accelerator": "GPU"
  },
  "cells": [
    {
      "cell_type": "code",
      "metadata": {
        "id": "BJISfQ071PGn",
        "colab_type": "code",
        "colab": {}
      },
      "source": [
        "import pandas as pd\n",
        "import numpy as np\n",
        "import matplotlib.pyplot as plt"
      ],
      "execution_count": 0,
      "outputs": []
    },
    {
      "cell_type": "code",
      "metadata": {
        "id": "qmxnw-uG3Btq",
        "colab_type": "code",
        "outputId": "515f7324-b0f4-4fef-a98f-429e3b932f49",
        "colab": {
          "base_uri": "https://localhost:8080/",
          "height": 34
        }
      },
      "source": [
        "import tensorflow as tf\n",
        "tf.__version__"
      ],
      "execution_count": 2,
      "outputs": [
        {
          "output_type": "execute_result",
          "data": {
            "text/plain": [
              "'2.2.0-rc3'"
            ]
          },
          "metadata": {
            "tags": []
          },
          "execution_count": 2
        }
      ]
    },
    {
      "cell_type": "code",
      "metadata": {
        "id": "h7_xmv853FmI",
        "colab_type": "code",
        "colab": {}
      },
      "source": [
        "from tensorflow.keras.preprocessing.text import Tokenizer\n",
        "from tensorflow.keras.preprocessing.sequence import pad_sequences\n",
        "import tensorflow.keras.utils as ku"
      ],
      "execution_count": 0,
      "outputs": []
    },
    {
      "cell_type": "code",
      "metadata": {
        "id": "rMFjwJOwJB2Q",
        "colab_type": "code",
        "colab": {}
      },
      "source": [
        "from tensorflow.keras.models import Sequential\n",
        "from tensorflow.keras.layers import Dense\n",
        "from tensorflow.keras.layers import LSTM\n",
        "from tensorflow.keras.layers import Dropout\n",
        "from tensorflow.keras.layers import Bidirectional\n",
        "from tensorflow.keras.layers import Embedding"
      ],
      "execution_count": 0,
      "outputs": []
    },
    {
      "cell_type": "code",
      "metadata": {
        "id": "JKVuf7xbZV_Y",
        "colab_type": "code",
        "colab": {}
      },
      "source": [
        "from sklearn.metrics import classification_report\n",
        "from sklearn.metrics import confusion_matrix"
      ],
      "execution_count": 0,
      "outputs": []
    },
    {
      "cell_type": "code",
      "metadata": {
        "id": "OfezPacYl-OS",
        "colab_type": "code",
        "colab": {}
      },
      "source": [
        "import emoji"
      ],
      "execution_count": 0,
      "outputs": []
    },
    {
      "cell_type": "markdown",
      "metadata": {
        "id": "dee3uqPGI8Kf",
        "colab_type": "text"
      },
      "source": [
        "### Preparing Data"
      ]
    },
    {
      "cell_type": "code",
      "metadata": {
        "id": "JHKZqVdO3bYl",
        "colab_type": "code",
        "colab": {}
      },
      "source": [
        "df1=pd.read_csv('/content/drive/My Drive/Colab Notebooks/Emojify_Dataset/train_emoji.csv')"
      ],
      "execution_count": 0,
      "outputs": []
    },
    {
      "cell_type": "code",
      "metadata": {
        "id": "vzUlRA-S3oZg",
        "colab_type": "code",
        "outputId": "5a62a7cd-aab0-4585-e730-1305c0f05d4a",
        "colab": {
          "base_uri": "https://localhost:8080/",
          "height": 197
        }
      },
      "source": [
        "df1.head()"
      ],
      "execution_count": 8,
      "outputs": [
        {
          "output_type": "execute_result",
          "data": {
            "text/html": [
              "<div>\n",
              "<style scoped>\n",
              "    .dataframe tbody tr th:only-of-type {\n",
              "        vertical-align: middle;\n",
              "    }\n",
              "\n",
              "    .dataframe tbody tr th {\n",
              "        vertical-align: top;\n",
              "    }\n",
              "\n",
              "    .dataframe thead th {\n",
              "        text-align: right;\n",
              "    }\n",
              "</style>\n",
              "<table border=\"1\" class=\"dataframe\">\n",
              "  <thead>\n",
              "    <tr style=\"text-align: right;\">\n",
              "      <th></th>\n",
              "      <th>Text</th>\n",
              "      <th>Labels</th>\n",
              "      <th>Unnamed: 2</th>\n",
              "      <th>Unnamed: 3</th>\n",
              "    </tr>\n",
              "  </thead>\n",
              "  <tbody>\n",
              "    <tr>\n",
              "      <th>0</th>\n",
              "      <td>I am proud of your achievements</td>\n",
              "      <td>2</td>\n",
              "      <td>NaN</td>\n",
              "      <td>NaN</td>\n",
              "    </tr>\n",
              "    <tr>\n",
              "      <th>1</th>\n",
              "      <td>It is the worst day in my life</td>\n",
              "      <td>3</td>\n",
              "      <td>NaN</td>\n",
              "      <td>NaN</td>\n",
              "    </tr>\n",
              "    <tr>\n",
              "      <th>2</th>\n",
              "      <td>Miss you so much</td>\n",
              "      <td>0</td>\n",
              "      <td>NaN</td>\n",
              "      <td>[0]</td>\n",
              "    </tr>\n",
              "    <tr>\n",
              "      <th>3</th>\n",
              "      <td>food is life</td>\n",
              "      <td>4</td>\n",
              "      <td>NaN</td>\n",
              "      <td>NaN</td>\n",
              "    </tr>\n",
              "    <tr>\n",
              "      <th>4</th>\n",
              "      <td>I love you mum</td>\n",
              "      <td>0</td>\n",
              "      <td>NaN</td>\n",
              "      <td>NaN</td>\n",
              "    </tr>\n",
              "  </tbody>\n",
              "</table>\n",
              "</div>"
            ],
            "text/plain": [
              "                              Text  Labels  Unnamed: 2 Unnamed: 3\n",
              "0  I am proud of your achievements       2         NaN        NaN\n",
              "1   It is the worst day in my life       3         NaN        NaN\n",
              "2                 Miss you so much       0         NaN        [0]\n",
              "3                     food is life       4         NaN        NaN\n",
              "4                   I love you mum       0         NaN        NaN"
            ]
          },
          "metadata": {
            "tags": []
          },
          "execution_count": 8
        }
      ]
    },
    {
      "cell_type": "code",
      "metadata": {
        "id": "_kCPd2ek553p",
        "colab_type": "code",
        "outputId": "3f7d1edc-bdec-4993-8004-20f02b62ee7c",
        "colab": {
          "base_uri": "https://localhost:8080/",
          "height": 34
        }
      },
      "source": [
        "df1.shape"
      ],
      "execution_count": 9,
      "outputs": [
        {
          "output_type": "execute_result",
          "data": {
            "text/plain": [
              "(132, 4)"
            ]
          },
          "metadata": {
            "tags": []
          },
          "execution_count": 9
        }
      ]
    },
    {
      "cell_type": "code",
      "metadata": {
        "id": "hq4tCLgqaHoR",
        "colab_type": "code",
        "colab": {
          "base_uri": "https://localhost:8080/",
          "height": 122
        },
        "outputId": "69108f3a-7072-4a16-9e7c-be8a65aa5399"
      },
      "source": [
        "df1['Labels'].value_counts()"
      ],
      "execution_count": 10,
      "outputs": [
        {
          "output_type": "execute_result",
          "data": {
            "text/plain": [
              "2    38\n",
              "3    36\n",
              "0    22\n",
              "1    19\n",
              "4    17\n",
              "Name: Labels, dtype: int64"
            ]
          },
          "metadata": {
            "tags": []
          },
          "execution_count": 10
        }
      ]
    },
    {
      "cell_type": "code",
      "metadata": {
        "id": "cpFtpfPR7fTl",
        "colab_type": "code",
        "colab": {}
      },
      "source": [
        "df2=pd.read_csv('/content/drive/My Drive/Colab Notebooks/Emojify_Dataset/emojify_data.csv')"
      ],
      "execution_count": 0,
      "outputs": []
    },
    {
      "cell_type": "code",
      "metadata": {
        "id": "6m2jROZA7m8S",
        "colab_type": "code",
        "outputId": "4b1e2d29-0877-40c0-bee1-7f72b2a15d8f",
        "colab": {
          "base_uri": "https://localhost:8080/",
          "height": 197
        }
      },
      "source": [
        "df2.head()"
      ],
      "execution_count": 12,
      "outputs": [
        {
          "output_type": "execute_result",
          "data": {
            "text/html": [
              "<div>\n",
              "<style scoped>\n",
              "    .dataframe tbody tr th:only-of-type {\n",
              "        vertical-align: middle;\n",
              "    }\n",
              "\n",
              "    .dataframe tbody tr th {\n",
              "        vertical-align: top;\n",
              "    }\n",
              "\n",
              "    .dataframe thead th {\n",
              "        text-align: right;\n",
              "    }\n",
              "</style>\n",
              "<table border=\"1\" class=\"dataframe\">\n",
              "  <thead>\n",
              "    <tr style=\"text-align: right;\">\n",
              "      <th></th>\n",
              "      <th>Text</th>\n",
              "      <th>Labels</th>\n",
              "      <th>Unnamed: 2</th>\n",
              "      <th>Unnamed: 3</th>\n",
              "    </tr>\n",
              "  </thead>\n",
              "  <tbody>\n",
              "    <tr>\n",
              "      <th>0</th>\n",
              "      <td>work is horrible</td>\n",
              "      <td>3</td>\n",
              "      <td>NaN</td>\n",
              "      <td>NaN</td>\n",
              "    </tr>\n",
              "    <tr>\n",
              "      <th>1</th>\n",
              "      <td>I am upset</td>\n",
              "      <td>3</td>\n",
              "      <td>NaN</td>\n",
              "      <td>[3]</td>\n",
              "    </tr>\n",
              "    <tr>\n",
              "      <th>2</th>\n",
              "      <td>throw the ball</td>\n",
              "      <td>1</td>\n",
              "      <td>NaN</td>\n",
              "      <td>[2]</td>\n",
              "    </tr>\n",
              "    <tr>\n",
              "      <th>3</th>\n",
              "      <td>Good joke</td>\n",
              "      <td>2</td>\n",
              "      <td>NaN</td>\n",
              "      <td>NaN</td>\n",
              "    </tr>\n",
              "    <tr>\n",
              "      <th>4</th>\n",
              "      <td>what is your favorite baseball game</td>\n",
              "      <td>1</td>\n",
              "      <td>NaN</td>\n",
              "      <td>NaN</td>\n",
              "    </tr>\n",
              "  </tbody>\n",
              "</table>\n",
              "</div>"
            ],
            "text/plain": [
              "                                  Text  Labels  Unnamed: 2 Unnamed: 3\n",
              "0                     work is horrible       3         NaN        NaN\n",
              "1                           I am upset       3         NaN        [3]\n",
              "2                       throw the ball       1         NaN        [2]\n",
              "3                            Good joke       2         NaN        NaN\n",
              "4  what is your favorite baseball game       1         NaN        NaN"
            ]
          },
          "metadata": {
            "tags": []
          },
          "execution_count": 12
        }
      ]
    },
    {
      "cell_type": "code",
      "metadata": {
        "id": "EWocKlecaBG6",
        "colab_type": "code",
        "colab": {
          "base_uri": "https://localhost:8080/",
          "height": 122
        },
        "outputId": "7fedf2b4-9209-41b8-a3c5-fec690d5c146"
      },
      "source": [
        "df2['Labels'].value_counts()"
      ],
      "execution_count": 13,
      "outputs": [
        {
          "output_type": "execute_result",
          "data": {
            "text/plain": [
              "2    56\n",
              "3    52\n",
              "0    33\n",
              "4    23\n",
              "1    19\n",
              "Name: Labels, dtype: int64"
            ]
          },
          "metadata": {
            "tags": []
          },
          "execution_count": 13
        }
      ]
    },
    {
      "cell_type": "code",
      "metadata": {
        "id": "B47aPwGJ77BM",
        "colab_type": "code",
        "outputId": "33be1b82-1094-4491-9e9e-e80cb0185d1f",
        "colab": {
          "base_uri": "https://localhost:8080/",
          "height": 34
        }
      },
      "source": [
        "df2.shape"
      ],
      "execution_count": 14,
      "outputs": [
        {
          "output_type": "execute_result",
          "data": {
            "text/plain": [
              "(183, 4)"
            ]
          },
          "metadata": {
            "tags": []
          },
          "execution_count": 14
        }
      ]
    },
    {
      "cell_type": "code",
      "metadata": {
        "id": "7vj99JJL7oY5",
        "colab_type": "code",
        "colab": {}
      },
      "source": [
        "train_df=pd.concat([df1,df2],ignore_index=True)"
      ],
      "execution_count": 0,
      "outputs": []
    },
    {
      "cell_type": "code",
      "metadata": {
        "id": "iTPIv8yC79SS",
        "colab_type": "code",
        "outputId": "bf975dee-a394-4604-bf28-ebfb5512517d",
        "colab": {
          "base_uri": "https://localhost:8080/",
          "height": 407
        }
      },
      "source": [
        "train_df"
      ],
      "execution_count": 16,
      "outputs": [
        {
          "output_type": "execute_result",
          "data": {
            "text/html": [
              "<div>\n",
              "<style scoped>\n",
              "    .dataframe tbody tr th:only-of-type {\n",
              "        vertical-align: middle;\n",
              "    }\n",
              "\n",
              "    .dataframe tbody tr th {\n",
              "        vertical-align: top;\n",
              "    }\n",
              "\n",
              "    .dataframe thead th {\n",
              "        text-align: right;\n",
              "    }\n",
              "</style>\n",
              "<table border=\"1\" class=\"dataframe\">\n",
              "  <thead>\n",
              "    <tr style=\"text-align: right;\">\n",
              "      <th></th>\n",
              "      <th>Text</th>\n",
              "      <th>Labels</th>\n",
              "      <th>Unnamed: 2</th>\n",
              "      <th>Unnamed: 3</th>\n",
              "    </tr>\n",
              "  </thead>\n",
              "  <tbody>\n",
              "    <tr>\n",
              "      <th>0</th>\n",
              "      <td>I am proud of your achievements</td>\n",
              "      <td>2</td>\n",
              "      <td>NaN</td>\n",
              "      <td>NaN</td>\n",
              "    </tr>\n",
              "    <tr>\n",
              "      <th>1</th>\n",
              "      <td>It is the worst day in my life</td>\n",
              "      <td>3</td>\n",
              "      <td>NaN</td>\n",
              "      <td>NaN</td>\n",
              "    </tr>\n",
              "    <tr>\n",
              "      <th>2</th>\n",
              "      <td>Miss you so much</td>\n",
              "      <td>0</td>\n",
              "      <td>NaN</td>\n",
              "      <td>[0]</td>\n",
              "    </tr>\n",
              "    <tr>\n",
              "      <th>3</th>\n",
              "      <td>food is life</td>\n",
              "      <td>4</td>\n",
              "      <td>NaN</td>\n",
              "      <td>NaN</td>\n",
              "    </tr>\n",
              "    <tr>\n",
              "      <th>4</th>\n",
              "      <td>I love you mum</td>\n",
              "      <td>0</td>\n",
              "      <td>NaN</td>\n",
              "      <td>NaN</td>\n",
              "    </tr>\n",
              "    <tr>\n",
              "      <th>...</th>\n",
              "      <td>...</td>\n",
              "      <td>...</td>\n",
              "      <td>...</td>\n",
              "      <td>...</td>\n",
              "    </tr>\n",
              "    <tr>\n",
              "      <th>310</th>\n",
              "      <td>dance with me</td>\n",
              "      <td>2</td>\n",
              "      <td>NaN</td>\n",
              "      <td>NaN</td>\n",
              "    </tr>\n",
              "    <tr>\n",
              "      <th>311</th>\n",
              "      <td>she is a bully</td>\n",
              "      <td>3</td>\n",
              "      <td>NaN</td>\n",
              "      <td>NaN</td>\n",
              "    </tr>\n",
              "    <tr>\n",
              "      <th>312</th>\n",
              "      <td>she plays baseball</td>\n",
              "      <td>1</td>\n",
              "      <td>NaN</td>\n",
              "      <td>NaN</td>\n",
              "    </tr>\n",
              "    <tr>\n",
              "      <th>313</th>\n",
              "      <td>I like it when people smile</td>\n",
              "      <td>2</td>\n",
              "      <td>NaN</td>\n",
              "      <td>NaN</td>\n",
              "    </tr>\n",
              "    <tr>\n",
              "      <th>314</th>\n",
              "      <td>French macaroon is so tasty</td>\n",
              "      <td>4</td>\n",
              "      <td>NaN</td>\n",
              "      <td>NaN</td>\n",
              "    </tr>\n",
              "  </tbody>\n",
              "</table>\n",
              "<p>315 rows × 4 columns</p>\n",
              "</div>"
            ],
            "text/plain": [
              "                                Text  Labels  Unnamed: 2 Unnamed: 3\n",
              "0    I am proud of your achievements       2         NaN        NaN\n",
              "1     It is the worst day in my life       3         NaN        NaN\n",
              "2                   Miss you so much       0         NaN        [0]\n",
              "3                       food is life       4         NaN        NaN\n",
              "4                     I love you mum       0         NaN        NaN\n",
              "..                               ...     ...         ...        ...\n",
              "310                    dance with me       2         NaN        NaN\n",
              "311                   she is a bully       3         NaN        NaN\n",
              "312               she plays baseball       1         NaN        NaN\n",
              "313      I like it when people smile       2         NaN        NaN\n",
              "314      French macaroon is so tasty       4         NaN        NaN\n",
              "\n",
              "[315 rows x 4 columns]"
            ]
          },
          "metadata": {
            "tags": []
          },
          "execution_count": 16
        }
      ]
    },
    {
      "cell_type": "code",
      "metadata": {
        "id": "AduHC6cR-8el",
        "colab_type": "code",
        "colab": {}
      },
      "source": [
        "test_df=pd.read_csv('/content/drive/My Drive/Colab Notebooks/Emojify_Dataset/test_emoji.csv')"
      ],
      "execution_count": 0,
      "outputs": []
    },
    {
      "cell_type": "code",
      "metadata": {
        "id": "fsao0AcJ_ByU",
        "colab_type": "code",
        "outputId": "4032c0f9-7cf6-4e3b-82f3-7d396d54950c",
        "colab": {
          "base_uri": "https://localhost:8080/",
          "height": 197
        }
      },
      "source": [
        "test_df.head()"
      ],
      "execution_count": 18,
      "outputs": [
        {
          "output_type": "execute_result",
          "data": {
            "text/html": [
              "<div>\n",
              "<style scoped>\n",
              "    .dataframe tbody tr th:only-of-type {\n",
              "        vertical-align: middle;\n",
              "    }\n",
              "\n",
              "    .dataframe tbody tr th {\n",
              "        vertical-align: top;\n",
              "    }\n",
              "\n",
              "    .dataframe thead th {\n",
              "        text-align: right;\n",
              "    }\n",
              "</style>\n",
              "<table border=\"1\" class=\"dataframe\">\n",
              "  <thead>\n",
              "    <tr style=\"text-align: right;\">\n",
              "      <th></th>\n",
              "      <th>Text</th>\n",
              "      <th>Unnamed: 1</th>\n",
              "      <th>Labels</th>\n",
              "    </tr>\n",
              "  </thead>\n",
              "  <tbody>\n",
              "    <tr>\n",
              "      <th>0</th>\n",
              "      <td>he did not answer</td>\n",
              "      <td>NaN</td>\n",
              "      <td>3</td>\n",
              "    </tr>\n",
              "    <tr>\n",
              "      <th>1</th>\n",
              "      <td>he got a raise</td>\n",
              "      <td>NaN</td>\n",
              "      <td>2</td>\n",
              "    </tr>\n",
              "    <tr>\n",
              "      <th>2</th>\n",
              "      <td>she got me a present</td>\n",
              "      <td>NaN</td>\n",
              "      <td>0</td>\n",
              "    </tr>\n",
              "    <tr>\n",
              "      <th>3</th>\n",
              "      <td>ha ha ha it was so funny</td>\n",
              "      <td>NaN</td>\n",
              "      <td>2</td>\n",
              "    </tr>\n",
              "    <tr>\n",
              "      <th>4</th>\n",
              "      <td>he is a good friend</td>\n",
              "      <td>NaN</td>\n",
              "      <td>0</td>\n",
              "    </tr>\n",
              "  </tbody>\n",
              "</table>\n",
              "</div>"
            ],
            "text/plain": [
              "                       Text  Unnamed: 1  Labels\n",
              "0         he did not answer         NaN       3\n",
              "1            he got a raise         NaN       2\n",
              "2      she got me a present         NaN       0\n",
              "3  ha ha ha it was so funny         NaN       2\n",
              "4       he is a good friend         NaN       0"
            ]
          },
          "metadata": {
            "tags": []
          },
          "execution_count": 18
        }
      ]
    },
    {
      "cell_type": "markdown",
      "metadata": {
        "id": "7KRBU3dhJYff",
        "colab_type": "text"
      },
      "source": [
        "### Preparing Training and Testing Data"
      ]
    },
    {
      "cell_type": "code",
      "metadata": {
        "id": "koEurpIO-yu0",
        "colab_type": "code",
        "colab": {}
      },
      "source": [
        "x_train=train_df['Text']"
      ],
      "execution_count": 0,
      "outputs": []
    },
    {
      "cell_type": "code",
      "metadata": {
        "id": "HZLyaYB2JqQ1",
        "colab_type": "code",
        "colab": {}
      },
      "source": [
        "x_test=test_df['Text']"
      ],
      "execution_count": 0,
      "outputs": []
    },
    {
      "cell_type": "code",
      "metadata": {
        "id": "Cgm00X6aJ0KX",
        "colab_type": "code",
        "colab": {}
      },
      "source": [
        "y_train=train_df['Labels']"
      ],
      "execution_count": 0,
      "outputs": []
    },
    {
      "cell_type": "code",
      "metadata": {
        "id": "aibTM06fNWMX",
        "colab_type": "code",
        "outputId": "a0b6e0e7-ac85-4ba4-b7c6-e2bfb350d2f1",
        "colab": {
          "base_uri": "https://localhost:8080/",
          "height": 122
        }
      },
      "source": [
        "y_train.value_counts()"
      ],
      "execution_count": 22,
      "outputs": [
        {
          "output_type": "execute_result",
          "data": {
            "text/plain": [
              "2    94\n",
              "3    88\n",
              "0    55\n",
              "4    40\n",
              "1    38\n",
              "Name: Labels, dtype: int64"
            ]
          },
          "metadata": {
            "tags": []
          },
          "execution_count": 22
        }
      ]
    },
    {
      "cell_type": "code",
      "metadata": {
        "id": "WNdYTHDiKCXr",
        "colab_type": "code",
        "colab": {}
      },
      "source": [
        "y_test=test_df['Labels']"
      ],
      "execution_count": 0,
      "outputs": []
    },
    {
      "cell_type": "code",
      "metadata": {
        "id": "sFHLtUvXYGDJ",
        "colab_type": "code",
        "outputId": "39e4fa5b-0b32-46e9-8fa0-5a3338929138",
        "colab": {
          "base_uri": "https://localhost:8080/",
          "height": 122
        }
      },
      "source": [
        "y_test.value_counts()"
      ],
      "execution_count": 24,
      "outputs": [
        {
          "output_type": "execute_result",
          "data": {
            "text/plain": [
              "2    18\n",
              "3    15\n",
              "0    12\n",
              "4     6\n",
              "1     5\n",
              "Name: Labels, dtype: int64"
            ]
          },
          "metadata": {
            "tags": []
          },
          "execution_count": 24
        }
      ]
    },
    {
      "cell_type": "markdown",
      "metadata": {
        "id": "HpkRDpO9ezU4",
        "colab_type": "text"
      },
      "source": [
        "### Changing Target Variable to categorical"
      ]
    },
    {
      "cell_type": "code",
      "metadata": {
        "id": "GIVWamfudPh3",
        "colab_type": "code",
        "colab": {}
      },
      "source": [
        "y_train_categorical=ku.to_categorical(y_train,num_classes=5)"
      ],
      "execution_count": 0,
      "outputs": []
    },
    {
      "cell_type": "code",
      "metadata": {
        "id": "EHlu4-VudPe0",
        "colab_type": "code",
        "colab": {}
      },
      "source": [
        "y_test_categorical=ku.to_categorical(y_test,num_classes=5)"
      ],
      "execution_count": 0,
      "outputs": []
    },
    {
      "cell_type": "markdown",
      "metadata": {
        "id": "EErACjb8KIvK",
        "colab_type": "text"
      },
      "source": [
        "### Tokenizing And Text Preprocessing"
      ]
    },
    {
      "cell_type": "code",
      "metadata": {
        "id": "id3qJahFKHwn",
        "colab_type": "code",
        "colab": {}
      },
      "source": [
        "tokenizer=Tokenizer()"
      ],
      "execution_count": 0,
      "outputs": []
    },
    {
      "cell_type": "code",
      "metadata": {
        "id": "XIRVXcTnKWHp",
        "colab_type": "code",
        "colab": {}
      },
      "source": [
        "tokenizer.fit_on_texts(x_train)"
      ],
      "execution_count": 0,
      "outputs": []
    },
    {
      "cell_type": "code",
      "metadata": {
        "id": "H162roozKhst",
        "colab_type": "code",
        "outputId": "e203d92a-e5df-4009-d6f0-1c5ca80d557b",
        "colab": {
          "base_uri": "https://localhost:8080/",
          "height": 1000
        }
      },
      "source": [
        "word_index=tokenizer.word_index\n",
        "word_index"
      ],
      "execution_count": 29,
      "outputs": [
        {
          "output_type": "execute_result",
          "data": {
            "text/plain": [
              "{'a': 5,\n",
              " 'acceptance': 109,\n",
              " 'achievements': 104,\n",
              " 'adorable': 189,\n",
              " 'adore': 151,\n",
              " 'after': 133,\n",
              " 'afternoon': 236,\n",
              " 'again': 58,\n",
              " 'algorithm': 115,\n",
              " 'all': 279,\n",
              " 'alone': 165,\n",
              " 'always': 237,\n",
              " 'am': 6,\n",
              " 'amazing': 188,\n",
              " 'an': 187,\n",
              " 'and': 60,\n",
              " 'announcement': 184,\n",
              " 'answer': 86,\n",
              " 'any': 301,\n",
              " 'anything': 206,\n",
              " 'approved': 118,\n",
              " 'are': 10,\n",
              " 'around': 269,\n",
              " 'ask': 138,\n",
              " 'assignment': 110,\n",
              " 'at': 39,\n",
              " 'attractive': 140,\n",
              " 'away': 305,\n",
              " 'awesome': 257,\n",
              " 'awful': 168,\n",
              " 'baby': 95,\n",
              " 'back': 283,\n",
              " 'bad': 41,\n",
              " 'ball': 54,\n",
              " 'base': 229,\n",
              " 'baseball': 29,\n",
              " 'be': 289,\n",
              " 'best': 171,\n",
              " 'birthday': 308,\n",
              " 'boiled': 299,\n",
              " 'boring': 316,\n",
              " 'bravo': 81,\n",
              " 'break': 304,\n",
              " 'breakfast': 311,\n",
              " 'breaks': 296,\n",
              " 'brighten': 317,\n",
              " 'brunch': 135,\n",
              " 'bullshit': 108,\n",
              " 'bully': 318,\n",
              " 'but': 154,\n",
              " 'by': 79,\n",
              " 'cake': 233,\n",
              " 'can': 97,\n",
              " 'cancelled': 276,\n",
              " 'candy': 128,\n",
              " 'cannot': 197,\n",
              " 'catcher': 226,\n",
              " 'celebrate': 123,\n",
              " 'charming': 183,\n",
              " 'cheese': 232,\n",
              " 'chicago': 129,\n",
              " 'chinese': 181,\n",
              " 'code': 153,\n",
              " 'come': 198,\n",
              " 'coming': 126,\n",
              " 'congrats': 224,\n",
              " 'congratulation': 309,\n",
              " 'congratulations': 65,\n",
              " 'cooked': 169,\n",
              " 'cookies': 182,\n",
              " 'could': 222,\n",
              " 'cubs': 130,\n",
              " 'cute': 49,\n",
              " 'cutest': 238,\n",
              " 'dad': 219,\n",
              " 'dance': 258,\n",
              " 'dare': 137,\n",
              " 'date': 210,\n",
              " 'day': 44,\n",
              " 'dear': 208,\n",
              " 'dearest': 127,\n",
              " 'dedication': 200,\n",
              " 'deserve': 285,\n",
              " 'did': 23,\n",
              " 'dinner': 50,\n",
              " 'disappointed': 205,\n",
              " 'do': 25,\n",
              " 'dog': 177,\n",
              " 'dogs': 77,\n",
              " 'down': 52,\n",
              " 'during': 307,\n",
              " 'eat': 100,\n",
              " 'end': 163,\n",
              " 'enjoy': 303,\n",
              " 'ever': 240,\n",
              " 'exam': 134,\n",
              " 'excited': 72,\n",
              " 'exercise': 92,\n",
              " 'failed': 213,\n",
              " 'failing': 271,\n",
              " 'family': 278,\n",
              " 'favorite': 176,\n",
              " 'feeling': 274,\n",
              " 'few': 178,\n",
              " 'final': 263,\n",
              " 'finished': 122,\n",
              " 'first': 228,\n",
              " 'fon': 310,\n",
              " 'food': 26,\n",
              " 'for': 12,\n",
              " 'forever': 75,\n",
              " 'french': 147,\n",
              " 'friend': 293,\n",
              " 'friendly': 196,\n",
              " 'frustrated': 211,\n",
              " 'fun': 56,\n",
              " 'funny': 36,\n",
              " 'game': 47,\n",
              " 'gave': 155,\n",
              " 'get': 145,\n",
              " 'girl': 90,\n",
              " 'give': 215,\n",
              " 'go': 55,\n",
              " 'going': 172,\n",
              " 'good': 40,\n",
              " 'got': 24,\n",
              " 'grade': 160,\n",
              " 'grader': 91,\n",
              " 'grandmother': 297,\n",
              " 'great': 43,\n",
              " 'guy': 220,\n",
              " 'ha': 15,\n",
              " 'had': 61,\n",
              " 'haha': 158,\n",
              " 'handsome': 244,\n",
              " 'happy': 82,\n",
              " 'has': 113,\n",
              " 'hate': 180,\n",
              " 'have': 22,\n",
              " 'having': 294,\n",
              " 'he': 14,\n",
              " 'healthy': 243,\n",
              " 'her': 62,\n",
              " 'here': 246,\n",
              " 'him': 46,\n",
              " 'home': 250,\n",
              " 'homework': 231,\n",
              " 'horrible': 266,\n",
              " 'hours': 191,\n",
              " 'how': 87,\n",
              " 'hug': 216,\n",
              " 'humiliated': 166,\n",
              " 'hungry': 132,\n",
              " 'i': 1,\n",
              " 'impressed': 199,\n",
              " 'in': 83,\n",
              " 'incredibly': 173,\n",
              " 'indian': 248,\n",
              " 'intelligent': 174,\n",
              " 'is': 3,\n",
              " 'it': 20,\n",
              " 'jacket': 287,\n",
              " 'job': 35,\n",
              " 'join': 139,\n",
              " 'joke': 38,\n",
              " 'just': 71,\n",
              " 'killing': 157,\n",
              " 'kind': 195,\n",
              " 'laugh': 313,\n",
              " 'laughing': 143,\n",
              " 'lectures': 234,\n",
              " 'let': 270,\n",
              " 'lets': 48,\n",
              " 'life': 31,\n",
              " 'like': 27,\n",
              " 'likes': 70,\n",
              " 'limit': 114,\n",
              " 'lol': 57,\n",
              " 'long': 67,\n",
              " 'looking': 209,\n",
              " 'loser': 247,\n",
              " 'lost': 98,\n",
              " 'lot': 51,\n",
              " 'love': 18,\n",
              " 'lovely': 291,\n",
              " 'macaroon': 148,\n",
              " 'made': 150,\n",
              " 'make': 249,\n",
              " 'making': 314,\n",
              " 'man': 230,\n",
              " 'many': 259,\n",
              " 'me': 17,\n",
              " 'mean': 152,\n",
              " 'meat': 170,\n",
              " 'messing': 255,\n",
              " 'midterm': 214,\n",
              " 'miss': 32,\n",
              " 'missed': 161,\n",
              " 'moment': 202,\n",
              " 'much': 84,\n",
              " 'mum': 106,\n",
              " 'my': 8,\n",
              " 'near': 290,\n",
              " 'never': 103,\n",
              " 'new': 225,\n",
              " 'no': 68,\n",
              " 'not': 16,\n",
              " 'of': 30,\n",
              " 'on': 45,\n",
              " 'one': 121,\n",
              " 'ordering': 252,\n",
              " 'party': 275,\n",
              " 'people': 193,\n",
              " 'performs': 116,\n",
              " 'person': 239,\n",
              " 'pitch': 280,\n",
              " 'pizza': 159,\n",
              " 'plan': 120,\n",
              " 'play': 85,\n",
              " 'player': 93,\n",
              " 'playing': 262,\n",
              " 'plays': 186,\n",
              " 'points': 260,\n",
              " 'poorly': 117,\n",
              " 'position': 218,\n",
              " 'present': 288,\n",
              " 'prize': 286,\n",
              " 'project': 201,\n",
              " 'proud': 64,\n",
              " 'puppies': 179,\n",
              " 'qualified': 217,\n",
              " 'raise': 277,\n",
              " 'ready': 146,\n",
              " 'really': 281,\n",
              " 'restaurant': 102,\n",
              " 'rice': 300,\n",
              " 'rules': 264,\n",
              " 'run': 251,\n",
              " 'sad': 125,\n",
              " 'said': 73,\n",
              " 'saying': 107,\n",
              " 'score': 261,\n",
              " 'see': 88,\n",
              " 'seen': 241,\n",
              " 'serious': 312,\n",
              " 'she': 13,\n",
              " 'shouting': 69,\n",
              " 'sister': 167,\n",
              " 'smile': 63,\n",
              " 'smiles': 142,\n",
              " 'so': 7,\n",
              " 'solve': 223,\n",
              " 'some': 136,\n",
              " 'soon': 124,\n",
              " 'sounds': 119,\n",
              " 'specialization': 221,\n",
              " 'stadium': 94,\n",
              " 'stars': 282,\n",
              " 'starving': 298,\n",
              " 'stop': 33,\n",
              " 'stupid': 315,\n",
              " 'stupidity': 112,\n",
              " 'such': 99,\n",
              " 'suck': 141,\n",
              " 'sucks': 227,\n",
              " 'suggestions': 302,\n",
              " 'sushi': 203,\n",
              " 'takes': 144,\n",
              " 'taking': 295,\n",
              " 'talented': 175,\n",
              " 'talk': 254,\n",
              " 'tasty': 149,\n",
              " 'text': 111,\n",
              " 'that': 37,\n",
              " 'the': 4,\n",
              " 'they': 194,\n",
              " 'think': 162,\n",
              " 'this': 11,\n",
              " 'though': 235,\n",
              " 'throw': 268,\n",
              " 'to': 9,\n",
              " 'together': 207,\n",
              " 'tonight': 292,\n",
              " 'too': 66,\n",
              " 'totally': 284,\n",
              " 'traction': 185,\n",
              " 'two': 78,\n",
              " 'up': 164,\n",
              " 'upset': 267,\n",
              " 'us': 96,\n",
              " 'valentine': 256,\n",
              " 'vegetables': 242,\n",
              " 'very': 204,\n",
              " 'waiting': 190,\n",
              " 'wallet': 212,\n",
              " 'want': 21,\n",
              " 'was': 28,\n",
              " 'we': 76,\n",
              " 'well': 89,\n",
              " 'were': 245,\n",
              " 'what': 42,\n",
              " 'when': 192,\n",
              " 'where': 101,\n",
              " 'who': 80,\n",
              " 'why': 273,\n",
              " 'will': 34,\n",
              " 'with': 53,\n",
              " 'won': 131,\n",
              " 'work': 265,\n",
              " 'worked': 306,\n",
              " 'working': 59,\n",
              " 'worst': 105,\n",
              " 'wrong': 253,\n",
              " 'yes': 74,\n",
              " 'yesterday': 272,\n",
              " 'you': 2,\n",
              " 'your': 19,\n",
              " 'zero': 156}"
            ]
          },
          "metadata": {
            "tags": []
          },
          "execution_count": 29
        }
      ]
    },
    {
      "cell_type": "code",
      "metadata": {
        "id": "bEbdtJpRKp9Y",
        "colab_type": "code",
        "outputId": "b7f9f92e-2868-4871-ca3a-aab33cf4ea94",
        "colab": {
          "base_uri": "https://localhost:8080/",
          "height": 34
        }
      },
      "source": [
        "vocab_size=len(word_index)+1\n",
        "vocab_size"
      ],
      "execution_count": 30,
      "outputs": [
        {
          "output_type": "execute_result",
          "data": {
            "text/plain": [
              "319"
            ]
          },
          "metadata": {
            "tags": []
          },
          "execution_count": 30
        }
      ]
    },
    {
      "cell_type": "code",
      "metadata": {
        "id": "axQjycFHKcUf",
        "colab_type": "code",
        "colab": {}
      },
      "source": [
        "train_sequence=tokenizer.texts_to_sequences(x_train)\n",
        "train_padded=pad_sequences(train_sequence,maxlen=10)"
      ],
      "execution_count": 0,
      "outputs": []
    },
    {
      "cell_type": "code",
      "metadata": {
        "id": "lDC8mo_ILGS_",
        "colab_type": "code",
        "colab": {}
      },
      "source": [
        "test_sequence=tokenizer.texts_to_sequences(x_test)\n",
        "test_padded=pad_sequences(test_sequence,maxlen=10)"
      ],
      "execution_count": 0,
      "outputs": []
    },
    {
      "cell_type": "markdown",
      "metadata": {
        "id": "ga-zKeZHLNqw",
        "colab_type": "text"
      },
      "source": [
        "### Globe Embedding"
      ]
    },
    {
      "cell_type": "code",
      "metadata": {
        "id": "dIulF1WsLMiH",
        "colab_type": "code",
        "outputId": "521b2ae6-d7b1-421c-9635-d719a6b0b3a1",
        "colab": {
          "base_uri": "https://localhost:8080/",
          "height": 209
        }
      },
      "source": [
        "# This is the 100 dimension version of GloVe from Stanford\n",
        "# I am using a api for faster access\n",
        "!wget --no-check-certificate \\\n",
        "    https://storage.googleapis.com/laurencemoroney-blog.appspot.com/glove.6B.100d.txt \\\n",
        "    -O /tmp/glove.6B.100d.txt\n",
        "embeddings_index = {};\n",
        "with open('/tmp/glove.6B.100d.txt') as f:\n",
        "    for line in f:\n",
        "        values = line.split();\n",
        "        word = values[0];\n",
        "        coefs = np.asarray(values[1:], dtype='float32');\n",
        "        embeddings_index[word] = coefs;\n",
        "\n",
        "embeddings_matrix = np.zeros((vocab_size,100));\n",
        "for word, i in word_index.items():\n",
        "    embedding_vector = embeddings_index.get(word);\n",
        "    if embedding_vector is not None:\n",
        "        embeddings_matrix[i] = embedding_vector;"
      ],
      "execution_count": 33,
      "outputs": [
        {
          "output_type": "stream",
          "text": [
            "--2020-04-30 19:28:36--  https://storage.googleapis.com/laurencemoroney-blog.appspot.com/glove.6B.100d.txt\n",
            "Resolving storage.googleapis.com (storage.googleapis.com)... 108.177.119.128, 2a00:1450:4013:c05::80\n",
            "Connecting to storage.googleapis.com (storage.googleapis.com)|108.177.119.128|:443... connected.\n",
            "HTTP request sent, awaiting response... 200 OK\n",
            "Length: 347116733 (331M) [text/plain]\n",
            "Saving to: ‘/tmp/glove.6B.100d.txt’\n",
            "\n",
            "/tmp/glove.6B.100d. 100%[===================>] 331.04M  98.4MB/s    in 3.4s    \n",
            "\n",
            "2020-04-30 19:28:39 (98.4 MB/s) - ‘/tmp/glove.6B.100d.txt’ saved [347116733/347116733]\n",
            "\n"
          ],
          "name": "stdout"
        }
      ]
    },
    {
      "cell_type": "markdown",
      "metadata": {
        "id": "auDjlEiiMAJI",
        "colab_type": "text"
      },
      "source": [
        "### Building Model and Testing Accuracy\n"
      ]
    },
    {
      "cell_type": "markdown",
      "metadata": {
        "id": "IL9BydyqMEsX",
        "colab_type": "text"
      },
      "source": [
        "#### Single Layer Bidirectional LSTM\n"
      ]
    },
    {
      "cell_type": "code",
      "metadata": {
        "id": "FPgrJnKLL8tX",
        "colab_type": "code",
        "colab": {}
      },
      "source": [
        "model1=Sequential()"
      ],
      "execution_count": 0,
      "outputs": []
    },
    {
      "cell_type": "code",
      "metadata": {
        "id": "z-3FkEL_MP6q",
        "colab_type": "code",
        "colab": {}
      },
      "source": [
        "model1.add(Embedding(vocab_size,100,input_length=10,weights=[embeddings_matrix],trainable=False))\n",
        "model1.add(Dropout(0.3))\n",
        "model1.add(Bidirectional(LSTM(32)))\n",
        "model1.add(Dense(5,activation='softmax'))"
      ],
      "execution_count": 0,
      "outputs": []
    },
    {
      "cell_type": "code",
      "metadata": {
        "id": "0O6oE-iQNDzd",
        "colab_type": "code",
        "outputId": "69e8f3f2-28f9-41f6-a548-dcc10a72a93a",
        "colab": {
          "base_uri": "https://localhost:8080/",
          "height": 297
        }
      },
      "source": [
        "model1.summary()"
      ],
      "execution_count": 36,
      "outputs": [
        {
          "output_type": "stream",
          "text": [
            "Model: \"sequential\"\n",
            "_________________________________________________________________\n",
            "Layer (type)                 Output Shape              Param #   \n",
            "=================================================================\n",
            "embedding (Embedding)        (None, 10, 100)           31900     \n",
            "_________________________________________________________________\n",
            "dropout (Dropout)            (None, 10, 100)           0         \n",
            "_________________________________________________________________\n",
            "bidirectional (Bidirectional (None, 64)                34048     \n",
            "_________________________________________________________________\n",
            "dense (Dense)                (None, 5)                 325       \n",
            "=================================================================\n",
            "Total params: 66,273\n",
            "Trainable params: 34,373\n",
            "Non-trainable params: 31,900\n",
            "_________________________________________________________________\n"
          ],
          "name": "stdout"
        }
      ]
    },
    {
      "cell_type": "code",
      "metadata": {
        "id": "DzMdwUaJNG0J",
        "colab_type": "code",
        "colab": {}
      },
      "source": [
        "model1.compile(optimizer='adam',loss='categorical_crossentropy',metrics=['accuracy'])"
      ],
      "execution_count": 0,
      "outputs": []
    },
    {
      "cell_type": "code",
      "metadata": {
        "id": "jpJBPKc0Nl1j",
        "colab_type": "code",
        "outputId": "82cf32a5-c281-429f-d267-9ed9ad45e0e6",
        "colab": {
          "base_uri": "https://localhost:8080/",
          "height": 1000
        }
      },
      "source": [
        "history=model1.fit(train_padded,y_train_categorical,epochs=30,validation_data=(test_padded,y_test_categorical))"
      ],
      "execution_count": 38,
      "outputs": [
        {
          "output_type": "stream",
          "text": [
            "Epoch 1/30\n",
            "10/10 [==============================] - 1s 80ms/step - loss: 1.5601 - accuracy: 0.2508 - val_loss: 1.5069 - val_accuracy: 0.3036\n",
            "Epoch 2/30\n",
            "10/10 [==============================] - 0s 8ms/step - loss: 1.4476 - accuracy: 0.3651 - val_loss: 1.4229 - val_accuracy: 0.4286\n",
            "Epoch 3/30\n",
            "10/10 [==============================] - 0s 8ms/step - loss: 1.3752 - accuracy: 0.4444 - val_loss: 1.3524 - val_accuracy: 0.5000\n",
            "Epoch 4/30\n",
            "10/10 [==============================] - 0s 8ms/step - loss: 1.2860 - accuracy: 0.5206 - val_loss: 1.2763 - val_accuracy: 0.5357\n",
            "Epoch 5/30\n",
            "10/10 [==============================] - 0s 8ms/step - loss: 1.1871 - accuracy: 0.6222 - val_loss: 1.1829 - val_accuracy: 0.6250\n",
            "Epoch 6/30\n",
            "10/10 [==============================] - 0s 8ms/step - loss: 1.0817 - accuracy: 0.6508 - val_loss: 1.0812 - val_accuracy: 0.6071\n",
            "Epoch 7/30\n",
            "10/10 [==============================] - 0s 9ms/step - loss: 0.9449 - accuracy: 0.7206 - val_loss: 0.9885 - val_accuracy: 0.6250\n",
            "Epoch 8/30\n",
            "10/10 [==============================] - 0s 7ms/step - loss: 0.8382 - accuracy: 0.7365 - val_loss: 0.9204 - val_accuracy: 0.6786\n",
            "Epoch 9/30\n",
            "10/10 [==============================] - 0s 8ms/step - loss: 0.7318 - accuracy: 0.7841 - val_loss: 0.8403 - val_accuracy: 0.6429\n",
            "Epoch 10/30\n",
            "10/10 [==============================] - 0s 8ms/step - loss: 0.6483 - accuracy: 0.8063 - val_loss: 0.7633 - val_accuracy: 0.7143\n",
            "Epoch 11/30\n",
            "10/10 [==============================] - 0s 8ms/step - loss: 0.5762 - accuracy: 0.8381 - val_loss: 0.7267 - val_accuracy: 0.7321\n",
            "Epoch 12/30\n",
            "10/10 [==============================] - 0s 8ms/step - loss: 0.5133 - accuracy: 0.8190 - val_loss: 0.6442 - val_accuracy: 0.7500\n",
            "Epoch 13/30\n",
            "10/10 [==============================] - 0s 9ms/step - loss: 0.4917 - accuracy: 0.8254 - val_loss: 0.6420 - val_accuracy: 0.7500\n",
            "Epoch 14/30\n",
            "10/10 [==============================] - 0s 8ms/step - loss: 0.4379 - accuracy: 0.8571 - val_loss: 0.5567 - val_accuracy: 0.7679\n",
            "Epoch 15/30\n",
            "10/10 [==============================] - 0s 9ms/step - loss: 0.4508 - accuracy: 0.8540 - val_loss: 0.5550 - val_accuracy: 0.7679\n",
            "Epoch 16/30\n",
            "10/10 [==============================] - 0s 9ms/step - loss: 0.4115 - accuracy: 0.8508 - val_loss: 0.5582 - val_accuracy: 0.7679\n",
            "Epoch 17/30\n",
            "10/10 [==============================] - 0s 9ms/step - loss: 0.4061 - accuracy: 0.8825 - val_loss: 0.4725 - val_accuracy: 0.8750\n",
            "Epoch 18/30\n",
            "10/10 [==============================] - 0s 8ms/step - loss: 0.3552 - accuracy: 0.8825 - val_loss: 0.4500 - val_accuracy: 0.7857\n",
            "Epoch 19/30\n",
            "10/10 [==============================] - 0s 7ms/step - loss: 0.3234 - accuracy: 0.8889 - val_loss: 0.4626 - val_accuracy: 0.7857\n",
            "Epoch 20/30\n",
            "10/10 [==============================] - 0s 7ms/step - loss: 0.3191 - accuracy: 0.9048 - val_loss: 0.3673 - val_accuracy: 0.8750\n",
            "Epoch 21/30\n",
            "10/10 [==============================] - 0s 7ms/step - loss: 0.2806 - accuracy: 0.8921 - val_loss: 0.4502 - val_accuracy: 0.8036\n",
            "Epoch 22/30\n",
            "10/10 [==============================] - 0s 8ms/step - loss: 0.3039 - accuracy: 0.8984 - val_loss: 0.3654 - val_accuracy: 0.8393\n",
            "Epoch 23/30\n",
            "10/10 [==============================] - 0s 8ms/step - loss: 0.2516 - accuracy: 0.9175 - val_loss: 0.3229 - val_accuracy: 0.8750\n",
            "Epoch 24/30\n",
            "10/10 [==============================] - 0s 7ms/step - loss: 0.2381 - accuracy: 0.9333 - val_loss: 0.3643 - val_accuracy: 0.8393\n",
            "Epoch 25/30\n",
            "10/10 [==============================] - 0s 8ms/step - loss: 0.2638 - accuracy: 0.9048 - val_loss: 0.2808 - val_accuracy: 0.8929\n",
            "Epoch 26/30\n",
            "10/10 [==============================] - 0s 7ms/step - loss: 0.2465 - accuracy: 0.9143 - val_loss: 0.2674 - val_accuracy: 0.9107\n",
            "Epoch 27/30\n",
            "10/10 [==============================] - 0s 7ms/step - loss: 0.2262 - accuracy: 0.9143 - val_loss: 0.2652 - val_accuracy: 0.9107\n",
            "Epoch 28/30\n",
            "10/10 [==============================] - 0s 8ms/step - loss: 0.2123 - accuracy: 0.9238 - val_loss: 0.2501 - val_accuracy: 0.9286\n",
            "Epoch 29/30\n",
            "10/10 [==============================] - 0s 7ms/step - loss: 0.2030 - accuracy: 0.9302 - val_loss: 0.2444 - val_accuracy: 0.9107\n",
            "Epoch 30/30\n",
            "10/10 [==============================] - 0s 8ms/step - loss: 0.1788 - accuracy: 0.9460 - val_loss: 0.2266 - val_accuracy: 0.9464\n"
          ],
          "name": "stdout"
        }
      ]
    },
    {
      "cell_type": "code",
      "metadata": {
        "id": "TUW1LuJkN6KY",
        "colab_type": "code",
        "outputId": "e2ca84a1-8c48-4e6a-a3c3-63b2c3885046",
        "colab": {
          "base_uri": "https://localhost:8080/",
          "height": 374
        }
      },
      "source": [
        "fig,(ax1,ax2)=plt.subplots(nrows=1,ncols=2,figsize=(20,6))\n",
        "ax1.plot(history.history['accuracy'],label='train_accuracy')\n",
        "ax1.plot(history.history['val_accuracy'],label='test_accuracy')\n",
        "ax1.legend()\n",
        "ax2.plot(history.history['loss'],label='train_loss')\n",
        "ax2.plot(history.history['val_loss'],label='test_loss')\n",
        "ax2.legend()\n",
        "plt.show()"
      ],
      "execution_count": 39,
      "outputs": [
        {
          "output_type": "display_data",
          "data": {
            "image/png": "[encoded data removed]",
            "text/plain": [
              "<Figure size 1440x432 with 2 Axes>"
            ]
          },
          "metadata": {
            "tags": [],
            "needs_background": "light"
          }
        }
      ]
    },
    {
      "cell_type": "markdown",
      "metadata": {
        "id": "ypwM9_8QOc9U",
        "colab_type": "text"
      },
      "source": [
        "### Multi layer Bidirectional LSTM"
      ]
    },
    {
      "cell_type": "code",
      "metadata": {
        "id": "SAGlDNpqOhk5",
        "colab_type": "code",
        "colab": {}
      },
      "source": [
        "model2=Sequential()"
      ],
      "execution_count": 0,
      "outputs": []
    },
    {
      "cell_type": "code",
      "metadata": {
        "id": "Gmf7MUpKPz_f",
        "colab_type": "code",
        "colab": {}
      },
      "source": [
        "model2.add(Embedding(vocab_size,100,input_length=10,weights=[embeddings_matrix],trainable=False))\n",
        "model2.add(Dropout(0.3))\n",
        "model2.add(Bidirectional(LSTM(128,return_sequences=True)))\n",
        "model2.add(Dropout(0.3))\n",
        "model2.add(Bidirectional(LSTM(128)))\n",
        "model2.add(Dense(5,activation='softmax'))"
      ],
      "execution_count": 0,
      "outputs": []
    },
    {
      "cell_type": "code",
      "metadata": {
        "id": "vb61wLB2P_pu",
        "colab_type": "code",
        "outputId": "0c27e8d9-40a1-4f1d-8b95-e2a2b0dfa4a2",
        "colab": {
          "base_uri": "https://localhost:8080/",
          "height": 367
        }
      },
      "source": [
        "model2.summary()"
      ],
      "execution_count": 61,
      "outputs": [
        {
          "output_type": "stream",
          "text": [
            "Model: \"sequential_2\"\n",
            "_________________________________________________________________\n",
            "Layer (type)                 Output Shape              Param #   \n",
            "=================================================================\n",
            "embedding_2 (Embedding)      (None, 10, 100)           31900     \n",
            "_________________________________________________________________\n",
            "dropout_3 (Dropout)          (None, 10, 100)           0         \n",
            "_________________________________________________________________\n",
            "bidirectional_3 (Bidirection (None, 10, 256)           234496    \n",
            "_________________________________________________________________\n",
            "dropout_4 (Dropout)          (None, 10, 256)           0         \n",
            "_________________________________________________________________\n",
            "bidirectional_4 (Bidirection (None, 256)               394240    \n",
            "_________________________________________________________________\n",
            "dense_2 (Dense)              (None, 5)                 1285      \n",
            "=================================================================\n",
            "Total params: 661,921\n",
            "Trainable params: 630,021\n",
            "Non-trainable params: 31,900\n",
            "_________________________________________________________________\n"
          ],
          "name": "stdout"
        }
      ]
    },
    {
      "cell_type": "code",
      "metadata": {
        "id": "gb003YEGQFCR",
        "colab_type": "code",
        "colab": {}
      },
      "source": [
        "model2.compile(optimizer='adam',loss='categorical_crossentropy',metrics=['accuracy'])"
      ],
      "execution_count": 0,
      "outputs": []
    },
    {
      "cell_type": "code",
      "metadata": {
        "id": "QJuUItuyQIIy",
        "colab_type": "code",
        "outputId": "9522e771-ffd7-4eea-eb6a-02786e57838a",
        "colab": {
          "base_uri": "https://localhost:8080/",
          "height": 1000
        }
      },
      "source": [
        "history=model2.fit(train_padded,y_train_categorical,epochs=50,validation_data=(test_padded,y_test_categorical))"
      ],
      "execution_count": 63,
      "outputs": [
        {
          "output_type": "stream",
          "text": [
            "Epoch 1/50\n",
            "10/10 [==============================] - 1s 120ms/step - loss: 1.5362 - accuracy: 0.2444 - val_loss: 1.4019 - val_accuracy: 0.3571\n",
            "Epoch 2/50\n",
            "10/10 [==============================] - 0s 13ms/step - loss: 1.3006 - accuracy: 0.5143 - val_loss: 1.1530 - val_accuracy: 0.5893\n",
            "Epoch 3/50\n",
            "10/10 [==============================] - 0s 12ms/step - loss: 0.9309 - accuracy: 0.6730 - val_loss: 0.9855 - val_accuracy: 0.5357\n",
            "Epoch 4/50\n",
            "10/10 [==============================] - 0s 31ms/step - loss: 0.7069 - accuracy: 0.7397 - val_loss: 0.6746 - val_accuracy: 0.6964\n",
            "Epoch 5/50\n",
            "10/10 [==============================] - 0s 12ms/step - loss: 0.4872 - accuracy: 0.8190 - val_loss: 0.5136 - val_accuracy: 0.8036\n",
            "Epoch 6/50\n",
            "10/10 [==============================] - 0s 12ms/step - loss: 0.4177 - accuracy: 0.8444 - val_loss: 0.5344 - val_accuracy: 0.7679\n",
            "Epoch 7/50\n",
            "10/10 [==============================] - 0s 12ms/step - loss: 0.5374 - accuracy: 0.8000 - val_loss: 0.6254 - val_accuracy: 0.7500\n",
            "Epoch 8/50\n",
            "10/10 [==============================] - 0s 11ms/step - loss: 0.3868 - accuracy: 0.8444 - val_loss: 0.4428 - val_accuracy: 0.8393\n",
            "Epoch 9/50\n",
            "10/10 [==============================] - 0s 11ms/step - loss: 0.3501 - accuracy: 0.8730 - val_loss: 0.4496 - val_accuracy: 0.7857\n",
            "Epoch 10/50\n",
            "10/10 [==============================] - 0s 10ms/step - loss: 0.3113 - accuracy: 0.8857 - val_loss: 0.4873 - val_accuracy: 0.7679\n",
            "Epoch 11/50\n",
            "10/10 [==============================] - 0s 11ms/step - loss: 0.3679 - accuracy: 0.8635 - val_loss: 0.3953 - val_accuracy: 0.8571\n",
            "Epoch 12/50\n",
            "10/10 [==============================] - 0s 11ms/step - loss: 0.2874 - accuracy: 0.8825 - val_loss: 0.3197 - val_accuracy: 0.8929\n",
            "Epoch 13/50\n",
            "10/10 [==============================] - 0s 11ms/step - loss: 0.2895 - accuracy: 0.9048 - val_loss: 0.3875 - val_accuracy: 0.8393\n",
            "Epoch 14/50\n",
            "10/10 [==============================] - 0s 10ms/step - loss: 0.3102 - accuracy: 0.8889 - val_loss: 0.2740 - val_accuracy: 0.9286\n",
            "Epoch 15/50\n",
            "10/10 [==============================] - 0s 11ms/step - loss: 0.2840 - accuracy: 0.9143 - val_loss: 0.2462 - val_accuracy: 0.9107\n",
            "Epoch 16/50\n",
            "10/10 [==============================] - 0s 10ms/step - loss: 0.1711 - accuracy: 0.9460 - val_loss: 0.2699 - val_accuracy: 0.9286\n",
            "Epoch 17/50\n",
            "10/10 [==============================] - 0s 11ms/step - loss: 0.1805 - accuracy: 0.9429 - val_loss: 0.2766 - val_accuracy: 0.9107\n",
            "Epoch 18/50\n",
            "10/10 [==============================] - 0s 11ms/step - loss: 0.1408 - accuracy: 0.9556 - val_loss: 0.2385 - val_accuracy: 0.9286\n",
            "Epoch 19/50\n",
            "10/10 [==============================] - 0s 12ms/step - loss: 0.1483 - accuracy: 0.9524 - val_loss: 0.2048 - val_accuracy: 0.9286\n",
            "Epoch 20/50\n",
            "10/10 [==============================] - 0s 12ms/step - loss: 0.1887 - accuracy: 0.9333 - val_loss: 0.2011 - val_accuracy: 0.9464\n",
            "Epoch 21/50\n",
            "10/10 [==============================] - 0s 14ms/step - loss: 0.1468 - accuracy: 0.9524 - val_loss: 0.2312 - val_accuracy: 0.9286\n",
            "Epoch 22/50\n",
            "10/10 [==============================] - 0s 13ms/step - loss: 0.1460 - accuracy: 0.9524 - val_loss: 0.2227 - val_accuracy: 0.9286\n",
            "Epoch 23/50\n",
            "10/10 [==============================] - 0s 12ms/step - loss: 0.1644 - accuracy: 0.9460 - val_loss: 0.1814 - val_accuracy: 0.9464\n",
            "Epoch 24/50\n",
            "10/10 [==============================] - 0s 13ms/step - loss: 0.1630 - accuracy: 0.9397 - val_loss: 0.2270 - val_accuracy: 0.9286\n",
            "Epoch 25/50\n",
            "10/10 [==============================] - 0s 12ms/step - loss: 0.1853 - accuracy: 0.9238 - val_loss: 0.1786 - val_accuracy: 0.9464\n",
            "Epoch 26/50\n",
            "10/10 [==============================] - 0s 12ms/step - loss: 0.1178 - accuracy: 0.9587 - val_loss: 0.1615 - val_accuracy: 0.9643\n",
            "Epoch 27/50\n",
            "10/10 [==============================] - 0s 11ms/step - loss: 0.0887 - accuracy: 0.9619 - val_loss: 0.1672 - val_accuracy: 0.9643\n",
            "Epoch 28/50\n",
            "10/10 [==============================] - 0s 12ms/step - loss: 0.0831 - accuracy: 0.9778 - val_loss: 0.1620 - val_accuracy: 0.9643\n",
            "Epoch 29/50\n",
            "10/10 [==============================] - 0s 12ms/step - loss: 0.1246 - accuracy: 0.9492 - val_loss: 0.2921 - val_accuracy: 0.8571\n",
            "Epoch 30/50\n",
            "10/10 [==============================] - 0s 12ms/step - loss: 0.1528 - accuracy: 0.9492 - val_loss: 0.3166 - val_accuracy: 0.9286\n",
            "Epoch 31/50\n",
            "10/10 [==============================] - 0s 12ms/step - loss: 0.0602 - accuracy: 0.9841 - val_loss: 0.2015 - val_accuracy: 0.9464\n",
            "Epoch 32/50\n",
            "10/10 [==============================] - 0s 11ms/step - loss: 0.1173 - accuracy: 0.9651 - val_loss: 0.2393 - val_accuracy: 0.9464\n",
            "Epoch 33/50\n",
            "10/10 [==============================] - 0s 11ms/step - loss: 0.0727 - accuracy: 0.9746 - val_loss: 0.1889 - val_accuracy: 0.9643\n",
            "Epoch 34/50\n",
            "10/10 [==============================] - 0s 11ms/step - loss: 0.0895 - accuracy: 0.9714 - val_loss: 0.1756 - val_accuracy: 0.9643\n",
            "Epoch 35/50\n",
            "10/10 [==============================] - 0s 11ms/step - loss: 0.0772 - accuracy: 0.9778 - val_loss: 0.1801 - val_accuracy: 0.9643\n",
            "Epoch 36/50\n",
            "10/10 [==============================] - 0s 11ms/step - loss: 0.0684 - accuracy: 0.9810 - val_loss: 0.1886 - val_accuracy: 0.9643\n",
            "Epoch 37/50\n",
            "10/10 [==============================] - 0s 11ms/step - loss: 0.0492 - accuracy: 0.9873 - val_loss: 0.1691 - val_accuracy: 0.9643\n",
            "Epoch 38/50\n",
            "10/10 [==============================] - 0s 12ms/step - loss: 0.0624 - accuracy: 0.9810 - val_loss: 0.1936 - val_accuracy: 0.9643\n",
            "Epoch 39/50\n",
            "10/10 [==============================] - 0s 11ms/step - loss: 0.0612 - accuracy: 0.9746 - val_loss: 0.2004 - val_accuracy: 0.9643\n",
            "Epoch 40/50\n",
            "10/10 [==============================] - 0s 13ms/step - loss: 0.0479 - accuracy: 0.9810 - val_loss: 0.2083 - val_accuracy: 0.9643\n",
            "Epoch 41/50\n",
            "10/10 [==============================] - 0s 13ms/step - loss: 0.0330 - accuracy: 0.9873 - val_loss: 0.1889 - val_accuracy: 0.9643\n",
            "Epoch 42/50\n",
            "10/10 [==============================] - 0s 11ms/step - loss: 0.0373 - accuracy: 0.9873 - val_loss: 0.1725 - val_accuracy: 0.9643\n",
            "Epoch 43/50\n",
            "10/10 [==============================] - 0s 12ms/step - loss: 0.0620 - accuracy: 0.9714 - val_loss: 0.2012 - val_accuracy: 0.9643\n",
            "Epoch 44/50\n",
            "10/10 [==============================] - 0s 12ms/step - loss: 0.0528 - accuracy: 0.9778 - val_loss: 0.1647 - val_accuracy: 0.9643\n",
            "Epoch 45/50\n",
            "10/10 [==============================] - 0s 13ms/step - loss: 0.0789 - accuracy: 0.9778 - val_loss: 0.1585 - val_accuracy: 0.9643\n",
            "Epoch 46/50\n",
            "10/10 [==============================] - 0s 12ms/step - loss: 0.0568 - accuracy: 0.9873 - val_loss: 0.1634 - val_accuracy: 0.9643\n",
            "Epoch 47/50\n",
            "10/10 [==============================] - 0s 13ms/step - loss: 0.0807 - accuracy: 0.9651 - val_loss: 0.1820 - val_accuracy: 0.9643\n",
            "Epoch 48/50\n",
            "10/10 [==============================] - 0s 13ms/step - loss: 0.0578 - accuracy: 0.9810 - val_loss: 0.2095 - val_accuracy: 0.9643\n",
            "Epoch 49/50\n",
            "10/10 [==============================] - 0s 12ms/step - loss: 0.0437 - accuracy: 0.9841 - val_loss: 0.2093 - val_accuracy: 0.9643\n",
            "Epoch 50/50\n",
            "10/10 [==============================] - 0s 13ms/step - loss: 0.0713 - accuracy: 0.9778 - val_loss: 0.1897 - val_accuracy: 0.9643\n"
          ],
          "name": "stdout"
        }
      ]
    },
    {
      "cell_type": "code",
      "metadata": {
        "id": "4mcidir0QNCw",
        "colab_type": "code",
        "outputId": "78b66310-1926-430b-a5b9-707a6b0d38a4",
        "colab": {
          "base_uri": "https://localhost:8080/",
          "height": 376
        }
      },
      "source": [
        "fig,(ax1,ax2)=plt.subplots(nrows=1,ncols=2,figsize=(20,6))\n",
        "ax1.plot(history.history['accuracy'],label='train_accuracy')\n",
        "ax1.plot(history.history['val_accuracy'],label='test_accuracy')\n",
        "ax1.legend()\n",
        "ax2.plot(history.history['loss'],label='train_loss')\n",
        "ax2.plot(history.history['val_loss'],label='test_loss')\n",
        "ax2.legend()\n",
        "plt.show()"
      ],
      "execution_count": 64,
      "outputs": [
        {
          "output_type": "display_data",
          "data": {
            "image/png": "[encoded data removed]",
            "text/plain": [
              "<Figure size 1440x432 with 2 Axes>"
            ]
          },
          "metadata": {
            "tags": [],
            "needs_background": "light"
          }
        }
      ]
    },
    {
      "cell_type": "markdown",
      "metadata": {
        "id": "YoavwPStQnKG",
        "colab_type": "text"
      },
      "source": [
        "### Multilayer Bidirectional LSTM is a better model and gives a good accuracy of 96%"
      ]
    },
    {
      "cell_type": "code",
      "metadata": {
        "id": "coKppUu-ZAzD",
        "colab_type": "code",
        "colab": {}
      },
      "source": [
        "prediction=model2.predict_classes(test_padded)"
      ],
      "execution_count": 0,
      "outputs": []
    },
    {
      "cell_type": "code",
      "metadata": {
        "id": "02A9pWPQZUvp",
        "colab_type": "code",
        "outputId": "0520de39-7bd2-4438-ac1b-00bdabd0dd6c",
        "colab": {
          "base_uri": "https://localhost:8080/",
          "height": 227
        }
      },
      "source": [
        "print(classification_report(y_test,prediction))"
      ],
      "execution_count": 66,
      "outputs": [
        {
          "output_type": "stream",
          "text": [
            "              precision    recall  f1-score   support\n",
            "\n",
            "           0       1.00      0.92      0.96        12\n",
            "           1       1.00      1.00      1.00         5\n",
            "           2       0.95      1.00      0.97        18\n",
            "           3       0.93      0.93      0.93        15\n",
            "           4       1.00      1.00      1.00         6\n",
            "\n",
            "    accuracy                           0.96        56\n",
            "   macro avg       0.98      0.97      0.97        56\n",
            "weighted avg       0.97      0.96      0.96        56\n",
            "\n"
          ],
          "name": "stdout"
        }
      ]
    },
    {
      "cell_type": "code",
      "metadata": {
        "id": "kU_2wfcuZmqv",
        "colab_type": "code",
        "outputId": "cc73b6bf-f31d-492d-f8aa-92d349084a34",
        "colab": {
          "base_uri": "https://localhost:8080/",
          "height": 104
        }
      },
      "source": [
        "confusion_matrix(y_test,prediction)"
      ],
      "execution_count": 67,
      "outputs": [
        {
          "output_type": "execute_result",
          "data": {
            "text/plain": [
              "array([[11,  0,  0,  1,  0],\n",
              "       [ 0,  5,  0,  0,  0],\n",
              "       [ 0,  0, 18,  0,  0],\n",
              "       [ 0,  0,  1, 14,  0],\n",
              "       [ 0,  0,  0,  0,  6]])"
            ]
          },
          "metadata": {
            "tags": []
          },
          "execution_count": 67
        }
      ]
    },
    {
      "cell_type": "markdown",
      "metadata": {
        "id": "eweQs7uxQ0yS",
        "colab_type": "text"
      },
      "source": [
        "### Predicting With some new values"
      ]
    },
    {
      "cell_type": "code",
      "metadata": {
        "id": "r4tDVbxfWaMC",
        "colab_type": "code",
        "colab": {}
      },
      "source": [
        "emoji_dict={0:['heart',':heart:'],1:['baseball',':baseball:'],2:['smile',':smile:'],3:['disappoined',':disappointed:'],4:['fork and knife',':fork_and_knife:']}"
      ],
      "execution_count": 0,
      "outputs": []
    },
    {
      "cell_type": "code",
      "metadata": {
        "id": "X7C4FwqdQlm0",
        "colab_type": "code",
        "outputId": "b503764d-3a09-4a3c-de3f-cb4a173a7d2f",
        "colab": {
          "base_uri": "https://localhost:8080/",
          "height": 34
        }
      },
      "source": [
        "text=x_test[8]\n",
        "text"
      ],
      "execution_count": 69,
      "outputs": [
        {
          "output_type": "execute_result",
          "data": {
            "text/plain": [
              "'Stop making this joke ha ha ha'"
            ]
          },
          "metadata": {
            "tags": []
          },
          "execution_count": 69
        }
      ]
    },
    {
      "cell_type": "code",
      "metadata": {
        "id": "GaTjheOwYk4S",
        "colab_type": "code",
        "outputId": "02fbabd8-6c0d-4231-c567-1bfc633127c6",
        "colab": {
          "base_uri": "https://localhost:8080/",
          "height": 34
        }
      },
      "source": [
        "y_test[8]"
      ],
      "execution_count": 70,
      "outputs": [
        {
          "output_type": "execute_result",
          "data": {
            "text/plain": [
              "2"
            ]
          },
          "metadata": {
            "tags": []
          },
          "execution_count": 70
        }
      ]
    },
    {
      "cell_type": "code",
      "metadata": {
        "id": "QWWZeJy1bTDn",
        "colab_type": "code",
        "colab": {}
      },
      "source": [
        "def predict(text):\n",
        "  text_sequence=tokenizer.texts_to_sequences([text])\n",
        "  text_padded=pad_sequences(text_sequence,maxlen=30)\n",
        "  prediction=model2.predict_classes(text_padded)\n",
        "  x=prediction[0]\n",
        "  print(emoji_dict[x][0])\n",
        "  print(emoji.emojize(emoji_dict[x][1], use_aliases=True))"
      ],
      "execution_count": 0,
      "outputs": []
    },
    {
      "cell_type": "code",
      "metadata": {
        "id": "Vyvtt8rKbpda",
        "colab_type": "code",
        "outputId": "9c17af44-93f7-49e6-9cb4-ee383111f248",
        "colab": {
          "base_uri": "https://localhost:8080/",
          "height": 89
        }
      },
      "source": [
        "ans=predict(text)\n",
        "ans"
      ],
      "execution_count": 72,
      "outputs": [
        {
          "output_type": "stream",
          "text": [
            "WARNING:tensorflow:Model was constructed with shape (None, 10) for input Tensor(\"embedding_2_input:0\", shape=(None, 10), dtype=float32), but it was called on an input with incompatible shape (None, 30).\n",
            "smile\n",
            "😄\n"
          ],
          "name": "stdout"
        }
      ]
    },
    {
      "cell_type": "markdown",
      "metadata": {
        "id": "JW6RveKlnS81",
        "colab_type": "text"
      },
      "source": [
        "### Predicting New Values"
      ]
    },
    {
      "cell_type": "code",
      "metadata": {
        "id": "0n37Sm6MgS0C",
        "colab_type": "code",
        "outputId": "57b6ac6f-126b-4d12-d06d-d876b42cc156",
        "colab": {
          "base_uri": "https://localhost:8080/",
          "height": 52
        }
      },
      "source": [
        "msg='you brighten my day'\n",
        "ans=predict(msg)\n",
        "ans"
      ],
      "execution_count": 73,
      "outputs": [
        {
          "output_type": "stream",
          "text": [
            "smile\n",
            "😄\n"
          ],
          "name": "stdout"
        }
      ]
    },
    {
      "cell_type": "code",
      "metadata": {
        "id": "ySBOYvAnmb_i",
        "colab_type": "code",
        "outputId": "2761bc36-dc92-4113-8fd5-fb74b9b9eaf3",
        "colab": {
          "base_uri": "https://localhost:8080/",
          "height": 52
        }
      },
      "source": [
        "msg='she got me a nice present'\n",
        "ans=predict(msg)\n",
        "ans"
      ],
      "execution_count": 74,
      "outputs": [
        {
          "output_type": "stream",
          "text": [
            "heart\n",
            "❤\n"
          ],
          "name": "stdout"
        }
      ]
    },
    {
      "cell_type": "code",
      "metadata": {
        "id": "qeWqcpJ5mxd_",
        "colab_type": "code",
        "outputId": "167966e0-18f2-4402-e662-c84bdc4b3e17",
        "colab": {
          "base_uri": "https://localhost:8080/",
          "height": 52
        }
      },
      "source": [
        "msg='This girl is messing with me'\n",
        "ans=predict(msg)\n",
        "ans"
      ],
      "execution_count": 75,
      "outputs": [
        {
          "output_type": "stream",
          "text": [
            "disappoined\n",
            "😞\n"
          ],
          "name": "stdout"
        }
      ]
    },
    {
      "cell_type": "code",
      "metadata": {
        "id": "Jrlbeeo5nJk1",
        "colab_type": "code",
        "outputId": "8cfd7442-abd3-4341-8e63-3cfe12cd7592",
        "colab": {
          "base_uri": "https://localhost:8080/",
          "height": 52
        }
      },
      "source": [
        "msg='will you be my valentine'\n",
        "ans=predict(msg)\n",
        "ans"
      ],
      "execution_count": 76,
      "outputs": [
        {
          "output_type": "stream",
          "text": [
            "heart\n",
            "❤\n"
          ],
          "name": "stdout"
        }
      ]
    },
    {
      "cell_type": "code",
      "metadata": {
        "id": "5_AHBIgSZdPm",
        "colab_type": "code",
        "colab": {
          "base_uri": "https://localhost:8080/",
          "height": 52
        },
        "outputId": "aa858d58-bc4d-4b95-de5a-5ff8c80dc5f5"
      },
      "source": [
        "msg='Honey lets go out for a date'\n",
        "ans=predict(msg)\n",
        "ans"
      ],
      "execution_count": 77,
      "outputs": [
        {
          "output_type": "stream",
          "text": [
            "fork and knife\n",
            "🍴\n"
          ],
          "name": "stdout"
        }
      ]
    }
  ]
}